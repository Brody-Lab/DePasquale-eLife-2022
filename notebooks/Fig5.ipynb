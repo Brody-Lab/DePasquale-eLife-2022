{
 "cells": [
  {
   "cell_type": "code",
   "execution_count": 1,
   "metadata": {},
   "outputs": [],
   "source": [
    "using Distributed\n",
    "addprocs(44);"
   ]
  },
  {
   "cell_type": "code",
   "execution_count": 2,
   "metadata": {},
   "outputs": [],
   "source": [
    "using PulseInputDDM, MAT, LinearAlgebra, Flatten"
   ]
  },
  {
   "cell_type": "code",
   "execution_count": 3,
   "metadata": {},
   "outputs": [],
   "source": [
    "x_joint = Vector(undef, 3);"
   ]
  },
  {
   "cell_type": "code",
   "execution_count": 4,
   "metadata": {},
   "outputs": [],
   "source": [
    "ratnames = [\"B068\",\"T034\",\"T036\",\"T063\",\"T030\", \"T035\",\"T011\",\"B053\", \"T080\",\"T103\",\"E021\"];\n",
    "dt, n, cross = 1e-2, 53, false\n",
    "data_path = joinpath(abspath(joinpath(pwd(), \"..\")), \"data/by_session\")\n",
    "joint_model_path = joinpath(abspath(joinpath(pwd(), \"..\")), \"models/joint\");"
   ]
  },
  {
   "cell_type": "markdown",
   "metadata": {},
   "source": [
    "# Load the data and model parameters"
   ]
  },
  {
   "cell_type": "markdown",
   "metadata": {},
   "source": [
    "## FOF"
   ]
  },
  {
   "cell_type": "code",
   "execution_count": 5,
   "metadata": {},
   "outputs": [],
   "source": [
    "region, delay = \"FOF\", 6\n",
    "ratnum = 1:5\n",
    "rat = ratnames[ratnum]\n",
    "sessions = vcat(map(rat-> filter(x->occursin(rat,x), readdir(data_path)), rat)...);\n",
    "data, = load_neural_data(joinpath.(data_path, sessions), pcut=0.01, pad=20, delay=delay, dt=dt, filtSD=5,\n",
    "    do_RBF=true);"
   ]
  },
  {
   "cell_type": "code",
   "execution_count": 6,
   "metadata": {},
   "outputs": [],
   "source": [
    "file = joinpath(joint_model_path, \"Fig2-FOF.mat\")\n",
    "f = string.(read(matopen(file), \"f\"))\n",
    "ncells = collect(read(matopen(file), \"ncells\"))\n",
    "nparams = read(matopen(file), \"nparams\")\n",
    "xf = read(matopen(file), \"ML_params\")\n",
    "borg = vcat(0,cumsum(ncells, dims=1))\n",
    "nparams = [nparams[i] for i in [borg[i-1]+1:borg[i] for i in 2:length(borg)]]\n",
    "f = [f[i] for i in [borg[i-1]+1:borg[i] for i in 2:length(borg)]];   \n",
    "x_joint[1] = xf;\n",
    "joint_model_FOF = neural_choiceDDM(θneural_choice(xf, f), data, n, cross);"
   ]
  },
  {
   "cell_type": "code",
   "execution_count": 7,
   "metadata": {},
   "outputs": [],
   "source": [
    "choice_inputs = map(x-> PulseInputDDM.choiceinputs(clicks=x.clicks, binned_clicks=x.binned_clicks, \n",
    "    dt=dt, centered=false), getfield.(vcat(data...), :input_data));\n",
    "choice_data = PulseInputDDM.choicedata.(choice_inputs, getfield.(vcat(data...), :choice));\n",
    "choice_model_FOF = choiceDDM(θ=Flatten.reconstruct(θchoice(), x_joint[1][1:9]), data=choice_data, n=n, cross=cross);"
   ]
  },
  {
   "cell_type": "markdown",
   "metadata": {},
   "source": [
    "## PPC"
   ]
  },
  {
   "cell_type": "code",
   "execution_count": 8,
   "metadata": {},
   "outputs": [],
   "source": [
    "region, delay = \"PPC\", 12\n",
    "ratnum = 6:8\n",
    "rat = ratnames[ratnum]\n",
    "sessions = vcat(map(rat-> filter(x->occursin(rat,x), readdir(data_path)), rat)...);\n",
    "data, = load_neural_data(joinpath.(data_path, sessions), pcut=0.01, pad=20, delay=delay, dt=dt, filtSD=5,\n",
    "    do_RBF=true);"
   ]
  },
  {
   "cell_type": "code",
   "execution_count": 9,
   "metadata": {},
   "outputs": [],
   "source": [
    "file = joinpath(joint_model_path, \"Fig2-PPC.mat\")\n",
    "f = string.(read(matopen(file), \"f\"))\n",
    "ncells = collect(read(matopen(file), \"ncells\"))\n",
    "nparams = read(matopen(file), \"nparams\")\n",
    "xf = read(matopen(file), \"ML_params\")\n",
    "borg = vcat(0,cumsum(ncells, dims=1))\n",
    "nparams = [nparams[i] for i in [borg[i-1]+1:borg[i] for i in 2:length(borg)]]\n",
    "f = [f[i] for i in [borg[i-1]+1:borg[i] for i in 2:length(borg)]];   \n",
    "x_joint[2] = xf;\n",
    "joint_model_PPC = neural_choiceDDM(θneural_choice(xf, f), data, n, cross);"
   ]
  },
  {
   "cell_type": "code",
   "execution_count": 10,
   "metadata": {},
   "outputs": [],
   "source": [
    "choice_inputs = map(x-> PulseInputDDM.choiceinputs(clicks=x.clicks, binned_clicks=x.binned_clicks, \n",
    "    dt=dt, centered=false), getfield.(vcat(data...), :input_data));\n",
    "choice_data = PulseInputDDM.choicedata.(choice_inputs, getfield.(vcat(data...), :choice));\n",
    "choice_model_PPC = choiceDDM(θ=Flatten.reconstruct(θchoice(), x_joint[2][1:9]), data=choice_data, n=n, cross=cross);"
   ]
  },
  {
   "cell_type": "markdown",
   "metadata": {},
   "source": [
    "## ADS"
   ]
  },
  {
   "cell_type": "code",
   "execution_count": 11,
   "metadata": {},
   "outputs": [],
   "source": [
    "region, delay = \"ADS\", 6\n",
    "ratnum = 9:11\n",
    "rat = ratnames[ratnum]\n",
    "save_path = ENV[\"HOME\"]*\"/Projects/briandepasquale/bdd_work/analysis/joint/paper\"\n",
    "sessions = vcat(map(rat-> filter(x->occursin(rat,x), readdir(data_path)), rat)...);\n",
    "data, = load_neural_data(joinpath.(data_path, sessions), pcut=0.01, pad=20, delay=delay, dt=dt, filtSD=5,\n",
    "    do_RBF=true);"
   ]
  },
  {
   "cell_type": "code",
   "execution_count": 12,
   "metadata": {},
   "outputs": [],
   "source": [
    "file = joinpath(joint_model_path, \"Fig2-ADS.mat\")\n",
    "f = string.(read(matopen(file), \"f\"))\n",
    "ncells = collect(read(matopen(file), \"ncells\"))\n",
    "nparams = read(matopen(file), \"nparams\")\n",
    "xf = read(matopen(file), \"ML_params\")\n",
    "borg = vcat(0,cumsum(ncells, dims=1))\n",
    "nparams = [nparams[i] for i in [borg[i-1]+1:borg[i] for i in 2:length(borg)]]\n",
    "f = [f[i] for i in [borg[i-1]+1:borg[i] for i in 2:length(borg)]];   \n",
    "x_joint[3] = xf;\n",
    "joint_model_STR = neural_choiceDDM(θneural_choice(xf, f), data, n, cross);"
   ]
  },
  {
   "cell_type": "code",
   "execution_count": 13,
   "metadata": {},
   "outputs": [],
   "source": [
    "choice_inputs = map(x-> PulseInputDDM.choiceinputs(clicks=x.clicks, binned_clicks=x.binned_clicks, \n",
    "    dt=dt, centered=false), getfield.(vcat(data...), :input_data));\n",
    "choice_data = PulseInputDDM.choicedata.(choice_inputs, getfield.(vcat(data...), :choice));\n",
    "choice_model_STR = choiceDDM(θ=Flatten.reconstruct(θchoice(), x_joint[3][1:9]), data=choice_data, n=n, cross=cross);"
   ]
  },
  {
   "cell_type": "markdown",
   "metadata": {},
   "source": [
    "## Compute posteriors"
   ]
  },
  {
   "cell_type": "code",
   "execution_count": 14,
   "metadata": {},
   "outputs": [],
   "source": [
    "import PulseInputDDM: posterior"
   ]
  },
  {
   "cell_type": "code",
   "execution_count": 15,
   "metadata": {},
   "outputs": [],
   "source": [
    "output = posterior(choice_model_FOF);\n",
    "choice_post_FOF = map(x-> x[1] .* x[2], output);\n",
    "output = posterior(joint_model_FOF);\n",
    "output = vcat(output...);\n",
    "xc_FOF = output[1][3];\n",
    "joint_post_FOF = map(x-> x[1] .* x[2], output);"
   ]
  },
  {
   "cell_type": "code",
   "execution_count": 16,
   "metadata": {},
   "outputs": [],
   "source": [
    "output = posterior(choice_model_PPC);\n",
    "choice_post_PPC = map(x-> x[1] .* x[2], output);\n",
    "output = posterior(joint_model_PPC);\n",
    "output = vcat(output...);\n",
    "xc_PPC = output[1][3];\n",
    "joint_post_PPC = map(x-> x[1] .* x[2], output);"
   ]
  },
  {
   "cell_type": "code",
   "execution_count": 17,
   "metadata": {},
   "outputs": [],
   "source": [
    "output = posterior(choice_model_STR);\n",
    "choice_post_STR = map(x-> x[1] .* x[2], output);\n",
    "output = posterior(joint_model_STR);\n",
    "output = vcat(output...);\n",
    "xc_STR = output[1][3];\n",
    "joint_post_STR = map(x-> x[1] .* x[2], output);"
   ]
  },
  {
   "cell_type": "markdown",
   "metadata": {},
   "source": [
    "## Find nice trials to look at\n",
    "\n",
    "Want difference in std. to be large, longer-ish trial, and hopefully not just hitting the bound"
   ]
  },
  {
   "cell_type": "code",
   "execution_count": 18,
   "metadata": {},
   "outputs": [],
   "source": [
    "using Statistics"
   ]
  },
  {
   "cell_type": "code",
   "execution_count": 19,
   "metadata": {},
   "outputs": [],
   "source": [
    "xidxs = 1:n;"
   ]
  },
  {
   "cell_type": "code",
   "execution_count": 20,
   "metadata": {},
   "outputs": [],
   "source": [
    "var_choice_PPC = map(x-> vec(mapslices(x-> x' * ((xc_PPC[xidxs] .- (x' * xc_PPC[xidxs])).^2), x[xidxs,:], dims=1)), choice_post_PPC);\n",
    "var_joint_PPC = map(x-> vec(mapslices(x-> x' * ((xc_PPC[xidxs] .- (x' * xc_PPC[xidxs])).^2), x[xidxs,21:end-19], dims=1)), joint_post_PPC);"
   ]
  },
  {
   "cell_type": "code",
   "execution_count": 21,
   "metadata": {},
   "outputs": [],
   "source": [
    "var_choice_STR = map(x-> vec(mapslices(x-> x' * ((xc_STR[xidxs] .- (x' * xc_STR[xidxs])).^2), x[xidxs,:], dims=1)), choice_post_STR);\n",
    "var_joint_STR = map(x-> vec(mapslices(x-> x' * ((xc_STR[xidxs] .- (x' * xc_STR[xidxs])).^2), x[xidxs,21:end-19], dims=1)), joint_post_STR);"
   ]
  },
  {
   "cell_type": "code",
   "execution_count": 22,
   "metadata": {},
   "outputs": [],
   "source": [
    "var_choice_FOF = map(x-> vec(mapslices(x-> x' * ((xc_FOF[xidxs] .- (x' * xc_FOF[xidxs])).^2), x[xidxs,:], dims=1)), choice_post_FOF);\n",
    "var_joint_FOF = map(x-> vec(mapslices(x-> x' * ((xc_FOF[xidxs] .- (x' * xc_FOF[xidxs])).^2), x[xidxs,27:end-14], dims=1)), joint_post_FOF);"
   ]
  },
  {
   "cell_type": "code",
   "execution_count": 23,
   "metadata": {},
   "outputs": [],
   "source": [
    "mean_joint_FOF = map(x-> vec(mapslices(x-> x' * xc_FOF[xidxs], x[xidxs,27:end-14], dims=1)), joint_post_FOF);"
   ]
  },
  {
   "cell_type": "code",
   "execution_count": 24,
   "metadata": {},
   "outputs": [],
   "source": [
    "mean_choice_FOF = map(x-> vec(mapslices(x-> x' * xc_FOF[xidxs], x[xidxs,:], dims=1)), choice_post_FOF);"
   ]
  },
  {
   "cell_type": "code",
   "execution_count": 25,
   "metadata": {},
   "outputs": [],
   "source": [
    "mvFOF = var.(mean_joint_FOF);"
   ]
  },
  {
   "cell_type": "code",
   "execution_count": 26,
   "metadata": {},
   "outputs": [],
   "source": [
    "mmFOF = mean.(mean_choice_FOF);"
   ]
  },
  {
   "cell_type": "code",
   "execution_count": 27,
   "metadata": {},
   "outputs": [],
   "source": [
    "mm_choice_FOF = mean.(mean_joint_FOF);"
   ]
  },
  {
   "cell_type": "code",
   "execution_count": 28,
   "metadata": {},
   "outputs": [],
   "source": [
    "idxsFOF = findall((abs.(mmFOF) .< 5.5) .& (abs.(mm_choice_FOF) .< 5.5) .& \n",
    "    (mean.(var_choice_FOF) - mean.(var_joint_FOF) .> 4.5) \n",
    "    .& (length.(var_choice_FOF) .> 80));"
   ]
  },
  {
   "cell_type": "code",
   "execution_count": 29,
   "metadata": {},
   "outputs": [],
   "source": [
    "mean_choice_PPC = map(x-> vec(mapslices(x-> x' * xc_PPC[xidxs], x[xidxs,:], dims=1)), choice_post_PPC);"
   ]
  },
  {
   "cell_type": "code",
   "execution_count": 30,
   "metadata": {},
   "outputs": [],
   "source": [
    "mean_joint_PPC = map(x-> vec(mapslices(x-> x' * xc_PPC[xidxs], x[xidxs,27:end-14], dims=1)), joint_post_PPC);"
   ]
  },
  {
   "cell_type": "code",
   "execution_count": 31,
   "metadata": {},
   "outputs": [],
   "source": [
    "mvPPC = var.(mean_joint_PPC);"
   ]
  },
  {
   "cell_type": "code",
   "execution_count": 32,
   "metadata": {},
   "outputs": [],
   "source": [
    "mmPPC = mean.(mean_choice_PPC);"
   ]
  },
  {
   "cell_type": "code",
   "execution_count": 33,
   "metadata": {},
   "outputs": [],
   "source": [
    "mm_choice_PPC = mean.(mean_joint_PPC);"
   ]
  },
  {
   "cell_type": "code",
   "execution_count": 34,
   "metadata": {},
   "outputs": [],
   "source": [
    "idxsPPC = findall((abs.(mmPPC) .< 5.5) .& (abs.(mm_choice_PPC) .< 5.5) .& \n",
    "    (mean.(var_choice_PPC) - mean.(var_joint_PPC) .> 10.5) \n",
    "    .& (length.(var_choice_PPC) .> 70));"
   ]
  },
  {
   "cell_type": "markdown",
   "metadata": {},
   "source": [
    "## Plot"
   ]
  },
  {
   "cell_type": "code",
   "execution_count": 35,
   "metadata": {},
   "outputs": [],
   "source": [
    "using Colors, PyPlot"
   ]
  },
  {
   "cell_type": "code",
   "execution_count": 36,
   "metadata": {},
   "outputs": [],
   "source": [
    "my_colors_FOF= map(x-> \"#\"*x, hex.(range(colorant\"red\", stop=colorant\"green\", length=2)));\n",
    "my_colors_PPC= map(x-> \"#\"*x, hex.(range(colorant\"#1822A0\", stop=colorant\"#E99C2F\", length=2)));\n",
    "my_colors_STR= map(x-> \"#\"*x, hex.(range(colorant\"#A01892\", stop=colorant\"#E9E62F\", length=2)));"
   ]
  },
  {
   "cell_type": "code",
   "execution_count": 38,
   "metadata": {},
   "outputs": [
    {
     "data": {
      "image/png": "[encoded data removed]",
      "text/plain": [
       "Figure(PyObject <Figure size 1125x750 with 6 Axes>)"
      ]
     },
     "metadata": {},
     "output_type": "display_data"
    }
   ],
   "source": [
    "fig, ax = subplots(2, 3, figsize=(3.75, 2.5), dpi=300, frameon=true)\n",
    "\n",
    "fs = 6\n",
    "rc(\"xtick\", labelsize=fs)\n",
    "rc(\"ytick\", labelsize=fs)\n",
    "\n",
    "tri = idxsFOF[5]\n",
    "T = size(joint_post_FOF[tri][:,27:end-14],2)\n",
    "\n",
    "splt = 1\n",
    "ax[splt].matshow(choice_post_FOF[tri][2:end-1,:], origin=\"lower\", extent=[dt, dt*T, xc_FOF[2], xc_FOF[end-1]], aspect=\"auto\")\n",
    "\n",
    "ax[splt].xaxis.set_ticks_position(\"bottom\")\n",
    "ax[splt].xaxis.set_ticks_position(\"bottom\")\n",
    "ax[splt].spines[\"right\"].set_visible(false)\n",
    "ax[splt].spines[\"top\"].set_visible(false)\n",
    "ax[splt].spines[\"bottom\"].set_linewidth(0.5)\n",
    "ax[splt].spines[\"left\"].set_linewidth(0.5)\n",
    "ax[splt].tick_params(width=0.5, length=2)\n",
    "ax[splt].set_ylim(-10,10)\n",
    "ax[splt].set_yticks(range(-10, stop=10, length=3))\n",
    "ax[splt].set_yticks(range(-10, stop=10, length=5), minor=true)\n",
    "ax[splt].set_xticks(range(0, stop=1.2, length=4))\n",
    "ax[splt].set_xticks(range(0, stop=1.1, length=12), minor=true)\n",
    "ax[splt].tick_params(which=\"minor\", width=0.5, length=1.5)\n",
    "ax[splt].set_xlim(0, 0.8)\n",
    "\n",
    "\n",
    "splt = 2\n",
    "ax[splt].matshow(joint_post_FOF[tri][2:end-1,27:end-14], origin=\"lower\", extent=[dt, dt*T, xc_FOF[2], xc_FOF[end-1]], aspect=\"auto\")\n",
    "\n",
    "ax[splt].xaxis.set_ticks_position(\"bottom\")\n",
    "ax[splt].xaxis.set_ticks_position(\"bottom\")\n",
    "ax[splt].spines[\"right\"].set_visible(false)\n",
    "ax[splt].spines[\"top\"].set_visible(false)\n",
    "ax[splt].spines[\"bottom\"].set_linewidth(0.5)\n",
    "ax[splt].spines[\"left\"].set_linewidth(0.5)\n",
    "ax[splt].tick_params(width=0.5, length=2)\n",
    "ax[splt].set_ylim(-10,10)\n",
    "ax[splt].set_yticks(range(-10, stop=10, length=3))\n",
    "ax[splt].set_yticks(range(-10, stop=10, length=5), minor=true)\n",
    "ax[splt].set_xticks(range(0, stop=1.2, length=4))\n",
    "ax[splt].set_xticks(range(0, stop=1.1, length=12), minor=true)\n",
    "ax[splt].tick_params(which=\"minor\", width=0.5, length=1.5)\n",
    "ax[splt].set_xlim(0, 0.8)\n",
    "\n",
    "tri = idxsPPC[11]\n",
    "T = size(joint_post_PPC[tri][:,33:end-8],2)\n",
    "\n",
    "splt = 3\n",
    "ax[splt].matshow(choice_post_PPC[tri][2:end-1,:], origin=\"lower\", extent=[dt, dt*T, xc_PPC[2], xc_PPC[end-1]], aspect=\"auto\")\n",
    "\n",
    "ax[splt].xaxis.set_ticks_position(\"bottom\")\n",
    "ax[splt].xaxis.set_ticks_position(\"bottom\")\n",
    "ax[splt].spines[\"right\"].set_visible(false)\n",
    "ax[splt].spines[\"top\"].set_visible(false)\n",
    "ax[splt].spines[\"bottom\"].set_linewidth(0.5)\n",
    "ax[splt].spines[\"left\"].set_linewidth(0.5)\n",
    "ax[splt].tick_params(width=0.5, length=2)\n",
    "ax[splt].set_ylim(-15,15)\n",
    "ax[splt].set_yticks(range(-10, stop=10, length=3))\n",
    "ax[splt].set_yticks(range(-15, stop=15, length=7), minor=true)\n",
    "ax[splt].set_xticks(range(0, stop=0.8, length=5))\n",
    "ax[splt].set_xticks(range(0, stop=0.8, length=9), minor=true)\n",
    "ax[splt].tick_params(which=\"minor\", width=0.5, length=1.5)\n",
    "ax[splt].set_xlim(0,0.75)\n",
    "\n",
    "\n",
    "splt = 4\n",
    "ax[splt].matshow(joint_post_PPC[tri][2:end-1,33:end-8], origin=\"lower\", extent=[dt, dt*T, xc_PPC[2], xc_PPC[end-1]], aspect=\"auto\")\n",
    "\n",
    "ax[splt].xaxis.set_ticks_position(\"bottom\")\n",
    "ax[splt].xaxis.set_ticks_position(\"bottom\")\n",
    "ax[splt].spines[\"right\"].set_visible(false)\n",
    "ax[splt].spines[\"top\"].set_visible(false)\n",
    "ax[splt].spines[\"bottom\"].set_linewidth(0.5)\n",
    "ax[splt].spines[\"left\"].set_linewidth(0.5)\n",
    "ax[splt].tick_params(width=0.5, length=2)\n",
    "ax[splt].set_ylim(-15,15)\n",
    "ax[splt].set_yticks(range(-10, stop=10, length=3))\n",
    "ax[splt].set_yticks(range(-15, stop=15, length=7), minor=true)\n",
    "ax[splt].set_xticks(range(0, stop=0.8, length=5))\n",
    "ax[splt].set_xticks(range(0, stop=0.8, length=9), minor=true)\n",
    "ax[splt].tick_params(which=\"minor\", width=0.5, length=1.5)\n",
    "ax[splt].set_xlim(0,0.75)\n",
    "\n",
    "tri = 67\n",
    "T = size(joint_post_STR[tri][:,27:end-14],2);\n",
    "\n",
    "splt = 5\n",
    "ax[splt].matshow(choice_post_STR[tri][2:end-1,:], origin=\"lower\", extent=[dt, dt*T, xc_STR[2], xc_STR[end-1]], aspect=\"auto\")\n",
    "\n",
    "ax[splt].xaxis.set_ticks_position(\"bottom\")\n",
    "ax[splt].xaxis.set_ticks_position(\"bottom\")\n",
    "ax[splt].spines[\"right\"].set_visible(false)\n",
    "ax[splt].spines[\"top\"].set_visible(false)\n",
    "ax[splt].spines[\"bottom\"].set_linewidth(0.5)\n",
    "ax[splt].spines[\"left\"].set_linewidth(0.5)\n",
    "llim, ulim = ylim()\n",
    "ax[splt].tick_params(width=0.5, length=2)\n",
    "ax[splt].set_ylim(-40,40)\n",
    "ax[splt].set_yticks(range(-40, stop=40, length=5))\n",
    "ax[splt].set_yticks(range(-40, stop=40, length=9), minor=true)\n",
    "ax[splt].set_xticks(range(0, stop=0.9, length=4))\n",
    "ax[splt].set_xticks(range(0, stop=0.9, length=10), minor=true)\n",
    "ax[splt].tick_params(which=\"minor\", width=0.5, length=1.5)\n",
    "\n",
    "splt = 6\n",
    "ax[splt].matshow(joint_post_STR[tri][2:end-1,27:end-14], origin=\"lower\", extent=[dt, dt*T, xc_STR[2], xc_STR[end-1]], aspect=\"auto\")\n",
    "\n",
    "ax[splt].xaxis.set_ticks_position(\"bottom\")\n",
    "ax[splt].xaxis.set_ticks_position(\"bottom\")\n",
    "ax[splt].spines[\"right\"].set_visible(false)\n",
    "ax[splt].spines[\"top\"].set_visible(false)\n",
    "ax[splt].spines[\"bottom\"].set_linewidth(0.5)\n",
    "ax[splt].spines[\"left\"].set_linewidth(0.5)\n",
    "ax[splt].tick_params(width=0.5, length=2)\n",
    "ax[splt].set_ylim(-40,40)\n",
    "ax[splt].set_yticks(range(-40, stop=40, length=5))\n",
    "ax[splt].set_yticks(range(-40, stop=40, length=9), minor=true)\n",
    "ax[splt].set_xticks(range(0, stop=0.9, length=4))\n",
    "ax[splt].set_xticks(range(0, stop=0.9, length=10), minor=true)\n",
    "ax[splt].tick_params(which=\"minor\", width=0.5, length=1.5)\n",
    "\n",
    "tight_layout()\n",
    "PyPlot.savefig(joinpath(abspath(joinpath(pwd(), \"..\")), \"figs/\")*\"Fig5A.pdf\")"
   ]
  },
  {
   "cell_type": "code",
   "execution_count": 39,
   "metadata": {},
   "outputs": [
    {
     "data": {
      "image/png": "[encoded data removed]",
      "text/plain": [
       "Figure(PyObject <Figure size 1050x375 with 3 Axes>)"
      ]
     },
     "metadata": {},
     "output_type": "display_data"
    }
   ],
   "source": [
    "fig, ax = subplots(1, 3, figsize=(3.5, 1.25), dpi=300, frameon=true)\n",
    "\n",
    "rc(\"xtick\", labelsize=6)\n",
    "rc(\"ytick\", labelsize=6)\n",
    "rc(\"font\", family=\"sans-serif\")\n",
    "\n",
    "subplot(1,3,1)\n",
    "hist(sqrt.(vcat(var_joint_FOF...)), alpha=0.5, label=\"choice and neural\", color=my_colors_FOF[1]; density=true)\n",
    "hist(sqrt.(vcat(var_choice_FOF...)), alpha=0.5, label=\"choice\", color=\"black\"; density=true)\n",
    "\n",
    "ax = gca()\n",
    "ax.xaxis.set_ticks_position(\"bottom\")\n",
    "ax.spines[\"right\"].set_visible(false)\n",
    "ax.spines[\"top\"].set_visible(false)\n",
    "ax.spines[\"bottom\"].set_linewidth(0.5)\n",
    "ax.spines[\"left\"].set_linewidth(0.5)\n",
    "ax.tick_params(width=0.5, length=2)\n",
    "ax.set_ylim(0, 10)\n",
    "ax.set_xticks(range(0, stop=10, length=6))\n",
    "ax.set_xticks(range(0, stop=10, length=11), minor=true)\n",
    "ax.tick_params(which=\"minor\", width=0.5, length=1.5)\n",
    "ax.set_ylim(0, 0.8)\n",
    "ax.set_yticks(range(0, stop=0.8, length=5))\n",
    "ax.set_yticks(range(0, stop=0.8, length=9), minor=true)\n",
    "\n",
    "\n",
    "subplot(1,3,2)\n",
    "hist(sqrt.(vcat(var_joint_PPC...)), alpha=0.5, label=\"choice and neural\", color=my_colors_PPC[1]; density=true)\n",
    "hist(sqrt.(vcat(var_choice_PPC...)), alpha=0.5, label=\"choice\", color=\"black\"; density=true)\n",
    "\n",
    "ax = gca()\n",
    "ax.xaxis.set_ticks_position(\"bottom\")\n",
    "ax.spines[\"right\"].set_visible(false)\n",
    "ax.spines[\"top\"].set_visible(false)\n",
    "ax.spines[\"bottom\"].set_linewidth(0.5)\n",
    "ax.spines[\"left\"].set_linewidth(0.5)\n",
    "ax.tick_params(width=0.5, length=2)\n",
    "ax.set_ylim(0, 10)\n",
    "ax.set_xticks(range(0, stop=10, length=6))\n",
    "ax.set_xticks(range(0, stop=10, length=11), minor=true)\n",
    "ax.tick_params(which=\"minor\", width=0.5, length=1.5)\n",
    "ax.set_ylim(0, 0.8)\n",
    "ax.set_yticks(range(0, stop=0.8, length=5))\n",
    "ax.set_yticks(range(0, stop=0.8, length=9), minor=true)\n",
    "\n",
    "subplot(1,3,3)\n",
    "hist(sqrt.(vcat(var_joint_STR...)), alpha=0.5, label=\"choice and neural\", color=my_colors_STR[1]; density=true)\n",
    "hist(sqrt.(vcat(var_choice_STR...)), alpha=0.5, label=\"choice\", color=\"black\"; density=true)\n",
    "\n",
    "ax = gca()\n",
    "ax.xaxis.set_ticks_position(\"bottom\")\n",
    "ax.spines[\"right\"].set_visible(false)\n",
    "ax.spines[\"top\"].set_visible(false)\n",
    "ax.spines[\"bottom\"].set_linewidth(0.5)\n",
    "ax.spines[\"left\"].set_linewidth(0.5)\n",
    "ax.tick_params(width=0.5, length=2)\n",
    "ax.set_ylim(0, 10)\n",
    "ax.set_xticks(range(0, stop=10, length=6))\n",
    "ax.set_xticks(range(0, stop=10, length=11), minor=true)\n",
    "ax.tick_params(which=\"minor\", width=0.5, length=1.5)\n",
    "ax.set_ylim(0, 0.8)\n",
    "ax.set_yticks(range(0, stop=0.8, length=5))\n",
    "ax.set_yticks(range(0, stop=0.8, length=9), minor=true)\n",
    "\n",
    "tight_layout()\n",
    "\n",
    "PyPlot.savefig(joinpath(abspath(joinpath(pwd(), \"..\")), \"figs/\")*\"Fig5B.pdf\")"
   ]
  },
  {
   "cell_type": "code",
   "execution_count": 40,
   "metadata": {},
   "outputs": [
    {
     "data": {
      "text/plain": [
       "0.4604659776960798"
      ]
     },
     "execution_count": 40,
     "metadata": {},
     "output_type": "execute_result"
    }
   ],
   "source": [
    "median(sqrt.(vcat(var_choice_FOF...))) - median(sqrt.(vcat(var_joint_FOF...)))"
   ]
  },
  {
   "cell_type": "code",
   "execution_count": 41,
   "metadata": {},
   "outputs": [
    {
     "data": {
      "text/plain": [
       "0.7180780300219887"
      ]
     },
     "execution_count": 41,
     "metadata": {},
     "output_type": "execute_result"
    }
   ],
   "source": [
    "median(sqrt.(vcat(var_choice_PPC...))) - median(sqrt.(vcat(var_joint_PPC...)))"
   ]
  },
  {
   "cell_type": "code",
   "execution_count": 42,
   "metadata": {},
   "outputs": [
    {
     "data": {
      "text/plain": [
       "2.229553173054545"
      ]
     },
     "execution_count": 42,
     "metadata": {},
     "output_type": "execute_result"
    }
   ],
   "source": [
    "median(sqrt.(vcat(var_choice_STR...))) - median(sqrt.(vcat(var_joint_STR...)))"
   ]
  },
  {
   "cell_type": "markdown",
   "metadata": {},
   "source": [
    "## 5C \n",
    "\n",
    "Need to recompute the posteriors because above, when we did it, we flattened them across sessions, and lost that information"
   ]
  },
  {
   "cell_type": "code",
   "execution_count": 43,
   "metadata": {},
   "outputs": [],
   "source": [
    "ncells_STR = map(x-> x[1].ncells, joint_model_STR.data);"
   ]
  },
  {
   "cell_type": "code",
   "execution_count": 44,
   "metadata": {},
   "outputs": [],
   "source": [
    "ncells_FOF = map(x-> x[1].ncells, joint_model_FOF.data);"
   ]
  },
  {
   "cell_type": "markdown",
   "metadata": {},
   "source": [
    "### ADS"
   ]
  },
  {
   "cell_type": "code",
   "execution_count": 45,
   "metadata": {},
   "outputs": [],
   "source": [
    "output = posterior(joint_model_STR);\n",
    "\n",
    "xc = output[1][1][3];\n",
    "joint_post = map(x-> map(x-> x[1] .* x[2], x), output);\n",
    "\n",
    "var_joint_STR = map(x-> map(x-> vec(mapslices(x-> x' * sqrt.((xc .- (x' * xc)).^2), x[:,21:end-20], dims=1)), x), \n",
    "    joint_post);\n",
    "\n",
    "var_joint_STR = map(x-> vcat(x...), var_joint_STR);"
   ]
  },
  {
   "cell_type": "code",
   "execution_count": 46,
   "metadata": {},
   "outputs": [],
   "source": [
    "data = map(x-> x, joint_model_STR.data);"
   ]
  },
  {
   "cell_type": "code",
   "execution_count": 47,
   "metadata": {},
   "outputs": [],
   "source": [
    "choice_inputs = map(data-> map(x-> PulseInputDDM.choiceinputs(clicks=x.clicks, binned_clicks=x.binned_clicks, \n",
    "    dt=dt, centered=false), getfield.(data, :input_data)), data)\n",
    "choice_data = map((data, choice_inputs)-> PulseInputDDM.choicedata.(choice_inputs, getfield.(data, :choice)), data, choice_inputs);\n",
    "choice_model_STR = map(x-> choiceDDM(θ=Flatten.reconstruct(θchoice(), x_joint[3][1:9]), data=x, \n",
    "        n=n, cross=cross), choice_data);"
   ]
  },
  {
   "cell_type": "code",
   "execution_count": 48,
   "metadata": {},
   "outputs": [],
   "source": [
    "output = posterior.(choice_model_STR);\n",
    "choice_post = map(x-> map(x-> x[1] .* x[2], x), output);"
   ]
  },
  {
   "cell_type": "code",
   "execution_count": 49,
   "metadata": {},
   "outputs": [],
   "source": [
    "var_choice_STR = map(x-> map(x-> vec(mapslices(x-> x' * sqrt.((xc .- (x' * xc)).^2), x, dims=1)), x), choice_post);\n",
    "var_choice_STR = map(x-> vcat(x...), var_choice_STR);"
   ]
  },
  {
   "cell_type": "markdown",
   "metadata": {},
   "source": [
    "### FOF"
   ]
  },
  {
   "cell_type": "code",
   "execution_count": 50,
   "metadata": {},
   "outputs": [],
   "source": [
    "output = posterior(joint_model_FOF);\n",
    "\n",
    "xc = output[1][1][3];\n",
    "joint_post = map(x-> map(x-> x[1] .* x[2], x), output);\n",
    "\n",
    "var_joint_FOF = map(x-> map(x-> vec(mapslices(x-> x' * sqrt.((xc .- (x' * xc)).^2), x[:,21:end-20], dims=1)), x), \n",
    "    joint_post);\n",
    "var_joint_FOF = map(x-> vcat(x...), var_joint_FOF);"
   ]
  },
  {
   "cell_type": "code",
   "execution_count": 51,
   "metadata": {},
   "outputs": [],
   "source": [
    "data = map(x-> x, joint_model_FOF.data);"
   ]
  },
  {
   "cell_type": "code",
   "execution_count": 52,
   "metadata": {},
   "outputs": [],
   "source": [
    "choice_inputs = map(data-> map(x-> PulseInputDDM.choiceinputs(clicks=x.clicks, binned_clicks=x.binned_clicks, \n",
    "    dt=dt, centered=false), getfield.(data, :input_data)), data)\n",
    "choice_data = map((data, choice_inputs)-> PulseInputDDM.choicedata.(choice_inputs, getfield.(data, :choice)), data, choice_inputs);\n",
    "choice_model_FOF = map(x-> choiceDDM(θ=Flatten.reconstruct(θchoice(), x_joint[1][1:9]), data=x, \n",
    "        n=n, cross=cross), choice_data);"
   ]
  },
  {
   "cell_type": "code",
   "execution_count": 53,
   "metadata": {},
   "outputs": [],
   "source": [
    "output = posterior.(choice_model_FOF);\n",
    "choice_post = map(x-> map(x-> x[1] .* x[2], x), output);\n",
    "var_choice_FOF = map(x-> map(x-> vec(mapslices(x-> x' * sqrt.((xc .- (x' * xc)).^2), x, dims=1)), x), choice_post);\n",
    "var_choice_FOF = map(x-> vcat(x...), var_choice_FOF);"
   ]
  },
  {
   "cell_type": "code",
   "execution_count": 54,
   "metadata": {},
   "outputs": [],
   "source": [
    "blah_STR = mean.(var_joint_STR) .- mean.(var_choice_STR);"
   ]
  },
  {
   "cell_type": "code",
   "execution_count": 55,
   "metadata": {},
   "outputs": [],
   "source": [
    "blah_FOF = mean.(var_joint_FOF) .- mean.(var_choice_FOF);"
   ]
  },
  {
   "cell_type": "code",
   "execution_count": 56,
   "metadata": {},
   "outputs": [],
   "source": [
    "meanSTR = map(x-> mean(blah_STR[ncells_STR .== x]), sort(unique(ncells_STR)));"
   ]
  },
  {
   "cell_type": "code",
   "execution_count": 57,
   "metadata": {},
   "outputs": [],
   "source": [
    "meanFOF = map(x-> mean(blah_FOF[ncells_FOF .== x]), sort(unique(ncells_FOF)));"
   ]
  },
  {
   "cell_type": "markdown",
   "metadata": {},
   "source": [
    "## Plot"
   ]
  },
  {
   "cell_type": "code",
   "execution_count": 58,
   "metadata": {
    "scrolled": false
   },
   "outputs": [
    {
     "data": {
      "image/png": "[encoded data removed]",
      "text/plain": [
       "Figure(PyObject <Figure size 375x375 with 1 Axes>)"
      ]
     },
     "metadata": {},
     "output_type": "display_data"
    }
   ],
   "source": [
    "figure(figsize=(1.25, 1.25), dpi=300, frameon=true)\n",
    "\n",
    "fs = 6\n",
    "rc(\"xtick\", labelsize=fs)\n",
    "rc(\"ytick\", labelsize=fs)\n",
    "\n",
    "scatter(ncells_STR, mean.(var_joint_STR) .- mean.(var_choice_STR), 3, color=my_colors_STR[1])\n",
    "scatter(ncells_FOF, mean.(var_joint_FOF) .- mean.(var_choice_FOF), 3, color=my_colors_FOF[1])\n",
    "plot(unique(ncells_FOF), meanFOF, color=my_colors_FOF[1], label=\"FOF\")\n",
    "plot(sort(unique(ncells_STR)), meanSTR, color=my_colors_STR[1], label=\"ADS\")\n",
    "\n",
    "ax = gca()\n",
    "ax.xaxis.set_ticks_position(\"bottom\")\n",
    "ax.spines[\"right\"].set_visible(false)\n",
    "ax.spines[\"top\"].set_visible(false)\n",
    "ax.spines[\"bottom\"].set_linewidth(0.5)\n",
    "ax.spines[\"left\"].set_linewidth(0.5)\n",
    "ax.tick_params(width=0.5, length=2)\n",
    "ax.set_xticks(range(0, stop=6, length=4))\n",
    "ax.set_xticks(range(0, stop=6, length=7), minor=true)\n",
    "ax.tick_params(which=\"minor\", width=0.5, length=1.5)\n",
    "#ax.set_ylim(0, 0.5)\n",
    "ax.set_yticks(range(-2, stop=0, length=3))\n",
    "ax.set_yticks(range(-2.5, stop=0, length=6), minor=true)\n",
    "\n",
    "tight_layout()\n",
    "\n",
    "PyPlot.savefig(joinpath(abspath(joinpath(pwd(), \"..\")), \"figs/\")*\"Fig5C.pdf\")"
   ]
  },
  {
   "cell_type": "code",
   "execution_count": null,
   "metadata": {},
   "outputs": [],
   "source": []
  }
 ],
 "metadata": {
  "kernelspec": {
   "display_name": "Julia 1.5.0",
   "language": "julia",
   "name": "julia-1.5"
  },
  "language_info": {
   "file_extension": ".jl",
   "mimetype": "application/julia",
   "name": "julia",
   "version": "1.5.0"
  }
 },
 "nbformat": 4,
 "nbformat_minor": 2
}
