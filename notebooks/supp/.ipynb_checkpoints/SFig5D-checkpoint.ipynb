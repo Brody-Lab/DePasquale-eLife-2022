{
 "cells": [
  {
   "cell_type": "code",
   "execution_count": 1,
   "metadata": {},
   "outputs": [],
   "source": [
    "using Distributed\n",
    "addprocs(44);"
   ]
  },
  {
   "cell_type": "code",
   "execution_count": 2,
   "metadata": {},
   "outputs": [],
   "source": [
    "using PulseInputDDM, MAT\n",
    "import Statistics: mean"
   ]
  },
  {
   "cell_type": "code",
   "execution_count": 3,
   "metadata": {},
   "outputs": [],
   "source": [
    "ratnames = [\"B068\",\"T034\",\"T036\",\"T063\",\"T030\", \"T035\",\"T011\",\"B053\", \"T080\",\"T103\",\"E021\"];\n",
    "dt, n, cross = 1e-2, 53, false\n",
    "data_path = joinpath(abspath(joinpath(pwd(), \"..\")), \"data/by_session\");"
   ]
  },
  {
   "cell_type": "code",
   "execution_count": 4,
   "metadata": {},
   "outputs": [],
   "source": [
    "region, delay = \"FOF\", 6\n",
    "ratnum = 1:5\n",
    "rat = ratnames[ratnum]\n",
    "sessions = vcat(map(rat-> filter(x->occursin(rat,x), readdir(data_path)), rat)...);\n",
    "data_FOF, = load_neural_data(joinpath.(data_path, sessions), pcut=0.01, pad=20, delay=delay, dt=dt, \n",
    "    filtSD=5, do_RBF=true);\n",
    "ntrials_FOF = sum(length.(data_FOF));"
   ]
  },
  {
   "cell_type": "code",
   "execution_count": null,
   "metadata": {},
   "outputs": [],
   "source": [
    "region, delay = \"ADS\", 6\n",
    "ratnum = 9:11\n",
    "rat = ratnames[ratnum]\n",
    "sessions = vcat(map(rat-> filter(x->occursin(rat,x), readdir(data_path)), rat)...);\n",
    "data_STR, = load_neural_data(joinpath.(data_path, sessions), pcut=0.01, pad=20, delay=delay, dt=dt, \n",
    "    filtSD=5, do_RBF=true);\n",
    "ntrials_STR = sum(length.(data_STR));"
   ]
  },
  {
   "cell_type": "code",
   "execution_count": null,
   "metadata": {},
   "outputs": [],
   "source": [
    "joint_model_path = joinpath(abspath(joinpath(pwd(), \"..\")), \"models/joint-folds\");"
   ]
  },
  {
   "cell_type": "code",
   "execution_count": null,
   "metadata": {},
   "outputs": [],
   "source": [
    "import Base.Iterators: partition"
   ]
  },
  {
   "cell_type": "code",
   "execution_count": null,
   "metadata": {},
   "outputs": [],
   "source": [
    "LL_joint_FOF_folds = Vector{Float64}(undef,5)\n",
    "joint_model_folds_FOF = Vector(undef,5)\n",
    "region = \"FOF\"\n",
    "ntrials = length.(data_FOF);\n",
    "\n",
    "for fold in 1:5\n",
    "    \n",
    "    train = map(ntrials -> vcat(collect.(partition(1:ntrials, ceil(Int, ntrials/5)))[setdiff(1:5, fold)]...), ntrials)\n",
    "    test = map((ntrials, train)-> setdiff(1:ntrials, train), ntrials, train)\n",
    "    test_data_FOF = map((data, train)-> data[train], data_FOF, test)\n",
    "\n",
    "    file = joinpath(joint_model_path, region*\"_\"*string(fold)*\".mat\")\n",
    "    xfolds = read(matopen(file), \"ML_params\");\n",
    "    f = all_Softplus(data_FOF)  \n",
    "\n",
    "    joint_model_folds_FOF[fold] = neural_choiceDDM(θneural_choice(xfolds, f), test_data_FOF, n, cross);\n",
    "\n",
    "    LL_joint_FOF_folds[fold] = (PulseInputDDM.joint_loglikelihood(joint_model_folds_FOF[fold]))/(log(2) * \n",
    "        length(getfield.(vcat(test_data_FOF...), :choice)));\n",
    "    \n",
    "end"
   ]
  },
  {
   "cell_type": "code",
   "execution_count": null,
   "metadata": {},
   "outputs": [],
   "source": [
    "LL_joint_STR_folds = Vector{Float64}(undef,5)\n",
    "joint_model_folds_STR = Vector(undef,5)\n",
    "region = \"ADS\"\n",
    "ntrials = length.(data_STR);\n",
    "\n",
    "for fold in 1:5\n",
    "    \n",
    "    train = map(ntrials -> vcat(collect.(partition(1:ntrials, ceil(Int, ntrials/5)))[setdiff(1:5, fold)]...), ntrials)\n",
    "    test = map((ntrials, train)-> setdiff(1:ntrials, train), ntrials, train)\n",
    "    test_data_STR = map((data, train)-> data[train], data_STR, test)\n",
    "\n",
    "    file = joinpath(joint_model_path, region*\"_\"*string(fold)*\".mat\")\n",
    "    xfolds = read(matopen(file), \"ML_params\");\n",
    "    f = all_Softplus(data_STR)  \n",
    "\n",
    "    joint_model_folds_STR[fold] = neural_choiceDDM(θneural_choice(xfolds, f), test_data_STR, n, cross);\n",
    "\n",
    "    LL_joint_STR_folds[fold] = (PulseInputDDM.joint_loglikelihood(joint_model_folds_STR[fold]))/(log(2) * \n",
    "        length(getfield.(vcat(test_data_STR...), :choice)));\n",
    "    \n",
    "end"
   ]
  },
  {
   "cell_type": "markdown",
   "metadata": {},
   "source": [
    "## Independent model"
   ]
  },
  {
   "cell_type": "code",
   "execution_count": null,
   "metadata": {},
   "outputs": [],
   "source": [
    "independent_model_path = joinpath(abspath(joinpath(pwd(), \"..\")), \"models/independent-folds\");"
   ]
  },
  {
   "cell_type": "code",
   "execution_count": null,
   "metadata": {},
   "outputs": [],
   "source": [
    "import PulseInputDDM: sep_joint_loglikelihood"
   ]
  },
  {
   "cell_type": "code",
   "execution_count": null,
   "metadata": {},
   "outputs": [],
   "source": [
    "LL_joint_FOF_folds_sep = Vector{Float64}(undef,5)\n",
    "joint_model_folds_FOF_sep = Vector(undef,5)\n",
    "region = \"FOF\"\n",
    "ntrials = length.(data_FOF);\n",
    "\n",
    "for fold in 1:5\n",
    "    \n",
    "    train = map(ntrials -> vcat(collect.(partition(1:ntrials, ceil(Int, ntrials/5)))[setdiff(1:5, fold)]...), ntrials)\n",
    "    test = map((ntrials, train)-> setdiff(1:ntrials, train), ntrials, train)\n",
    "    test_data_FOF = map((data, train)-> data[train], data_FOF, test)\n",
    "\n",
    "    file = joinpath(independent_model_path, region*\"_\"*string(fold)*\".mat\")\n",
    "    xfolds = read(matopen(file), \"ML_params\");\n",
    "    f = all_Softplus(data_FOF)  \n",
    "\n",
    "    joint_model_folds_FOF_sep[fold] = neural_choiceDDM(θneural_choice(xfolds, f), test_data_FOF, n, cross);\n",
    "\n",
    "    LL_joint_FOF_folds_sep[fold] = (PulseInputDDM.sep_joint_loglikelihood(joint_model_folds_FOF_sep[fold]))/(log(2) * \n",
    "        length(vcat(test...)));\n",
    "    \n",
    "end"
   ]
  },
  {
   "cell_type": "code",
   "execution_count": null,
   "metadata": {},
   "outputs": [],
   "source": [
    "LL_joint_STR_folds_sep = Vector{Float64}(undef,5)\n",
    "joint_model_folds_STR_sep = Vector(undef,5)\n",
    "region = \"ADS\"\n",
    "ntrials = length.(data_STR);\n",
    "\n",
    "for fold in 1:5\n",
    "    \n",
    "    train = map(ntrials -> vcat(collect.(partition(1:ntrials, ceil(Int, ntrials/5)))[setdiff(1:5, fold)]...), ntrials)\n",
    "    test = map((ntrials, train)-> setdiff(1:ntrials, train), ntrials, train)\n",
    "    test_data_STR = map((data, train)-> data[train], data_STR, test)\n",
    "\n",
    "    file = joinpath(independent_model_path, region*\"_\"*string(fold)*\".mat\")\n",
    "    xfolds = read(matopen(file), \"ML_params\");\n",
    "    f = all_Softplus(data_STR)  \n",
    "\n",
    "    joint_model_folds_STR_sep[fold] = neural_choiceDDM(θneural_choice(xfolds, f), test_data_STR, n, cross);\n",
    "\n",
    "    LL_joint_STR_folds_sep[fold] = (PulseInputDDM.sep_joint_loglikelihood(joint_model_folds_STR_sep[fold]))/(log(2) * \n",
    "        length(vcat(test...)));\n",
    "    \n",
    "end"
   ]
  },
  {
   "cell_type": "markdown",
   "metadata": {},
   "source": [
    "## Neural data only models"
   ]
  },
  {
   "cell_type": "code",
   "execution_count": null,
   "metadata": {},
   "outputs": [],
   "source": [
    "neural_model_path = joinpath(abspath(joinpath(pwd(), \"..\")), \"models/neural-folds\");"
   ]
  },
  {
   "cell_type": "code",
   "execution_count": null,
   "metadata": {},
   "outputs": [],
   "source": [
    "LL_neural_STR_folds = Vector{Float64}(undef,5)\n",
    "neural_model_folds_STR = Vector(undef,5)"
   ]
  },
  {
   "cell_type": "code",
   "execution_count": null,
   "metadata": {},
   "outputs": [],
   "source": [
    "region = \"ADS\"\n",
    "ntrials = length.(data_STR);\n",
    "\n",
    "for fold in 1:5\n",
    "    \n",
    "    train = map(ntrials -> vcat(collect.(partition(1:ntrials, ceil(Int, ntrials/5)))[setdiff(1:5, fold)]...), ntrials)\n",
    "    test = map((ntrials, train)-> setdiff(1:ntrials, train), ntrials, train)\n",
    "    test_data_STR = map((data, train)-> data[train], data_STR, test)\n",
    "    train_data_STR = map((data, train)-> data[train], data_STR, train)\n",
    "\n",
    "    file = joinpath(neural_model_path, region*\"_\"*string(fold)*\".mat\")\n",
    "    xfolds = read(matopen(file), \"ML_params\");\n",
    "    \n",
    "    f = all_Softplus(data_STR)      \n",
    "    neural_model_folds_STR[fold] = neuralDDM(θ=θneural(xfolds, f), data=test_data_STR, n=n, cross=cross);     \n",
    "    LL_neural_STR_folds[fold] = (PulseInputDDM.loglikelihood(neural_model_folds_STR[fold]))/(log(2) * \n",
    "        length(getfield.(vcat(test_data_STR...), :choice)));\n",
    "    \n",
    "end"
   ]
  },
  {
   "cell_type": "code",
   "execution_count": null,
   "metadata": {},
   "outputs": [],
   "source": [
    "LL_neural_FOF_folds = Vector{Float64}(undef,5)\n",
    "neural_model_folds_FOF = Vector(undef,5)"
   ]
  },
  {
   "cell_type": "code",
   "execution_count": null,
   "metadata": {},
   "outputs": [],
   "source": [
    "region = \"FOF\"\n",
    "ntrials = length.(data_FOF);\n",
    "\n",
    "for fold in 1:5\n",
    "    \n",
    "    train = map(ntrials -> vcat(collect.(partition(1:ntrials, ceil(Int, ntrials/5)))[setdiff(1:5, fold)]...), ntrials)\n",
    "    test = map((ntrials, train)-> setdiff(1:ntrials, train), ntrials, train)\n",
    "    test_data_FOF = map((data, train)-> data[train], data_FOF, test)\n",
    "    train_data_FOF = map((data, train)-> data[train], data_FOF, train)\n",
    "\n",
    "    file = joinpath(neural_model_path, region*\"_\"*string(fold)*\".mat\")\n",
    "    xfolds = read(matopen(file), \"ML_params\");\n",
    "    \n",
    "    f = all_Softplus(data_FOF)      \n",
    "    neural_model_folds_FOF[fold] = neuralDDM(θ=θneural(xfolds, f), data=test_data_FOF, n=n, cross=cross);     \n",
    "    LL_neural_FOF_folds[fold] = (PulseInputDDM.loglikelihood(neural_model_folds_FOF[fold]))/(log(2) * \n",
    "        length(getfield.(vcat(test_data_FOF...), :choice)));\n",
    "    \n",
    "end"
   ]
  },
  {
   "cell_type": "code",
   "execution_count": null,
   "metadata": {},
   "outputs": [],
   "source": [
    "LL_neural_FOF_folds_sep = Vector{Float64}(undef,5)\n",
    "neural_model_folds_FOF_sep = Vector(undef,5)"
   ]
  },
  {
   "cell_type": "code",
   "execution_count": null,
   "metadata": {},
   "outputs": [],
   "source": [
    "import PulseInputDDM: sep_neural_loglikelihood"
   ]
  },
  {
   "cell_type": "code",
   "execution_count": null,
   "metadata": {},
   "outputs": [],
   "source": [
    "region = \"FOF\"\n",
    "ntrials = length.(data_FOF);\n",
    "\n",
    "for fold in 1:5\n",
    "    \n",
    "    train = map(ntrials -> vcat(collect.(partition(1:ntrials, ceil(Int, ntrials/5)))[setdiff(1:5, fold)]...), ntrials)\n",
    "    test = map((ntrials, train)-> setdiff(1:ntrials, train), ntrials, train)\n",
    "    test_data_FOF = map((data, train)-> data[train], data_FOF, test)\n",
    "    train_data_FOF = map((data, train)-> data[train], data_FOF, train)\n",
    "\n",
    "    file = joinpath(neural_model_path, region*\"_\"*string(fold)*\"_ind.mat\")\n",
    "    xfolds = read(matopen(file), \"ML_params\");  \n",
    "    \n",
    "    f = all_Softplus(data_FOF)      \n",
    "    \n",
    "    neural_model_folds_FOF_sep[fold] = neuralDDM(θ=θneural(xfolds, f), data=test_data_FOF, n=n, cross=cross);\n",
    "\n",
    "    LL_neural_FOF_folds_sep[fold] = (PulseInputDDM.sep_neural_loglikelihood(neural_model_folds_FOF_sep[fold]))/(log(2) * \n",
    "        length(getfield.(vcat(test_data_FOF...), :choice)));\n",
    "    \n",
    "end"
   ]
  },
  {
   "cell_type": "code",
   "execution_count": null,
   "metadata": {},
   "outputs": [],
   "source": [
    "LL_neural_STR_folds_sep = Vector{Float64}(undef,5)\n",
    "neural_model_folds_STR_sep = Vector(undef,5)\n",
    "\n",
    "region = \"STR\"\n",
    "ntrials = length.(data_STR);\n",
    "\n",
    "for fold in 1:5\n",
    "    \n",
    "    train = map(ntrials -> vcat(collect.(partition(1:ntrials, ceil(Int, ntrials/5)))[setdiff(1:5, fold)]...), ntrials)\n",
    "    test = map((ntrials, train)-> setdiff(1:ntrials, train), ntrials, train)\n",
    "    test_data_STR = map((data, train)-> data[train], data_STR, test)\n",
    "    train_data_STR = map((data, train)-> data[train], data_STR, train)\n",
    "\n",
    "    file = joinpath(neural_model_path, region*\"_\"*string(fold)*\"_ind.mat\")\n",
    "    xfolds = read(matopen(file), \"ML_params\");\n",
    "\n",
    "    f = all_Softplus(data_STR)      \n",
    "    \n",
    "    neural_model_folds_STR_sep[fold] = neuralDDM(θ=θneural(xfolds, f), data=test_data_STR, n=n, cross=cross);\n",
    "\n",
    "    LL_neural_STR_folds_sep[fold] = (PulseInputDDM.sep_neural_loglikelihood(neural_model_folds_STR_sep[fold]))/(log(2) * \n",
    "        length(getfield.(vcat(test_data_STR...), :choice)));\n",
    "    \n",
    "end"
   ]
  },
  {
   "cell_type": "code",
   "execution_count": 14,
   "metadata": {},
   "outputs": [],
   "source": [
    "using PyPlot"
   ]
  },
  {
   "cell_type": "code",
   "execution_count": null,
   "metadata": {},
   "outputs": [],
   "source": [
    "figure(figsize=(1.25, 1.25), dpi=300, frameon=true)\n",
    "\n",
    "mycolors = [\"red\", \"#A01892\"]\n",
    "rc(\"xtick\", labelsize=6)\n",
    "rc(\"ytick\", labelsize=6)\n",
    "\n",
    "bar(1, mean(LL_joint_FOF_folds_sep - LL_joint_FOF_folds), color=mycolors[1]);\n",
    "bar(2, mean(LL_joint_STR_folds_sep - LL_joint_STR_folds), color=mycolors[2]);\n",
    "\n",
    "bar(3, mean(LL_neural_FOF_folds_sep - LL_neural_FOF_folds), color=mycolors[1]);\n",
    "bar(4, mean(LL_neural_STR_folds_sep - LL_neural_STR_folds), color=mycolors[2]);\n",
    "xticks([1, 2, 3, 4], [\"FOF joint\", \"ADS joint\", \"FOF neural\", \"ADS neural\"], rotation=90, fontsize=4)\n",
    "ylabel(\"Δbits/trial\", fontsize=6);\n",
    "\n",
    "ax = gca()\n",
    "ax.spines[\"right\"].set_visible(false)\n",
    "ax.spines[\"top\"].set_visible(false)\n",
    "ax.spines[\"bottom\"].set_linewidth(0.5)\n",
    "ax.spines[\"left\"].set_linewidth(0.5)\n",
    "ax.tick_params(width=0.5, length=2)\n",
    "ax.tick_params(which=\"minor\", width=0.5, length=1.5)\n",
    "\n",
    "tight_layout()"
   ]
  },
  {
   "cell_type": "code",
   "execution_count": null,
   "metadata": {},
   "outputs": [],
   "source": [
    "#PyPlot.savefig(joinpath(abspath(joinpath(pwd(), \"..\")), \"figs/\")*\"Fig4B.pdf\")"
   ]
  }
 ],
 "metadata": {
  "kernelspec": {
   "display_name": "Julia 1.6.0",
   "language": "julia",
   "name": "julia-1.6"
  },
  "language_info": {
   "file_extension": ".jl",
   "mimetype": "application/julia",
   "name": "julia",
   "version": "1.6.0"
  }
 },
 "nbformat": 4,
 "nbformat_minor": 2
}
