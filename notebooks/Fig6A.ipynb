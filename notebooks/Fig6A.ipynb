{
 "cells": [
  {
   "cell_type": "code",
   "execution_count": 1,
   "metadata": {},
   "outputs": [],
   "source": [
    "using Distributed\n",
    "addprocs(44);"
   ]
  },
  {
   "cell_type": "code",
   "execution_count": 2,
   "metadata": {},
   "outputs": [],
   "source": [
    "using PulseInputDDM, MAT\n",
    "using Flatten"
   ]
  },
  {
   "cell_type": "code",
   "execution_count": 3,
   "metadata": {},
   "outputs": [],
   "source": [
    "import Base.Iterators: partition"
   ]
  },
  {
   "cell_type": "code",
   "execution_count": 4,
   "metadata": {},
   "outputs": [],
   "source": [
    "import PulseInputDDM: choice_null"
   ]
  },
  {
   "cell_type": "code",
   "execution_count": 5,
   "metadata": {},
   "outputs": [
    {
     "data": {
      "text/plain": [
       "\"/mnt/cup/people/briandd/Projects/DePasquale-eLife-2022/data/by_session_w_cpoke\""
      ]
     },
     "execution_count": 5,
     "metadata": {},
     "output_type": "execute_result"
    }
   ],
   "source": [
    "ratnames = [\"B068\",\"T034\",\"T036\",\"T063\",\"T030\", \"T035\",\"T011\",\"B053\", \"T080\",\"T103\",\"E021\"];\n",
    "dt, n, cross = 1e-2, 53, false\n",
    "data_path = joinpath(abspath(joinpath(pwd(), \"..\")), \"data/by_session_w_cpoke\")"
   ]
  },
  {
   "cell_type": "markdown",
   "metadata": {},
   "source": [
    "## PPC"
   ]
  },
  {
   "cell_type": "code",
   "execution_count": 6,
   "metadata": {},
   "outputs": [],
   "source": [
    "region, delay = \"PPC\", 12\n",
    "ratnum = 6:8\n",
    "rat = ratnames[ratnum]\n",
    "sessions = vcat(map(rat-> filter(x->occursin(rat,x), readdir(data_path)), rat)...);\n",
    "data_PPC, μ_rnt, μ_t, cpoke_out_PPC = load_neural_data(joinpath.(data_path, sessions), pcut=0.01, pad=20, delay=delay, dt=dt, filtSD=5,\n",
    "    do_RBF=true);"
   ]
  },
  {
   "cell_type": "markdown",
   "metadata": {},
   "source": [
    "## ADS"
   ]
  },
  {
   "cell_type": "code",
   "execution_count": 7,
   "metadata": {},
   "outputs": [],
   "source": [
    "region, delay = \"ADS\", 6\n",
    "ratnum = 9:11\n",
    "rat = ratnames[ratnum]\n",
    "sessions = vcat(map(rat-> filter(x->occursin(rat,x), readdir(data_path)), rat)...);\n",
    "data_STR, μ_rnt, μ_t, cpoke_out_STR = load_neural_data(joinpath.(data_path, sessions), pcut=0.01, pad=20, delay=delay, dt=dt, filtSD=5,\n",
    "    do_RBF=true);"
   ]
  },
  {
   "cell_type": "markdown",
   "metadata": {},
   "source": [
    "## FOF"
   ]
  },
  {
   "cell_type": "code",
   "execution_count": 8,
   "metadata": {},
   "outputs": [],
   "source": [
    "region, delay = \"FOF\", 6\n",
    "ratnum = 1:5\n",
    "rat = ratnames[ratnum]\n",
    "sessions = vcat(map(rat-> filter(x->occursin(rat,x), readdir(data_path)), rat)...);\n",
    "data_FOF, μ_rnt, μ_t, cpoke_out_FOF = load_neural_data(joinpath.(data_path, sessions), pcut=0.01, pad=20, delay=delay, dt=dt, filtSD=5,\n",
    "    do_RBF=true);"
   ]
  },
  {
   "cell_type": "markdown",
   "metadata": {},
   "source": [
    "## Joint CV"
   ]
  },
  {
   "cell_type": "code",
   "execution_count": 9,
   "metadata": {
    "scrolled": true
   },
   "outputs": [],
   "source": [
    "joint_model_path = joinpath(abspath(joinpath(pwd(), \"..\")), \"models/joint-folds\");"
   ]
  },
  {
   "cell_type": "code",
   "execution_count": 10,
   "metadata": {},
   "outputs": [],
   "source": [
    "LL_joint_PPC_folds = Vector{Float64}(undef,5)\n",
    "joint_model_folds_PPC = Vector(undef,5)\n",
    "region = \"PPC\"\n",
    "ntrials = length.(data_PPC);\n",
    "\n",
    "for fold in 1:5\n",
    "    \n",
    "    train = map(ntrials -> vcat(collect.(partition(1:ntrials, ceil(Int, ntrials/5)))[setdiff(1:5, fold)]...), ntrials)\n",
    "    test = map((ntrials, train)-> setdiff(1:ntrials, train), ntrials, train)\n",
    "    test_data_PPC = map((data, train)-> data[train], data_PPC, test)\n",
    "\n",
    "    file = joinpath(joint_model_path, region*\"_\"*string(fold)*\".mat\")\n",
    "    xfolds = read(matopen(file), \"ML_params\");\n",
    "    f = all_Softplus(data_PPC)  \n",
    "\n",
    "    joint_model_folds_PPC[fold] = neural_choiceDDM(θneural_choice(xfolds, f), test_data_PPC, n, cross);\n",
    "\n",
    "    LL_joint_PPC_folds[fold] = (PulseInputDDM.choice_loglikelihood(joint_model_folds_PPC[fold]) - \n",
    "        choice_null(getfield.(vcat(test_data_PPC...), :choice)))/(log(2) * \n",
    "        length(getfield.(vcat(test_data_PPC...), :choice)));\n",
    "end"
   ]
  },
  {
   "cell_type": "code",
   "execution_count": 11,
   "metadata": {},
   "outputs": [],
   "source": [
    "LL_joint_STR_folds = Vector{Float64}(undef,5)\n",
    "joint_model_folds_STR = Vector(undef,5)\n",
    "region = \"ADS\"\n",
    "ntrials = length.(data_STR);\n",
    "\n",
    "for fold in 1:5\n",
    "    \n",
    "    train = map(ntrials -> vcat(collect.(partition(1:ntrials, ceil(Int, ntrials/5)))[setdiff(1:5, fold)]...), ntrials)\n",
    "    test = map((ntrials, train)-> setdiff(1:ntrials, train), ntrials, train)\n",
    "    test_data_STR = map((data, train)-> data[train], data_STR, test)\n",
    "\n",
    "    file = joinpath(joint_model_path, region*\"_\"*string(fold)*\".mat\")\n",
    "    xfolds = read(matopen(file), \"ML_params\");\n",
    "    f = all_Softplus(data_STR)  \n",
    "\n",
    "    joint_model_folds_STR[fold] = neural_choiceDDM(θneural_choice(xfolds, f), test_data_STR, n, cross);\n",
    "\n",
    "    LL_joint_STR_folds[fold] = (PulseInputDDM.choice_loglikelihood(joint_model_folds_STR[fold]) - \n",
    "        choice_null(getfield.(vcat(test_data_STR...), :choice)))/(log(2) * \n",
    "        length(getfield.(vcat(test_data_STR...), :choice)));\n",
    "end"
   ]
  },
  {
   "cell_type": "code",
   "execution_count": 12,
   "metadata": {},
   "outputs": [],
   "source": [
    "LL_joint_FOF_folds = Vector{Float64}(undef,5)\n",
    "joint_model_folds_FOF = Vector(undef,5)\n",
    "region = \"FOF\"\n",
    "ntrials = length.(data_FOF);\n",
    "\n",
    "for fold in 1:5\n",
    "    \n",
    "    train = map(ntrials -> vcat(collect.(partition(1:ntrials, ceil(Int, ntrials/5)))[setdiff(1:5, fold)]...), ntrials)\n",
    "    test = map((ntrials, train)-> setdiff(1:ntrials, train), ntrials, train)\n",
    "    test_data_FOF = map((data, train)-> data[train], data_FOF, test)\n",
    "\n",
    "    file = joinpath(joint_model_path, region*\"_\"*string(fold)*\".mat\")\n",
    "    xfolds = read(matopen(file), \"ML_params\");\n",
    "    f = all_Softplus(data_FOF)  \n",
    "\n",
    "    joint_model_folds_FOF[fold] = neural_choiceDDM(θneural_choice(xfolds, f), test_data_FOF, n, cross);\n",
    "\n",
    "    LL_joint_FOF_folds[fold] = (PulseInputDDM.choice_loglikelihood(joint_model_folds_FOF[fold]) - \n",
    "        choice_null(getfield.(vcat(test_data_FOF...), :choice)))/(log(2) * \n",
    "        length(getfield.(vcat(test_data_FOF...), :choice)));\n",
    "end"
   ]
  },
  {
   "cell_type": "markdown",
   "metadata": {},
   "source": [
    "## Choice CV"
   ]
  },
  {
   "cell_type": "code",
   "execution_count": 13,
   "metadata": {},
   "outputs": [],
   "source": [
    "choice_model_path = joinpath(abspath(joinpath(pwd(), \"..\")), \"models/choice-folds\");"
   ]
  },
  {
   "cell_type": "code",
   "execution_count": 14,
   "metadata": {},
   "outputs": [],
   "source": [
    "choice_inputs = map(x-> map(x-> PulseInputDDM.choiceinputs(clicks=x.clicks, binned_clicks=x.binned_clicks, \n",
    "    dt=dt, centered=false), getfield.(x, :input_data)), data_FOF);\n",
    "choice_data_FOF_2 = map((x,y)-> PulseInputDDM.choicedata.(y, getfield.(x, :choice)), data_FOF, choice_inputs);\n",
    "ntrials = length.(choice_data_FOF_2);"
   ]
  },
  {
   "cell_type": "code",
   "execution_count": 15,
   "metadata": {},
   "outputs": [],
   "source": [
    "LL_choice_FOF_folds = Vector{Float64}(undef,5)\n",
    "choice_model_folds_FOF = Vector(undef,5)\n",
    "region = \"FOF\"\n",
    "\n",
    "for fold in 1:5\n",
    "    train = map(ntrials -> vcat(collect.(partition(1:ntrials, ceil(Int, ntrials/5)))[setdiff(1:5, fold)]...), ntrials)\n",
    "    test = map((ntrials, train)-> setdiff(1:ntrials, train), ntrials, train)\n",
    "    test_data_FOF = map((data, train)-> data[train], choice_data_FOF_2, test)\n",
    "    test_data_FOF = vcat(test_data_FOF...);\n",
    "\n",
    "    file = joinpath(choice_model_path, region*\"_\"*string(fold)*\".mat\")\n",
    "    xfolds = read(matopen(file), \"ML_params\");\n",
    "\n",
    "    choice_model_folds_FOF[fold] = choiceDDM(θ = Flatten.reconstruct(θchoice(), xfolds), data=test_data_FOF, n=n, cross=cross);\n",
    "\n",
    "    LL_choice_FOF_folds[fold] = (PulseInputDDM.loglikelihood(choice_model_folds_FOF[fold]) - \n",
    "        choice_null(getfield.(test_data_FOF, :choice)))/(log(2) * length(getfield.(test_data_FOF, :choice)))\n",
    "end"
   ]
  },
  {
   "cell_type": "code",
   "execution_count": 16,
   "metadata": {},
   "outputs": [],
   "source": [
    "choice_inputs = map(x-> map(x-> PulseInputDDM.choiceinputs(clicks=x.clicks, binned_clicks=x.binned_clicks, \n",
    "    dt=dt, centered=false), getfield.(x, :input_data)), data_PPC);\n",
    "choice_data_PPC_2 = map((x,y)-> PulseInputDDM.choicedata.(y, getfield.(x, :choice)), data_PPC, choice_inputs);\n",
    "ntrials = length.(choice_data_PPC_2);"
   ]
  },
  {
   "cell_type": "code",
   "execution_count": 17,
   "metadata": {},
   "outputs": [],
   "source": [
    "LL_choice_PPC_folds = Vector{Float64}(undef,5)\n",
    "choice_model_folds_PPC = Vector(undef,5)\n",
    "region = \"PPC\"\n",
    "\n",
    "for fold in 1:5\n",
    "    train = map(ntrials -> vcat(collect.(partition(1:ntrials, ceil(Int, ntrials/5)))[setdiff(1:5, fold)]...), ntrials)\n",
    "    test = map((ntrials, train)-> setdiff(1:ntrials, train), ntrials, train)\n",
    "    test_data_PPC = map((data, train)-> data[train], choice_data_PPC_2, test)\n",
    "    test_data_PPC = vcat(test_data_PPC...);\n",
    "\n",
    "    file = joinpath(choice_model_path, region*\"_\"*string(fold)*\".mat\")\n",
    "    xfolds = read(matopen(file), \"ML_params\");\n",
    "\n",
    "    choice_model_folds_PPC[fold] = choiceDDM(θ = Flatten.reconstruct(θchoice(), xfolds), data=test_data_PPC, n=n, cross=cross);\n",
    "\n",
    "    LL_choice_PPC_folds[fold] = (PulseInputDDM.loglikelihood(choice_model_folds_PPC[fold]) - \n",
    "        choice_null(getfield.(test_data_PPC, :choice)))/(log(2) * length(getfield.(test_data_PPC, :choice)))\n",
    "end"
   ]
  },
  {
   "cell_type": "code",
   "execution_count": 18,
   "metadata": {},
   "outputs": [],
   "source": [
    "choice_inputs = map(x-> map(x-> PulseInputDDM.choiceinputs(clicks=x.clicks, binned_clicks=x.binned_clicks, \n",
    "    dt=dt, centered=false), getfield.(x, :input_data)), data_STR);\n",
    "choice_data_STR_2 = map((x,y)-> PulseInputDDM.choicedata.(y, getfield.(x, :choice)), data_STR, choice_inputs);\n",
    "ntrials = length.(choice_data_STR_2);"
   ]
  },
  {
   "cell_type": "code",
   "execution_count": 19,
   "metadata": {},
   "outputs": [],
   "source": [
    "LL_choice_STR_folds = Vector{Float64}(undef,5)\n",
    "choice_model_folds_STR = Vector(undef,5)\n",
    "region = \"ADS\"\n",
    "\n",
    "for fold in 1:5\n",
    "    train = map(ntrials -> vcat(collect.(partition(1:ntrials, ceil(Int, ntrials/5)))[setdiff(1:5, fold)]...), ntrials)\n",
    "    test = map((ntrials, train)-> setdiff(1:ntrials, train), ntrials, train)\n",
    "    test_data_STR = map((data, train)-> data[train], choice_data_STR_2, test)\n",
    "    test_data_STR = vcat(test_data_STR...);\n",
    "\n",
    "    file = joinpath(choice_model_path, region*\"_\"*string(fold)*\".mat\")\n",
    "    xfolds = read(matopen(file), \"ML_params\");\n",
    "\n",
    "    choice_model_folds_STR[fold] = choiceDDM(θ = Flatten.reconstruct(θchoice(), xfolds), data=test_data_STR, n=n, cross=cross);\n",
    "\n",
    "    LL_choice_STR_folds[fold] = (PulseInputDDM.loglikelihood(choice_model_folds_STR[fold]) - \n",
    "        choice_null(getfield.(test_data_STR, :choice)))/(log(2) * length(getfield.(test_data_STR, :choice)))\n",
    "end"
   ]
  },
  {
   "cell_type": "markdown",
   "metadata": {},
   "source": [
    "## GLMs"
   ]
  },
  {
   "cell_type": "code",
   "execution_count": 20,
   "metadata": {},
   "outputs": [],
   "source": [
    "GLM_model_path = joinpath(abspath(joinpath(pwd(), \"..\")), \"models/GLM-folds\");"
   ]
  },
  {
   "cell_type": "code",
   "execution_count": 21,
   "metadata": {},
   "outputs": [],
   "source": [
    "LL_GLM_PPC_folds = Vector{Float64}(undef,5)\n",
    "short_LL_GLM_PPC_folds = Vector{Float64}(undef,5)\n",
    "GLM_model_folds_PPC = Vector(undef,5)\n",
    "short_GLM_model_folds_PPC = Vector(undef,5)\n",
    "region = \"PPC\"\n",
    "ntrials = length.(data_PPC);\n",
    "\n",
    "for fold in 1:5\n",
    "    \n",
    "    train = map(ntrials -> vcat(collect.(partition(1:ntrials, ceil(Int, ntrials/5)))[setdiff(1:5, fold)]...), ntrials)\n",
    "    test = map((ntrials, train)-> setdiff(1:ntrials, train), ntrials, train)\n",
    "    test_data_PPC = map((data, train)-> data[train], data_PPC, test)\n",
    "\n",
    "    file = joinpath(GLM_model_path, region*\"_GLM_x\"*string(fold)*\".mat\")\n",
    "    xfolds = read(matopen(file), \"x\");\n",
    "    f = all_Softplus(data_PPC)  \n",
    "\n",
    "    GLM_model_folds_PPC[fold] = neural_choice_GLM_DDM(θneural_choice_GLM(xfolds, f), test_data_PPC, n, cross);\n",
    "\n",
    "    LL_GLM_PPC_folds[fold] = (PulseInputDDM.loglikelihood(GLM_model_folds_PPC[fold]) - \n",
    "        choice_null(getfield.(vcat(test_data_PPC...), :choice)))/(log(2) * \n",
    "        length(getfield.(vcat(test_data_PPC...), :choice)));\n",
    "    \n",
    "    short_test_data_PPC = map(x-> map(x -> neuraldata(x.input_data, \n",
    "            map(y-> getindex(y, length(y) - \n",
    "                    (x.input_data.pad - x.input_data.delay) - 5 + 1:length(y) - \n",
    "                    (x.input_data.pad - x.input_data.delay)), x.spikes), \n",
    "            x.ncells, x.choice), x), test_data_PPC);\n",
    "    \n",
    "    file = joinpath(GLM_model_path, region*\"_short_GLM_x\"*string(fold)*\".mat\")\n",
    "    xfolds = read(matopen(file), \"x\");\n",
    "\n",
    "    short_GLM_model_folds_PPC[fold] = neural_choice_GLM_DDM(θneural_choice_GLM(xfolds, f), short_test_data_PPC, n, cross);\n",
    "\n",
    "    short_LL_GLM_PPC_folds[fold] = (PulseInputDDM.loglikelihood(short_GLM_model_folds_PPC[fold]) - \n",
    "        choice_null(getfield.(vcat(short_test_data_PPC...), :choice)))/(log(2) * \n",
    "        length(getfield.(vcat(short_test_data_PPC...), :choice)));\n",
    "end"
   ]
  },
  {
   "cell_type": "code",
   "execution_count": 22,
   "metadata": {},
   "outputs": [],
   "source": [
    "LL_GLM_FOF_folds = Vector{Float64}(undef,5)\n",
    "short_LL_GLM_FOF_folds = Vector{Float64}(undef,5)\n",
    "\n",
    "GLM_model_folds_FOF = Vector(undef,5)\n",
    "short_GLM_model_folds_FOF = Vector(undef,5)\n",
    "\n",
    "region = \"FOF\"\n",
    "ntrials = length.(data_FOF);\n",
    "\n",
    "for fold in 1:5\n",
    "    \n",
    "    train = map(ntrials -> vcat(collect.(partition(1:ntrials, ceil(Int, ntrials/5)))[setdiff(1:5, fold)]...), ntrials)\n",
    "    test = map((ntrials, train)-> setdiff(1:ntrials, train), ntrials, train)\n",
    "    test_data_FOF = map((data, train)-> data[train], data_FOF, test)\n",
    "\n",
    "    file = joinpath(GLM_model_path, region*\"_GLM_x\"*string(fold)*\".mat\")\n",
    "    xfolds = read(matopen(file), \"x\");\n",
    "    f = all_Softplus(data_FOF)  \n",
    "\n",
    "    GLM_model_folds_FOF[fold] = neural_choice_GLM_DDM(θneural_choice_GLM(xfolds, f), test_data_FOF, n, cross);\n",
    "\n",
    "    LL_GLM_FOF_folds[fold] = (PulseInputDDM.loglikelihood(GLM_model_folds_FOF[fold]) - \n",
    "        choice_null(getfield.(vcat(test_data_FOF...), :choice)))/(log(2) * \n",
    "        length(getfield.(vcat(test_data_FOF...), :choice)));\n",
    "    \n",
    "    short_test_data_FOF = map(x-> map(x -> neuraldata(x.input_data, \n",
    "            map(y-> getindex(y, length(y) - \n",
    "                    (x.input_data.pad - x.input_data.delay) - 5 + 1:length(y) - \n",
    "                    (x.input_data.pad - x.input_data.delay)), x.spikes), \n",
    "            x.ncells, x.choice), x), test_data_FOF);\n",
    "    \n",
    "    file = joinpath(GLM_model_path, region*\"_short_GLM_x\"*string(fold)*\".mat\")\n",
    "    xfolds = read(matopen(file), \"x\");\n",
    "\n",
    "    short_GLM_model_folds_FOF[fold] = neural_choice_GLM_DDM(θneural_choice_GLM(xfolds, f), short_test_data_FOF, n, cross);\n",
    "\n",
    "    short_LL_GLM_FOF_folds[fold] = (PulseInputDDM.loglikelihood(short_GLM_model_folds_FOF[fold]) - \n",
    "        choice_null(getfield.(vcat(short_test_data_FOF...), :choice)))/(log(2) * \n",
    "        length(getfield.(vcat(short_test_data_FOF...), :choice)));\n",
    "end"
   ]
  },
  {
   "cell_type": "code",
   "execution_count": 23,
   "metadata": {},
   "outputs": [],
   "source": [
    "LL_GLM_STR_folds = Vector{Float64}(undef,5)\n",
    "short_LL_GLM_STR_folds = Vector{Float64}(undef,5)\n",
    "\n",
    "GLM_model_folds_STR = Vector(undef,5)\n",
    "short_GLM_model_folds_STR = Vector(undef,5)\n",
    "\n",
    "region = \"ADS\"\n",
    "ntrials = length.(data_STR);\n",
    "\n",
    "for fold in 1:5\n",
    "    \n",
    "    train = map(ntrials -> vcat(collect.(partition(1:ntrials, ceil(Int, ntrials/5)))[setdiff(1:5, fold)]...), ntrials)\n",
    "    test = map((ntrials, train)-> setdiff(1:ntrials, train), ntrials, train)\n",
    "    test_data_STR = map((data, train)-> data[train], data_STR, test)\n",
    "\n",
    "    file = joinpath(GLM_model_path, region*\"_GLM_x\"*string(fold)*\".mat\")\n",
    "    xfolds = read(matopen(file), \"x\");\n",
    "    f = all_Softplus(data_STR)  \n",
    "\n",
    "    GLM_model_folds_STR[fold] = neural_choice_GLM_DDM(θneural_choice_GLM(xfolds, f), test_data_STR, n, cross);\n",
    "\n",
    "    LL_GLM_STR_folds[fold] = (PulseInputDDM.loglikelihood(GLM_model_folds_STR[fold]) - \n",
    "        choice_null(getfield.(vcat(test_data_STR...), :choice)))/(log(2) * \n",
    "        length(getfield.(vcat(test_data_STR...), :choice)));\n",
    "    \n",
    "    short_test_data_STR = map(x-> map(x -> neuraldata(x.input_data, \n",
    "            map(y-> getindex(y, length(y) - \n",
    "                    (x.input_data.pad - x.input_data.delay) - 5 + 1:length(y) - \n",
    "                    (x.input_data.pad - x.input_data.delay)), x.spikes), \n",
    "            x.ncells, x.choice), x), test_data_STR);\n",
    "    \n",
    "    file = joinpath(GLM_model_path, region*\"_short_GLM_x\"*string(fold)*\".mat\")\n",
    "    xfolds = read(matopen(file), \"x\");\n",
    "\n",
    "    short_GLM_model_folds_STR[fold] = neural_choice_GLM_DDM(θneural_choice_GLM(xfolds, f), short_test_data_STR, n, cross);\n",
    "\n",
    "    short_LL_GLM_STR_folds[fold] = (PulseInputDDM.loglikelihood(short_GLM_model_folds_STR[fold]) - \n",
    "        choice_null(getfield.(vcat(short_test_data_STR...), :choice)))/(log(2) * \n",
    "        length(getfield.(vcat(short_test_data_STR...), :choice)));\n",
    "end"
   ]
  },
  {
   "cell_type": "markdown",
   "metadata": {},
   "source": [
    "## choice LL"
   ]
  },
  {
   "cell_type": "code",
   "execution_count": 24,
   "metadata": {},
   "outputs": [],
   "source": [
    "import Statistics: mean"
   ]
  },
  {
   "cell_type": "code",
   "execution_count": 25,
   "metadata": {},
   "outputs": [],
   "source": [
    "LL_choice_FOF = mean(LL_choice_FOF_folds)\n",
    "LL_choice_STR = mean(LL_choice_STR_folds)\n",
    "LL_choice_PPC = mean(LL_choice_PPC_folds);"
   ]
  },
  {
   "cell_type": "code",
   "execution_count": 26,
   "metadata": {},
   "outputs": [
    {
     "data": {
      "text/plain": [
       "0.23512173063880612"
      ]
     },
     "execution_count": 26,
     "metadata": {},
     "output_type": "execute_result"
    }
   ],
   "source": [
    "LLGLM_FOF = mean(LL_GLM_FOF_folds)\n",
    "LLGLM_STR = mean(LL_GLM_STR_folds)\n",
    "LLGLM_PPC = mean(LL_GLM_PPC_folds)"
   ]
  },
  {
   "cell_type": "code",
   "execution_count": 27,
   "metadata": {},
   "outputs": [
    {
     "data": {
      "text/plain": [
       "0.25211420994190703"
      ]
     },
     "execution_count": 27,
     "metadata": {},
     "output_type": "execute_result"
    }
   ],
   "source": [
    "short_LLGLM_FOF = mean(short_LL_GLM_FOF_folds)\n",
    "short_LLGLM_STR = mean(short_LL_GLM_STR_folds)\n",
    "short_LLGLM_PPC = mean(short_LL_GLM_PPC_folds)"
   ]
  },
  {
   "cell_type": "code",
   "execution_count": 28,
   "metadata": {},
   "outputs": [],
   "source": [
    "LL_joint_FOF = mean(LL_joint_FOF_folds)\n",
    "LL_joint_STR = mean(LL_joint_STR_folds)\n",
    "LL_joint_PPC = mean(LL_joint_PPC_folds);"
   ]
  },
  {
   "cell_type": "markdown",
   "metadata": {},
   "source": [
    "## Fraction correct"
   ]
  },
  {
   "cell_type": "code",
   "execution_count": 29,
   "metadata": {},
   "outputs": [],
   "source": [
    "acc_joint_PPC = mean(map(x-> mean(vcat(choice_likelihood(x)...) .> 0.5), joint_model_folds_PPC));\n",
    "acc_joint_FOF = mean(map(x-> mean(vcat(choice_likelihood(x)...) .> 0.5), joint_model_folds_FOF));\n",
    "acc_joint_STR = mean(map(x-> mean(vcat(choice_likelihood(x)...) .> 0.5), joint_model_folds_STR));"
   ]
  },
  {
   "cell_type": "code",
   "execution_count": 30,
   "metadata": {},
   "outputs": [
    {
     "data": {
      "text/plain": [
       "0.7432078392661974"
      ]
     },
     "execution_count": 30,
     "metadata": {},
     "output_type": "execute_result"
    }
   ],
   "source": [
    "accGLM_STR = mean(map(x-> mean(vcat(likelihood(x)...) .> 0.5), GLM_model_folds_STR))\n",
    "accGLM_FOF = mean(map(x-> mean(vcat(likelihood(x)...) .> 0.5), GLM_model_folds_FOF))\n",
    "accGLM_PPC = mean(map(x-> mean(vcat(likelihood(x)...) .> 0.5), GLM_model_folds_PPC))"
   ]
  },
  {
   "cell_type": "code",
   "execution_count": 31,
   "metadata": {},
   "outputs": [
    {
     "data": {
      "text/plain": [
       "0.7451869486669669"
      ]
     },
     "execution_count": 31,
     "metadata": {},
     "output_type": "execute_result"
    }
   ],
   "source": [
    "short_accGLM_STR = mean(map(x-> mean(vcat(likelihood(x)...) .> 0.5), short_GLM_model_folds_STR))\n",
    "short_accGLM_FOF = mean(map(x-> mean(vcat(likelihood(x)...) .> 0.5), short_GLM_model_folds_FOF))\n",
    "short_accGLM_PPC = mean(map(x-> mean(vcat(likelihood(x)...) .> 0.5), short_GLM_model_folds_PPC))"
   ]
  },
  {
   "cell_type": "code",
   "execution_count": 32,
   "metadata": {},
   "outputs": [
    {
     "data": {
      "text/plain": [
       "0.7511822178599983"
      ]
     },
     "execution_count": 32,
     "metadata": {},
     "output_type": "execute_result"
    }
   ],
   "source": [
    "acc_choice_PPC = mean(map(x-> mean(vcat(likelihood(x)...) .> 0.5), choice_model_folds_PPC))"
   ]
  },
  {
   "cell_type": "code",
   "execution_count": 33,
   "metadata": {},
   "outputs": [
    {
     "data": {
      "text/plain": [
       "0.7378266777944307"
      ]
     },
     "execution_count": 33,
     "metadata": {},
     "output_type": "execute_result"
    }
   ],
   "source": [
    "acc_choice_FOF = mean(map(x-> mean(vcat(likelihood(x)...) .> 0.5), choice_model_folds_FOF))"
   ]
  },
  {
   "cell_type": "code",
   "execution_count": 34,
   "metadata": {},
   "outputs": [
    {
     "data": {
      "text/plain": [
       "0.7727489277466183"
      ]
     },
     "execution_count": 34,
     "metadata": {},
     "output_type": "execute_result"
    }
   ],
   "source": [
    "acc_choice_STR = mean(map(x-> mean(vcat(likelihood(x)...) .> 0.5), choice_model_folds_STR))"
   ]
  },
  {
   "cell_type": "code",
   "execution_count": 35,
   "metadata": {},
   "outputs": [],
   "source": [
    "using PyPlot"
   ]
  },
  {
   "cell_type": "code",
   "execution_count": 37,
   "metadata": {},
   "outputs": [
    {
     "data": {
      "image/png": "[encoded data removed]",
      "text/plain": [
       "Figure(PyObject <Figure size 900x450 with 2 Axes>)"
      ]
     },
     "metadata": {},
     "output_type": "display_data"
    }
   ],
   "source": [
    "fig, ax = subplots(1, 2, figsize=(3.0, 1.5), dpi=300, frameon=true)\n",
    "\n",
    "fs = 6\n",
    "\n",
    "mycolors = [\"red\", \"#1822A0\", \"#A01892\"]\n",
    "rc(\"xtick\", labelsize=fs)\n",
    "rc(\"ytick\", labelsize=fs)\n",
    "\n",
    "subplot(1,2,1)\n",
    "\n",
    "plot([1,2,3,4], \n",
    "    [LL_joint_FOF, LL_choice_FOF, LLGLM_FOF, short_LLGLM_FOF],\n",
    "        color=mycolors[1], Marker=\"o\", markersize=3);\n",
    "plot([1,2,3,4], \n",
    "    [LL_joint_PPC, LL_choice_PPC, LLGLM_PPC, short_LLGLM_PPC],\n",
    "            color=mycolors[2], Marker=\"o\", markersize=3);\n",
    "plot([1,2,3,4], \n",
    "    [LL_joint_STR, \n",
    "        LL_choice_STR, LLGLM_STR, short_LLGLM_STR],\n",
    "        color=mycolors[3], Marker=\"o\", markersize=3);\n",
    "xticks([1,2,3,4], [\"joint\", \"choice\", \"GLM\", \"GLM \\n 50 ms\"], rotation=0)\n",
    "ylim(0, 0.4);\n",
    "\n",
    "ax = gca()\n",
    "ax.spines[\"right\"].set_visible(false)\n",
    "ax.spines[\"top\"].set_visible(false)\n",
    "ax.spines[\"bottom\"].set_linewidth(0.5)\n",
    "ax.spines[\"left\"].set_linewidth(0.5)\n",
    "locs, = yticks()\n",
    "ax.set_yticks(range(locs[1], stop=locs[end], length=3), minor=false) \n",
    "ax.set_yticks(range(locs[1], stop=locs[end], length=5), minor=true)    \n",
    "ax.tick_params(width=0.5, length=2)\n",
    "ax.tick_params(which=\"minor\", width=0.5, length=1.5)\n",
    "\n",
    "subplot(1,2,2)\n",
    "\n",
    "plot([1,2,3,4], [acc_joint_FOF, acc_choice_FOF, accGLM_FOF, short_accGLM_FOF],\n",
    "        color=mycolors[1], Marker=\"o\", markersize=3);\n",
    "plot([1,2,3,4], [acc_joint_PPC, acc_choice_PPC, accGLM_PPC, short_accGLM_PPC],\n",
    "        color=mycolors[2], Marker=\"o\", markersize=3);\n",
    "plot([1,2,3,4], [acc_joint_STR, acc_choice_STR, accGLM_STR, short_accGLM_STR],\n",
    "        color=mycolors[3], Marker=\"o\", markersize=3);\n",
    "\n",
    "ax = gca()\n",
    "ax.spines[\"right\"].set_visible(false)\n",
    "ax.spines[\"top\"].set_visible(false)\n",
    "ax.spines[\"bottom\"].set_linewidth(0.5)\n",
    "ax.spines[\"left\"].set_linewidth(0.5)\n",
    "ax.spines[\"right\"].set_linewidth(0.5)\n",
    "ax.set_ylim(0.72, 0.82);\n",
    "locs, = yticks()\n",
    "xticks([1,2,3,4], [\"joint\", \"choice\", \"GLM\", \"GLM \\n 50 ms\"], rotation=0)\n",
    "ax.set_yticks(range(locs[1], stop=locs[end], length=6), minor=false) \n",
    "ax.set_yticks(range(locs[1], stop=locs[end], length=11), minor=true) \n",
    "ax.tick_params(width=0.5, length=2)\n",
    "ax.tick_params(axis=\"y\", labelcolor=\"black\")\n",
    "ax.tick_params(which=\"minor\", width=0.5, length=1.5)\n",
    "#ax.set_ylabel(\"accuracy\", fontsize=fs);\n",
    "\n",
    "tight_layout()\n",
    "PyPlot.savefig(joinpath(abspath(joinpath(pwd(), \"..\")), \"figs/\")*\"Fig6A.pdf\")"
   ]
  },
  {
   "cell_type": "code",
   "execution_count": null,
   "metadata": {},
   "outputs": [],
   "source": []
  }
 ],
 "metadata": {
  "kernelspec": {
   "display_name": "Julia 1.5.0",
   "language": "julia",
   "name": "julia-1.5"
  },
  "language_info": {
   "file_extension": ".jl",
   "mimetype": "application/julia",
   "name": "julia",
   "version": "1.5.0"
  }
 },
 "nbformat": 4,
 "nbformat_minor": 2
}
