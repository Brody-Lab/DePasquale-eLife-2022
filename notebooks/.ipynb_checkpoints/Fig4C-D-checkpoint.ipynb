{
 "cells": [
  {
   "cell_type": "code",
   "execution_count": 1,
   "metadata": {},
   "outputs": [],
   "source": [
    "using Distributed\n",
    "addprocs(44);"
   ]
  },
  {
   "cell_type": "code",
   "execution_count": null,
   "metadata": {},
   "outputs": [],
   "source": [
    "using PulseInputDDM, MAT, LinearAlgebra\n",
    "using PyPlot, Colors\n",
    "import Statistics: mean, median\n",
    "using Combinatorics, Random\n",
    "import Statistics: cor\n",
    "import PulseInputDDM: sep_joint_loglikelihood, cond_mean"
   ]
  },
  {
   "cell_type": "code",
   "execution_count": null,
   "metadata": {},
   "outputs": [],
   "source": [
    "ratnames = [\"B068\",\"T034\",\"T036\",\"T063\",\"T030\", \"T035\",\"T011\",\"B053\", \"T080\",\"T103\",\"E021\"];\n",
    "dt, n, cross = 1e-2, 53, false\n",
    "data_path = joinpath(abspath(joinpath(pwd(), \"..\")), \"data/by_session\")\n",
    "joint_model_path = joinpath(abspath(joinpath(pwd(), \"..\")), \"models/joint\");"
   ]
  },
  {
   "cell_type": "markdown",
   "metadata": {},
   "source": [
    "## Load data and model parameters"
   ]
  },
  {
   "cell_type": "code",
   "execution_count": null,
   "metadata": {},
   "outputs": [],
   "source": [
    "x = Vector(undef, 2);\n",
    "x_sep = Vector(undef, 2);"
   ]
  },
  {
   "cell_type": "code",
   "execution_count": null,
   "metadata": {},
   "outputs": [],
   "source": [
    "region, delay = \"FOF\", 6\n",
    "ratnum = 1:5\n",
    "rat = ratnames[ratnum]\n",
    "sessions = vcat(map(rat-> filter(x->occursin(rat,x), readdir(data_path)), rat)...);\n",
    "data_FOF, μ_rnt_FOF, = load_neural_data(joinpath.(data_path, sessions), pcut=0.01, pad=20, delay=delay, dt=dt, \n",
    "    filtSD=5, do_RBF=true);\n",
    "ntrials_FOF = sum(length.(data_FOF));"
   ]
  },
  {
   "cell_type": "code",
   "execution_count": null,
   "metadata": {},
   "outputs": [],
   "source": [
    "file = joinpath(joint_model_path, \"Fig2-FOF.mat\")\n",
    "f = string.(read(matopen(file), \"f\"))\n",
    "ncells = collect(read(matopen(file), \"ncells\"))\n",
    "nparams = read(matopen(file), \"nparams\")\n",
    "xf = read(matopen(file), \"ML_params\")\n",
    "nparamsFOF = nparams;\n",
    "ncellsFOF = ncells;\n",
    "borg = vcat(0,cumsum(ncells, dims=1))\n",
    "nparams = [nparams[i] for i in [borg[i-1]+1:borg[i] for i in 2:length(borg)]]\n",
    "f = [f[i] for i in [borg[i-1]+1:borg[i] for i in 2:length(borg)]];   \n",
    "x[1] = xf;\n",
    "joint_model_FOF = neural_choiceDDM(θneural_choice(xf, f), data_FOF, n, cross);"
   ]
  },
  {
   "cell_type": "markdown",
   "metadata": {},
   "source": [
    "### Organize model in the neural structure, for easy simulation of spikes trains"
   ]
  },
  {
   "cell_type": "code",
   "execution_count": null,
   "metadata": {},
   "outputs": [],
   "source": [
    "neural_model_FOF = neuralDDM(θ=θneural(θz=joint_model_FOF.θ.θz, θy=joint_model_FOF.θ.θy, \n",
    "        f=joint_model_FOF.θ.f), data=joint_model_FOF.data, \n",
    "    n=joint_model_FOF.n, cross=joint_model_FOF.cross);"
   ]
  },
  {
   "cell_type": "markdown",
   "metadata": {},
   "source": [
    "### Load data and model fits for the independent model"
   ]
  },
  {
   "cell_type": "code",
   "execution_count": null,
   "metadata": {},
   "outputs": [],
   "source": [
    "file = joinpath(joint_model_path, \"FOF_independent.mat\")\n",
    "f = string.(read(matopen(file), \"f\"))\n",
    "ncells = collect(read(matopen(file), \"ncells\"))\n",
    "nparams = read(matopen(file), \"nparams\")\n",
    "xf = read(matopen(file), \"ML_params\")\n",
    "borg = vcat(0,cumsum(ncells, dims=1))\n",
    "nparams = [nparams[i] for i in [borg[i-1]+1:borg[i] for i in 2:length(borg)]]\n",
    "f = [f[i] for i in [borg[i-1]+1:borg[i] for i in 2:length(borg)]];  \n",
    "x_sep[1] = xf;\n",
    "sep_joint_model_FOF = neural_choiceDDM(θneural_choice(xf, f), data_FOF, n, cross);"
   ]
  },
  {
   "cell_type": "code",
   "execution_count": null,
   "metadata": {},
   "outputs": [],
   "source": [
    "data, = load_neural_data(joinpath.(data_path, sessions), pcut=0.01, pad=20, delay=delay, dt=1e-2, filtSD=5,\n",
    "    do_RBF=true, break_sim_data=true);"
   ]
  },
  {
   "cell_type": "code",
   "execution_count": null,
   "metadata": {},
   "outputs": [],
   "source": [
    "data = vcat(data...);"
   ]
  },
  {
   "cell_type": "code",
   "execution_count": null,
   "metadata": {},
   "outputs": [],
   "source": [
    "sep_neural_model_FOF = neuralDDM(θ=θneural(θz=sep_joint_model_FOF.θ.θz, \n",
    "        θy=map(x-> [x], vcat(sep_joint_model_FOF.θ.θy...)), \n",
    "        f=all_Softplus(data)), data=data, \n",
    "    n=sep_joint_model_FOF.n, cross=sep_joint_model_FOF.cross);"
   ]
  },
  {
   "cell_type": "markdown",
   "metadata": {},
   "source": [
    "## Organize empirical data based on trial type for computing PSTH, and for removing PSTH predicted component of the autocorrelation function"
   ]
  },
  {
   "cell_type": "code",
   "execution_count": null,
   "metadata": {},
   "outputs": [],
   "source": [
    "nconds = 2"
   ]
  },
  {
   "cell_type": "code",
   "execution_count": null,
   "metadata": {},
   "outputs": [],
   "source": [
    "output = process_spike_data.(μ_rnt_FOF, neural_model_FOF.data; nconds=nconds);\n",
    "μ_ct_FOF, σ_ct_FOF = getindex.(output, 1), getindex.(output, 2);"
   ]
  },
  {
   "cell_type": "code",
   "execution_count": null,
   "metadata": {},
   "outputs": [],
   "source": [
    "μ_ct_FOF_2 = map(sess-> map(c-> map(n-> μ_ct_FOF[sess][n][c], 1:length(μ_ct_FOF[sess])), \n",
    "    1:2), 1:length(μ_ct_FOF));"
   ]
  },
  {
   "cell_type": "markdown",
   "metadata": {},
   "source": [
    "## Generate synthetic data samples from the fit model"
   ]
  },
  {
   "cell_type": "code",
   "execution_count": null,
   "metadata": {},
   "outputs": [],
   "source": [
    "μ_λ_FOF_sep = rand.(Ref(sep_neural_model_FOF.θ.θz), map(x-> [x], vcat(sep_joint_model_FOF.θ.θy...)), \n",
    "    sep_neural_model_FOF.data, 1);"
   ]
  },
  {
   "cell_type": "code",
   "execution_count": null,
   "metadata": {},
   "outputs": [],
   "source": [
    "ncells_FOF = getfield.(first.(joint_model_FOF.data), :ncells);\n",
    "borg = vcat(0,cumsum(ncells_FOF));\n",
    "μ_λ_FOF_sep_2 = [μ_λ_FOF_sep[i] for i in [borg[i-1]+1:borg[i] for i in 2:length(borg)]];\n",
    "μ_λ_FOF_sep_2 = map(x-> vcat.(x...), μ_λ_FOF_sep_2);"
   ]
  },
  {
   "cell_type": "code",
   "execution_count": null,
   "metadata": {},
   "outputs": [],
   "source": [
    "μ_λ_FOF = rand.(Ref(neural_model_FOF.θ.θz), neural_model_FOF.θ.θy, neural_model_FOF.data, 2);"
   ]
  },
  {
   "cell_type": "code",
   "execution_count": null,
   "metadata": {},
   "outputs": [],
   "source": [
    "μ_c_λ_FOF = cond_mean.(μ_λ_FOF, neural_model_FOF.data; nconds=nconds);"
   ]
  },
  {
   "cell_type": "code",
   "execution_count": null,
   "metadata": {},
   "outputs": [],
   "source": [
    "μ_c_λ_FOF_2 = map(sess-> map(c-> map(n-> μ_c_λ_FOF[sess][n][c], 1:length(μ_c_λ_FOF[sess])), \n",
    "    1:2), 1:length(μ_c_λ_FOF));"
   ]
  },
  {
   "cell_type": "code",
   "execution_count": null,
   "metadata": {},
   "outputs": [],
   "source": [
    "μ_λ_FOF_sep_2_2 = cond_mean.(μ_λ_FOF_sep_2, neural_model_FOF.data; nconds=nconds);\n",
    "μ_λ_FOF_sep_2_2 = map(sess-> map(c-> map(n-> μ_λ_FOF_sep_2_2[sess][n][c], 1:length(μ_λ_FOF_sep_2_2[sess])), \n",
    "    1:2), 1:length(μ_λ_FOF_sep_2_2));"
   ]
  },
  {
   "cell_type": "markdown",
   "metadata": {},
   "source": [
    "## Import functions for computing cross-correlations into notebook"
   ]
  },
  {
   "cell_type": "code",
   "execution_count": null,
   "metadata": {},
   "outputs": [],
   "source": [
    "include(joinpath(abspath(joinpath(pwd(), \"..\")), \"src/xcorrs.jl\"))"
   ]
  },
  {
   "cell_type": "markdown",
   "metadata": {},
   "source": [
    "## Compute xcorrs"
   ]
  },
  {
   "cell_type": "code",
   "execution_count": 24,
   "metadata": {},
   "outputs": [],
   "source": [
    "output = map(i-> do_xcorrs_real(neural_model_FOF.data, i, μ_ct_FOF_2), 1:length(neural_model_FOF.data));\n",
    "\n",
    "mymax = getindex.(output, 1)\n",
    "xcorr_spikes = getindex.(output, 2);"
   ]
  },
  {
   "cell_type": "code",
   "execution_count": 25,
   "metadata": {},
   "outputs": [],
   "source": [
    "output = map(i-> do_xcorrs_synth(neural_model_FOF.data, i, μ_λ_FOF, μ_c_λ_FOF_2), 1:length(neural_model_FOF.data));\n",
    "\n",
    "mymax_syn = getindex.(output, 1)\n",
    "xcorr_spikes_syn = getindex.(output, 2);"
   ]
  },
  {
   "cell_type": "code",
   "execution_count": 26,
   "metadata": {},
   "outputs": [],
   "source": [
    "output = map(i-> do_xcorrs_synth(neural_model_FOF.data, i, μ_λ_FOF_sep_2, μ_λ_FOF_sep_2_2), 1:length(neural_model_FOF.data));\n",
    "\n",
    "mymax_syn_sep = getindex.(output, 1)\n",
    "xcorr_spikes_syn_sep = getindex.(output, 2);\n",
    "cells = getindex.(output, 3);\n",
    "cells_FOF = cells;"
   ]
  },
  {
   "cell_type": "code",
   "execution_count": 27,
   "metadata": {},
   "outputs": [],
   "source": [
    "xcorr_spikes_sub = deepcopy(xcorr_spikes);"
   ]
  },
  {
   "cell_type": "code",
   "execution_count": 28,
   "metadata": {},
   "outputs": [
    {
     "data": {
      "text/plain": [
       "3-element Vector{Float64}:\n",
       " NaN\n",
       " NaN\n",
       " NaN"
      ]
     },
     "execution_count": 28,
     "metadata": {},
     "output_type": "execute_result"
    }
   ],
   "source": [
    "map(x-> x[159] = NaN, xcorr_spikes_sub[39][map(x-> x[1] == x[2], cells[39])])\n",
    "map(x-> x[160] = NaN, xcorr_spikes_sub[45][map(x-> x[1] == x[2], cells[45])])"
   ]
  },
  {
   "cell_type": "code",
   "execution_count": 30,
   "metadata": {},
   "outputs": [
    {
     "data": {
      "image/png": "[encoded data removed]",
      "text/plain": [
       "Figure(PyObject <Figure size 900x1200 with 12 Axes>)"
      ]
     },
     "metadata": {},
     "output_type": "display_data"
    }
   ],
   "source": [
    "fig, ax = subplots(4, 3, figsize=(3,4), dpi=300, frameon=true)\n",
    "\n",
    "fs = 6\n",
    "\n",
    "i = 39\n",
    "\n",
    "my_colors_FOF= map(x-> \"#\"*x, hex.(range(colorant\"red\", stop=colorant\"green\", length=4)));\n",
    "my_colors_FOF_2= map(x-> \"#\"*x, hex.(range(colorant\"red\", stop=colorant\"green\", length=nconds)));\n",
    "rc(\"xtick\", labelsize=fs)\n",
    "rc(\"ytick\", labelsize=fs)\n",
    "\n",
    "pltvec = vcat(1,5,9,2:3,6);\n",
    " \n",
    "lw = 1\n",
    "\n",
    "for j in 1:length(cells[i]) \n",
    "     \n",
    "    ax[reverse(cells[i][j])...].plot((-(mymax_syn[i]-1):(mymax_syn[i]-1))*dt, xcorr_spikes_syn[i][j], color=\"k\", \n",
    "        label=\"shared\", LineWidth=lw)\n",
    "    ax[reverse(cells[i][j])...].plot((-(mymax_syn_sep[i]-1):(mymax_syn_sep[i]-1))*dt, xcorr_spikes_syn_sep[i][j], color=[0.5, 0.5, 0.5], \n",
    "        LineStyle=\"-\", label=\"independent\", LineWidth=lw)\n",
    "    ax[reverse(cells[i][j])...].plot((-(mymax[i]-1):(mymax[i]-1))*dt, xcorr_spikes_sub[i][j], color=my_colors_FOF[1],\n",
    "        label=\"data\", LineWidth=lw/2)\n",
    "    \n",
    "    ax[reverse(cells[i][j])...].spines[\"right\"].set_visible(false)\n",
    "    ax[reverse(cells[i][j])...].spines[\"top\"].set_visible(false)\n",
    "    ax[reverse(cells[i][j])...].spines[\"bottom\"].set_linewidth(0.5)\n",
    "    ax[reverse(cells[i][j])...].spines[\"left\"].set_linewidth(0.5)\n",
    "    ax[reverse(cells[i][j])...].set_xlim(-0.80, 0.80)\n",
    "    \n",
    "    if pltvec[j] == 1\n",
    "        ax[reverse(cells[i][j])...].set_ylim(-12, 12)\n",
    "        ax[reverse(cells[i][j])...].set_yticks(range(-10, stop=10, length=3))\n",
    "        ax[reverse(cells[i][j])...].set_yticks(range(-10, stop=10, length=5), minor=true)\n",
    "    elseif pltvec[j] == 2\n",
    "        ax[reverse(cells[i][j])...].set_ylim(-7, 7)\n",
    "        ax[reverse(cells[i][j])...].set_yticks(range(-5, stop=5, length=3))\n",
    "        ax[reverse(cells[i][j])...].set_yticks(range(-5, stop=5, length=5), minor=true)\n",
    "    elseif pltvec[j] == 3\n",
    "        ax[reverse(cells[i][j])...].set_ylim(-7., 7)\n",
    "        ax[reverse(cells[i][j])...].set_yticks(range(-5, stop=5, length=3))\n",
    "        ax[reverse(cells[i][j])...].set_yticks(range(-5, stop=5, length=5), minor=true)\n",
    "    elseif pltvec[j] == 6\n",
    "        ax[reverse(cells[i][j])...].set_ylim(-7, 7)\n",
    "        ax[reverse(cells[i][j])...].set_yticks(range(-5, stop=5, length=3))\n",
    "        ax[reverse(cells[i][j])...].set_yticks(range(-5, stop=5, length=5), minor=true)\n",
    "    elseif pltvec[j] == 5\n",
    "        ax[reverse(cells[i][j])...].set_ylim(-12, 12)\n",
    "        ax[reverse(cells[i][j])...].set_yticks(range(-10, stop=10, length=3))\n",
    "        ax[reverse(cells[i][j])...].set_yticks(range(-10, stop=10, length=5), minor=true)\n",
    "    elseif pltvec[j] == 9\n",
    "        ax[reverse(cells[i][j])...].set_ylim(-15, 15)\n",
    "        ax[reverse(cells[i][j])...].set_yticks(range(-10, stop=10, length=3))\n",
    "        ax[reverse(cells[i][j])...].set_yticks(range(-10, stop=10, length=5), minor=true)\n",
    "    end\n",
    "    \n",
    "    ax[reverse(cells[i][j])...].tick_params(width=0.5, length=2)    \n",
    "    ax[reverse(cells[i][j])...].tick_params(width=0.5, length=2)\n",
    "    ax[reverse(cells[i][j])...].set_xticks(range(-0.8, stop=0.8, length=3))\n",
    "    ax[reverse(cells[i][j])...].set_xticks(range(-0.8, stop=0.8, length=9), minor=true)\n",
    "    ax[reverse(cells[i][j])...].tick_params(which=\"minor\", width=0.5, length=1.5)\n",
    "\n",
    "end\n",
    "\n",
    "idxs = [4,8,12]\n",
    "toplot = collect(1:3)\n",
    "toplot2 = sum(ncells_FOF[1:i-1]) .+ toplot\n",
    "\n",
    "for j in 1:length(idxs)  \n",
    "    \n",
    "    if idxs[j] == 4 \n",
    "        ax[idxs[j]].set_ylim(0, 25)\n",
    "        ax[idxs[j]].set_yticks(sort(vcat(range(0., stop=20., length=3))))\n",
    "        ax[idxs[j]].set_yticks(range(0., stop=25, length=6), minor=true)\n",
    "        \n",
    "    elseif idxs[j] == 8\n",
    "        ax[idxs[j]].set_ylim(0, 25)\n",
    "        ax[idxs[j]].set_yticks(sort(vcat(range(0., stop=20., length=3))))\n",
    "        ax[idxs[j]].set_yticks(range(0., stop=25, length=6), minor=true)\n",
    "        \n",
    "    elseif idxs[j] == 12\n",
    "\n",
    "        ax[idxs[j]].set_ylim(0, 20)\n",
    "        ax[idxs[j]].set_yticks(sort(vcat(range(0., stop=20., length=3))))\n",
    "        ax[idxs[j]].set_yticks(range(0., stop=20, length=5), minor=true)\n",
    "\n",
    "    end\n",
    "\n",
    "    for k = 1:nconds   \n",
    "\n",
    "        ax[idxs[j]].fill_between((1:length(μ_ct_FOF[i][toplot[j]][k]))*dt .- 0.2,\n",
    "            μ_ct_FOF[i][toplot[j]][k] + σ_ct_FOF[i][toplot[j]][k],\n",
    "            μ_ct_FOF[i][toplot[j]][k] - σ_ct_FOF[i][toplot[j]][k],\n",
    "            alpha=0.8, color=my_colors_FOF_2[k]) \n",
    "\n",
    "    end   \n",
    "        \n",
    "    ax[idxs[j]].set_xlim(-0.2, 0.8)    \n",
    "    ax[idxs[j]].spines[\"right\"].set_visible(false)\n",
    "    ax[idxs[j]].spines[\"top\"].set_visible(false)\n",
    "    ax[idxs[j]].spines[\"bottom\"].set_linewidth(0.5)\n",
    "    ax[idxs[j]].spines[\"left\"].set_linewidth(0.5)\n",
    "    \n",
    "    ax[idxs[j]].tick_params(width=0.5, length=2)\n",
    "    ax[idxs[j]].set_xticks(range(-0.0, stop=0.8, length=3))\n",
    "    ax[idxs[j]].set_xticks(range(-0.2, stop=0.8, length=6), minor=true)\n",
    "    ax[idxs[j]].tick_params(which=\"minor\", width=0.5, length=1.5)  \n",
    "\n",
    "end\n",
    "\n",
    "[ax[i].axis(\"off\") for i in [5,9,10]]\n",
    "\n",
    "tight_layout()\n",
    "region = \"FOF\";\n",
    "PyPlot.savefig(joinpath(abspath(joinpath(pwd(), \"..\")), \"figs/\")*\"Fig4C.pdf\")"
   ]
  },
  {
   "cell_type": "markdown",
   "metadata": {},
   "source": [
    "#### Pearson correlation between synthetic and empirial cross-correlation functions"
   ]
  },
  {
   "cell_type": "code",
   "execution_count": 31,
   "metadata": {},
   "outputs": [],
   "source": [
    "flat_xcorr_spikes = vec.(vcat(xcorr_spikes...));\n",
    "flat_xcorr_spikes_syn = vec.(vcat(xcorr_spikes_syn...));\n",
    "flat_xcorr_spikes_syn_sep = vec.(vcat(xcorr_spikes_syn_sep...));\n",
    "\n",
    "cut_xcorr_spikes = map(x-> x[Int((length(x) - 1)/2) - 80 + 1: Int((length(x) - 1)/2)+80+1], flat_xcorr_spikes);\n",
    "cut_xcorr_spikes_syn = map(x-> x[Int((length(x) - 1)/2) - 80 + 1: Int((length(x) - 1)/2)+80+1], flat_xcorr_spikes_syn);\n",
    "cut_xcorr_spikes_syn_sep = map(x-> x[Int((length(x) - 1)/2) - 80 + 1: Int((length(x) - 1)/2)+80+1], flat_xcorr_spikes_syn_sep);"
   ]
  },
  {
   "cell_type": "code",
   "execution_count": 32,
   "metadata": {},
   "outputs": [],
   "source": [
    "borg = vcat(0,cumsum(length.(cells_FOF), dims=1))\n",
    "cut_xcorr_spikes_2 = [cut_xcorr_spikes[i] for i in [borg[i-1]+1:borg[i] for i in 2:length(borg)]];   \n",
    "cut_xcorr_spikes_syn_2 = [cut_xcorr_spikes_syn[i] for i in [borg[i-1]+1:borg[i] for i in 2:length(borg)]];   \n",
    "cut_xcorr_spikes_syn_sep_2 = [cut_xcorr_spikes_syn_sep[i] for i in [borg[i-1]+1:borg[i] for i in 2:length(borg)]];   "
   ]
  },
  {
   "cell_type": "code",
   "execution_count": 33,
   "metadata": {},
   "outputs": [],
   "source": [
    "pearFOF_cross = map((x,y,z)-> map((x,y,z)-> (x[1] .!== x[2] ? cor(y,z) : NaN), x, y, z), cells_FOF, \n",
    "    cut_xcorr_spikes_2, cut_xcorr_spikes_syn_2);"
   ]
  },
  {
   "cell_type": "code",
   "execution_count": 34,
   "metadata": {},
   "outputs": [],
   "source": [
    "pearFOF_cross_sep = map((x,y,z)-> map((x,y,z)-> (x[1] .!== x[2] ? cor(y,z) : NaN), x, y, z), cells_FOF, \n",
    "    cut_xcorr_spikes_2, cut_xcorr_spikes_syn_sep_2);"
   ]
  },
  {
   "cell_type": "code",
   "execution_count": 35,
   "metadata": {},
   "outputs": [
    {
     "data": {
      "text/plain": [
       "0.5489829388839749"
      ]
     },
     "execution_count": 35,
     "metadata": {},
     "output_type": "execute_result"
    }
   ],
   "source": [
    "mean_pearFOF_cross = mean(abs.(filter(!isnan, vcat(pearFOF_cross...))))"
   ]
  },
  {
   "cell_type": "code",
   "execution_count": 36,
   "metadata": {},
   "outputs": [
    {
     "data": {
      "text/plain": [
       "0.5704801389868445"
      ]
     },
     "execution_count": 36,
     "metadata": {},
     "output_type": "execute_result"
    }
   ],
   "source": [
    "mean_pearFOF_sep_cross = mean(abs.(filter(!isnan, vcat(pearFOF_cross_sep...))))"
   ]
  },
  {
   "cell_type": "markdown",
   "metadata": {},
   "source": [
    "## Run the same analysis for the ADS data"
   ]
  },
  {
   "cell_type": "code",
   "execution_count": 37,
   "metadata": {},
   "outputs": [],
   "source": [
    "region, delay = \"ADS\", 6\n",
    "ratnum = 9:11\n",
    "rat = ratnames[ratnum]\n",
    "\n",
    "sessions = vcat(map(rat-> filter(x->occursin(rat,x), readdir(data_path)), rat)...);\n",
    "\n",
    "data_STR, μ_rnt_STR, = load_neural_data(joinpath.(data_path, sessions), pcut=0.01, pad=20, delay=delay, dt=dt, \n",
    "    filtSD=5, do_RBF=true);\n",
    "ntrials_STR = sum(length.(data_STR));"
   ]
  },
  {
   "cell_type": "code",
   "execution_count": 38,
   "metadata": {},
   "outputs": [
    {
     "data": {
      "text/plain": [
       "neural_choiceDDM{θneural_choice{θz{Float64}, Float64, Vector{Vector{Softplus{Float64}}}}, Vector{Vector{neuraldata}}}\n",
       "  θ: θneural_choice{θz{Float64}, Float64, Vector{Vector{Softplus{Float64}}}}\n",
       "  data: Array{Vector{neuraldata}}((27,))\n",
       "  n: Int64 53\n",
       "  cross: Bool false\n"
      ]
     },
     "execution_count": 38,
     "metadata": {},
     "output_type": "execute_result"
    }
   ],
   "source": [
    "file = joinpath(joint_model_path, \"Fig2-ADS.mat\")\n",
    "f = string.(read(matopen(file), \"f\"))\n",
    "ncells = collect(read(matopen(file), \"ncells\"))\n",
    "nparams = read(matopen(file), \"nparams\")\n",
    "xf = read(matopen(file), \"ML_params\")\n",
    "borg = vcat(0,cumsum(ncells, dims=1))\n",
    "nparams = [nparams[i] for i in [borg[i-1]+1:borg[i] for i in 2:length(borg)]]\n",
    "f = [f[i] for i in [borg[i-1]+1:borg[i] for i in 2:length(borg)]];   \n",
    "x[2] = xf;\n",
    "joint_model_STR = neural_choiceDDM(θneural_choice(xf, f), data_STR, n, cross)"
   ]
  },
  {
   "cell_type": "code",
   "execution_count": 39,
   "metadata": {},
   "outputs": [],
   "source": [
    "neural_model_STR = neuralDDM(θ=θneural(θz=joint_model_STR.θ.θz, θy=joint_model_STR.θ.θy, \n",
    "        f=joint_model_STR.θ.f), data=joint_model_STR.data, \n",
    "    n=joint_model_STR.n, cross=joint_model_STR.cross);"
   ]
  },
  {
   "cell_type": "code",
   "execution_count": 40,
   "metadata": {},
   "outputs": [
    {
     "data": {
      "text/plain": [
       "neural_choiceDDM{θneural_choice{θz{Float64}, Float64, Vector{Vector{Softplus{Float64}}}}, Vector{Vector{neuraldata}}}\n",
       "  θ: θneural_choice{θz{Float64}, Float64, Vector{Vector{Softplus{Float64}}}}\n",
       "  data: Array{Vector{neuraldata}}((27,))\n",
       "  n: Int64 53\n",
       "  cross: Bool false\n"
      ]
     },
     "execution_count": 40,
     "metadata": {},
     "output_type": "execute_result"
    }
   ],
   "source": [
    "file = joinpath(joint_model_path, \"ADS_independent.mat\")\n",
    "f = string.(read(matopen(file), \"f\"))\n",
    "ncells = collect(read(matopen(file), \"ncells\"))\n",
    "nparams = read(matopen(file), \"nparams\")\n",
    "xf = read(matopen(file), \"ML_params\")\n",
    "borg = vcat(0,cumsum(ncells, dims=1))\n",
    "nparams = [nparams[i] for i in [borg[i-1]+1:borg[i] for i in 2:length(borg)]]\n",
    "f = [f[i] for i in [borg[i-1]+1:borg[i] for i in 2:length(borg)]];  \n",
    "x_sep[2] = xf;\n",
    "sep_joint_model_STR = neural_choiceDDM(θneural_choice(xf, f), data_STR, n, cross)"
   ]
  },
  {
   "cell_type": "code",
   "execution_count": null,
   "metadata": {},
   "outputs": [],
   "source": [
    "data, = load_neural_data(joinpath.(data_path, sessions), pcut=0.01, pad=20, delay=delay, dt=1e-2, filtSD=5,\n",
    "    do_RBF=true, break_sim_data=true);\n",
    "data = vcat(data...);"
   ]
  },
  {
   "cell_type": "code",
   "execution_count": null,
   "metadata": {},
   "outputs": [],
   "source": [
    "sep_neural_model_STR = neuralDDM(θ=θneural(θz=sep_joint_model_STR.θ.θz, \n",
    "        θy=map(x-> [x], vcat(sep_joint_model_STR.θ.θy...)), \n",
    "        f=all_Softplus(data)), data=data, \n",
    "    n=sep_joint_model_STR.n, cross=sep_joint_model_STR.cross);"
   ]
  },
  {
   "cell_type": "code",
   "execution_count": null,
   "metadata": {},
   "outputs": [],
   "source": [
    "output = process_spike_data.(μ_rnt_STR, neural_model_STR.data; nconds=nconds);\n",
    "μ_ct_STR, σ_ct_STR = getindex.(output, 1), getindex.(output, 2);"
   ]
  },
  {
   "cell_type": "code",
   "execution_count": null,
   "metadata": {},
   "outputs": [],
   "source": [
    "μ_ct_STR_2 = map(sess-> map(c-> map(n-> μ_ct_STR[sess][n][c], 1:length(μ_ct_STR[sess])), \n",
    "    1:2), 1:length(μ_ct_STR));"
   ]
  },
  {
   "cell_type": "code",
   "execution_count": null,
   "metadata": {},
   "outputs": [],
   "source": [
    "μ_λ_STR_sep = rand.(Ref(sep_neural_model_STR.θ.θz), map(x-> [x], vcat(sep_joint_model_STR.θ.θy...)), \n",
    "    sep_neural_model_STR.data, 1);\n",
    "\n",
    "ncells_STR = getfield.(first.(joint_model_STR.data), :ncells);\n",
    "borg = vcat(0,cumsum(ncells_STR))\n",
    "μ_λ_STR_sep_2 = [μ_λ_STR_sep[i] for i in [borg[i-1]+1:borg[i] for i in 2:length(borg)]];\n",
    "μ_λ_STR_sep_2 = map(x-> vcat.(x...), μ_λ_STR_sep_2);"
   ]
  },
  {
   "cell_type": "code",
   "execution_count": null,
   "metadata": {},
   "outputs": [],
   "source": [
    "μ_λ_STR = rand.(Ref(neural_model_STR.θ.θz), neural_model_STR.θ.θy, neural_model_STR.data, 2);"
   ]
  },
  {
   "cell_type": "code",
   "execution_count": null,
   "metadata": {},
   "outputs": [],
   "source": [
    "μ_c_λ_STR = cond_mean.(μ_λ_STR, neural_model_STR.data; nconds=nconds);\n",
    "\n",
    "μ_c_λ_STR_2 = map(sess-> map(c-> map(n-> μ_c_λ_STR[sess][n][c], 1:length(μ_c_λ_STR[sess])), \n",
    "    1:2), 1:length(μ_c_λ_STR));\n",
    "\n",
    "μ_λ_STR_sep_2_2 = cond_mean.(μ_λ_STR_sep_2, neural_model_STR.data; nconds=nconds);\n",
    "μ_λ_STR_sep_2_2 = map(sess-> map(c-> map(n-> μ_λ_STR_sep_2_2[sess][n][c], 1:length(μ_λ_STR_sep_2_2[sess])), \n",
    "    1:2), 1:length(μ_λ_STR_sep_2_2));"
   ]
  },
  {
   "cell_type": "code",
   "execution_count": null,
   "metadata": {},
   "outputs": [],
   "source": [
    "output = map(i-> do_xcorrs_real(neural_model_STR.data, i, μ_ct_STR_2), 1:length(neural_model_STR.data));\n",
    "\n",
    "mymax = getindex.(output, 1)\n",
    "xcorr_spikes = getindex.(output, 2);"
   ]
  },
  {
   "cell_type": "code",
   "execution_count": null,
   "metadata": {},
   "outputs": [],
   "source": [
    "output = map(i-> do_xcorrs_synth(neural_model_STR.data, i, μ_λ_STR, μ_c_λ_STR_2), 1:length(neural_model_STR.data));\n",
    "\n",
    "mymax_syn = getindex.(output, 1)\n",
    "xcorr_spikes_syn = getindex.(output, 2);"
   ]
  },
  {
   "cell_type": "code",
   "execution_count": null,
   "metadata": {},
   "outputs": [],
   "source": [
    "output = map(i-> do_xcorrs_synth(neural_model_STR.data, i, μ_λ_STR_sep_2, μ_λ_STR_sep_2_2), 1:length(neural_model_STR.data));\n",
    "\n",
    "mymax_syn_sep = getindex.(output, 1)\n",
    "xcorr_spikes_syn_sep = getindex.(output, 2);\n",
    "cells = getindex.(output, 3);\n",
    "cells_STR = cells;"
   ]
  },
  {
   "cell_type": "code",
   "execution_count": null,
   "metadata": {},
   "outputs": [],
   "source": [
    "cells_sub = cells[13][[1,3,5,7,9,14]]\n",
    "cells_sub[2] = [2,2]\n",
    "cells_sub[3] = [3,3]\n",
    "cells_sub[4] = [1,2]\n",
    "cells_sub[5] = [1,3]\n",
    "cells_sub[6] = [2,3];"
   ]
  },
  {
   "cell_type": "code",
   "execution_count": null,
   "metadata": {},
   "outputs": [],
   "source": [
    "xcorr_spikes_sub = deepcopy(xcorr_spikes);"
   ]
  },
  {
   "cell_type": "code",
   "execution_count": null,
   "metadata": {},
   "outputs": [],
   "source": [
    "map(x-> x[139] = NaN, xcorr_spikes_sub[13][map(x-> x[1] == x[2], cells[13])])"
   ]
  },
  {
   "cell_type": "code",
   "execution_count": null,
   "metadata": {},
   "outputs": [],
   "source": [
    "xcorr_spikes_syn_sub = xcorr_spikes_syn[13][[1,3,5,7,9,14]];\n",
    "xcorr_spikes_syn_sep_sub = xcorr_spikes_syn_sep[13][[1,3,5,7,9,14]];\n",
    "xcorr_spikes_sub = xcorr_spikes_sub[13][[1,3,5,7,9,14]];"
   ]
  },
  {
   "cell_type": "code",
   "execution_count": null,
   "metadata": {
    "scrolled": false
   },
   "outputs": [],
   "source": [
    "fig, ax = subplots(4, 3, figsize=(3,4), dpi=300, frameon=true)\n",
    "\n",
    "fs = 6\n",
    "\n",
    "my_colors_STR= map(x-> \"#\"*x, hex.(range(colorant\"#A01892\", stop=colorant\"#E9E62F\", length=4)));\n",
    "my_colors_STR_2= map(x-> \"#\"*x, hex.(range(colorant\"#A01892\", stop=colorant\"#E9E62F\", length=nconds)));\n",
    "my_colors_FOF= map(x-> \"#\"*x, hex.(range(colorant\"red\", stop=colorant\"green\", length=nconds)));\n",
    "\n",
    "rc(\"xtick\", labelsize=fs)\n",
    "rc(\"ytick\", labelsize=fs)\n",
    "\n",
    "pltvec = vcat(1,5,9,2:3,6);\n",
    "\n",
    "i = 13   \n",
    "lw = 1\n",
    "\n",
    "for j in 1:length(cells_sub)  \n",
    "\n",
    "    ax[reverse(cells_sub[j])...].plot((-(mymax_syn[i]-1):(mymax_syn[i]-1))*dt, xcorr_spikes_syn_sub[j], color=\"k\", \n",
    "        label=\"shared\", LineWidth=lw)\n",
    "    ax[reverse(cells_sub[j])...].plot((-(mymax_syn_sep[i]-1):(mymax_syn_sep[i]-1))*dt, xcorr_spikes_syn_sep_sub[j], color=[0.5, 0.5, 0.5], \n",
    "        LineStyle=\"-\", label=\"independent\", LineWidth=lw)\n",
    "    ax[reverse(cells_sub[j])...].plot((-(mymax[i]-1):(mymax[i]-1))*dt, xcorr_spikes_sub[j], color=my_colors_STR[1],\n",
    "        label=\"data\", LineWidth=lw/2)\n",
    "    \n",
    "    ax[reverse(cells_sub[j])...].spines[\"right\"].set_visible(false)\n",
    "    ax[reverse(cells_sub[j])...].spines[\"top\"].set_visible(false)\n",
    "    ax[reverse(cells_sub[j])...].spines[\"bottom\"].set_linewidth(0.5)\n",
    "    ax[reverse(cells_sub[j])...].spines[\"left\"].set_linewidth(0.5)\n",
    "    ax[reverse(cells_sub[j])...].set_xlim(-0.80, 0.80)\n",
    "    ax[reverse(cells_sub[j])...].set_xticks([-0.80, 0, 0.80])\n",
    "    \n",
    "    if pltvec[j] == 1\n",
    "        ax[reverse(cells_sub[j])...].set_ylim(-20, 50)\n",
    "        ax[reverse(cells_sub[j])...].set_yticks(range(-20, stop=40, length=4))\n",
    "        ax[reverse(cells_sub[j])...].set_yticks(range(-20, stop=50, length=8), minor=true)\n",
    "    elseif pltvec[j] == 2\n",
    "        ax[reverse(cells_sub[j])...].set_ylim(-30, 60)\n",
    "        ax[reverse(cells_sub[j])...].set_yticks(range(-20, stop=60, length=5))\n",
    "        ax[reverse(cells_sub[j])...].set_yticks(range(-30, stop=60, length=10), minor=true)\n",
    "    elseif pltvec[j] == 3\n",
    "        ax[reverse(cells_sub[j])...].set_ylim(-25, 25)\n",
    "        ax[reverse(cells_sub[j])...].set_yticks(range(-20, stop=20, length=3))\n",
    "        ax[reverse(cells_sub[j])...].set_yticks(range(-20, stop=20, length=5), minor=true)\n",
    "    elseif pltvec[j] == 5\n",
    "        ax[reverse(cells_sub[j])...].set_ylim(-10, 40)\n",
    "        ax[reverse(cells_sub[j])...].set_yticks(range(0, stop=40, length=3))\n",
    "        ax[reverse(cells_sub[j])...].set_yticks(range(-10, stop=40, length=6), minor=true)\n",
    "    elseif pltvec[j] == 6\n",
    "        ax[reverse(cells_sub[j])...].set_ylim(-20, 30)   \n",
    "        ax[reverse(cells_sub[j])...].set_yticks(range(-20, stop=20, length=3))\n",
    "        ax[reverse(cells_sub[j])...].set_yticks(range(-20, stop=30, length=6), minor=true)\n",
    "    elseif pltvec[j] == 9\n",
    "        ax[reverse(cells_sub[j])...].set_ylim(-10, 20)\n",
    "        ax[reverse(cells_sub[j])...].set_yticks(range(-10, stop=20, length=4))\n",
    "        ax[reverse(cells_sub[j])...].set_yticks(range(-10, stop=20, length=7), minor=true)\n",
    "    end\n",
    "        \n",
    "    ax[reverse(cells_sub[j])...].tick_params(width=0.5, length=2)  \n",
    "    ax[reverse(cells_sub[j])...].tick_params(width=0.5, length=2)\n",
    "    ax[reverse(cells_sub[j])...].set_xticks(range(-0.8, stop=0.8, length=3))\n",
    "    ax[reverse(cells_sub[j])...].set_xticks(range(-0.8, stop=0.8, length=9), minor=true)\n",
    "    ax[reverse(cells_sub[j])...].tick_params(which=\"minor\", width=0.5, length=1.5)\n",
    "\n",
    "end\n",
    "\n",
    "idxs = [4,8,12]\n",
    "toplot = [1,3,5]\n",
    "toplot2 = sum(ncells_STR[1:i-1]) .+ toplot\n",
    "\n",
    "for j in 1:length(idxs)  \n",
    "    \n",
    "    if idxs[j] == 4  \n",
    "        ax[idxs[j]].set_ylim(0, 60)\n",
    "        ax[idxs[j]].set_yticks(range(0., stop=60, length=7), minor=true)\n",
    "        ax[idxs[j]].set_yticks(sort(vcat(range(0., stop=60., length=4))))\n",
    "    elseif idxs[j] == 8  \n",
    "        ax[idxs[j]].set_ylim(0, 40)\n",
    "        ax[idxs[j]].set_yticks(range(0., stop=40, length=5), minor=true)\n",
    "        ax[idxs[j]].set_yticks(sort(vcat(range(0., stop=40., length=3))))\n",
    "    elseif idxs[j] == 12\n",
    "        ax[idxs[j]].set_ylim(0, 40)\n",
    "        ax[idxs[j]].set_yticks(range(0., stop=40, length=5), minor=true)\n",
    "        ax[idxs[j]].set_yticks(sort(vcat(range(0., stop=40., length=3))))\n",
    "    end\n",
    "    \n",
    "    for k = 1:nconds   \n",
    "\n",
    "        ax[idxs[j]].fill_between((1:length(μ_ct_STR[i][toplot[j]][k]))*dt .- 0.2,\n",
    "            μ_ct_STR[i][toplot[j]][k] + σ_ct_STR[i][toplot[j]][k],\n",
    "            μ_ct_STR[i][toplot[j]][k] - σ_ct_STR[i][toplot[j]][k],\n",
    "            alpha=0.8, color=my_colors_STR_2[k]) \n",
    "        \n",
    "    end   \n",
    "     \n",
    "    ax[idxs[j]].set_xlim(-0.2, 0.8)\n",
    "    ax[idxs[j]].spines[\"right\"].set_visible(false)\n",
    "    ax[idxs[j]].spines[\"top\"].set_visible(false)\n",
    "    ax[idxs[j]].spines[\"bottom\"].set_linewidth(0.5)\n",
    "    ax[idxs[j]].spines[\"left\"].set_linewidth(0.5)\n",
    "    \n",
    "    ax[idxs[j]].tick_params(width=0.5, length=2)\n",
    "    ax[idxs[j]].set_xticks(range(-0.0, stop=0.8, length=3))\n",
    "    ax[idxs[j]].set_xticks(range(-0.2, stop=0.8, length=6), minor=true)\n",
    "    ax[idxs[j]].tick_params(which=\"minor\", width=0.5, length=1.5) \n",
    "  \n",
    "\n",
    "end\n",
    "\n",
    "[ax[i].axis(\"off\") for i in [5,9,10]]\n",
    "\n",
    "tight_layout()\n",
    "PyPlot.savefig(joinpath(abspath(joinpath(pwd(), \"..\")), \"figs/\")*\"Fig4D.pdf\")"
   ]
  },
  {
   "cell_type": "code",
   "execution_count": null,
   "metadata": {},
   "outputs": [],
   "source": [
    "flat_xcorr_spikes = vec.(vcat(xcorr_spikes...));\n",
    "flat_xcorr_spikes_syn = vec.(vcat(xcorr_spikes_syn...));\n",
    "flat_xcorr_spikes_syn_sep = vec.(vcat(xcorr_spikes_syn_sep...));\n",
    "cut_xcorr_spikes = map(x-> x[Int((length(x) - 1)/2) - 80 + 1: Int((length(x) - 1)/2)+80+1], flat_xcorr_spikes);\n",
    "cut_xcorr_spikes_syn = map(x-> x[Int((length(x) - 1)/2) - 80 + 1: Int((length(x) - 1)/2)+80+1], flat_xcorr_spikes_syn);\n",
    "cut_xcorr_spikes_syn_sep = map(x-> x[Int((length(x) - 1)/2) - 80 + 1: Int((length(x) - 1)/2)+80+1], flat_xcorr_spikes_syn_sep);"
   ]
  },
  {
   "cell_type": "code",
   "execution_count": null,
   "metadata": {},
   "outputs": [],
   "source": [
    "borg = vcat(0,cumsum(length.(cells_STR), dims=1))\n",
    "cut_xcorr_spikes_2 = [cut_xcorr_spikes[i] for i in [borg[i-1]+1:borg[i] for i in 2:length(borg)]];   \n",
    "cut_xcorr_spikes_syn_2 = [cut_xcorr_spikes_syn[i] for i in [borg[i-1]+1:borg[i] for i in 2:length(borg)]];   \n",
    "cut_xcorr_spikes_syn_sep_2 = [cut_xcorr_spikes_syn_sep[i] for i in [borg[i-1]+1:borg[i] for i in 2:length(borg)]];   "
   ]
  },
  {
   "cell_type": "code",
   "execution_count": null,
   "metadata": {},
   "outputs": [],
   "source": [
    "pearSTR_cross = map((x,y,z)-> map((x,y,z)-> (x[1] .!== x[2] ? cor(y,z) : NaN), x, y, z), cells_STR, \n",
    "    cut_xcorr_spikes_2, cut_xcorr_spikes_syn_2);\n",
    "\n",
    "pearSTR_cross_sep = map((x,y,z)-> map((x,y,z)-> (x[1] .!== x[2] ? cor(y,z) : NaN), x, y, z), cells_STR, \n",
    "    cut_xcorr_spikes_2, cut_xcorr_spikes_syn_sep_2);"
   ]
  },
  {
   "cell_type": "code",
   "execution_count": null,
   "metadata": {},
   "outputs": [],
   "source": [
    "mean_pearSTR_cross = mean(abs.(filter(!isnan, vcat(pearSTR_cross...))))"
   ]
  },
  {
   "cell_type": "code",
   "execution_count": null,
   "metadata": {},
   "outputs": [],
   "source": [
    "mean_pearSTR_sep_cross = mean(abs.(filter(!isnan, vcat(pearSTR_cross_sep...))))"
   ]
  },
  {
   "cell_type": "code",
   "execution_count": null,
   "metadata": {},
   "outputs": [],
   "source": []
  }
 ],
 "metadata": {
  "kernelspec": {
   "display_name": "Julia 1.6.0",
   "language": "julia",
   "name": "julia-1.6"
  },
  "language_info": {
   "file_extension": ".jl",
   "mimetype": "application/julia",
   "name": "julia",
   "version": "1.6.0"
  }
 },
 "nbformat": 4,
 "nbformat_minor": 2
}
