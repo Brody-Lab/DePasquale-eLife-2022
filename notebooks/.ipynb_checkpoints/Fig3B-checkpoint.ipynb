{
 "cells": [
  {
   "cell_type": "code",
   "execution_count": 1,
   "metadata": {},
   "outputs": [],
   "source": [
    "using Distributed\n",
    "addprocs(44);"
   ]
  },
  {
   "cell_type": "code",
   "execution_count": 2,
   "metadata": {},
   "outputs": [],
   "source": [
    "using PulseInputDDM, MAT, Flatten"
   ]
  },
  {
   "cell_type": "code",
   "execution_count": 3,
   "metadata": {},
   "outputs": [],
   "source": [
    "x_joint = Vector(undef, 3);\n",
    "x_choice = Vector(undef, 3);"
   ]
  },
  {
   "cell_type": "code",
   "execution_count": 6,
   "metadata": {},
   "outputs": [
    {
     "data": {
      "text/plain": [
       "\"/mnt/cup/people/briandd/Projects/DePasquale-eLife-2022/data/by_session\""
      ]
     },
     "execution_count": 6,
     "metadata": {},
     "output_type": "execute_result"
    }
   ],
   "source": [
    "ratnames = [\"B068\",\"T034\",\"T036\",\"T063\",\"T030\", \"T035\",\"T011\",\"B053\", \"T080\",\"T103\",\"E021\"];\n",
    "dt, n, cross = 1e-2, 53, false\n",
    "data_path = joinpath(abspath(joinpath(pwd(), \"..\")), \"data/by_session\")\n",
    "joint_model_path = joinpath(abspath(joinpath(pwd(), \"..\")), \"models/joint\");\n",
    "choice_model_path = joinpath(abspath(joinpath(pwd(), \"..\")), \"models/choice\");"
   ]
  },
  {
   "cell_type": "markdown",
   "metadata": {},
   "source": [
    "## FOF"
   ]
  },
  {
   "cell_type": "code",
   "execution_count": null,
   "metadata": {},
   "outputs": [],
   "source": [
    "region, delay = \"FOF\", 0\n",
    "ratnum = 1:5\n",
    "rat = ratnames[ratnum]\n",
    "sessions = vcat(map(rat-> filter(x->occursin(rat,x), readdir(data_path)), rat)...);\n",
    "data_FOF, = load_neural_data(joinpath.(data_path, sessions), pcut=0.01, pad=20, delay=delay, dt=dt, filtSD=5,\n",
    "    do_RBF=true);"
   ]
  },
  {
   "cell_type": "code",
   "execution_count": null,
   "metadata": {},
   "outputs": [],
   "source": [
    "file = joinpath(joint_model_path, \"Fig2-FOF.mat\")\n",
    "f = string.(read(matopen(file), \"f\"))\n",
    "ncells = collect(read(matopen(file), \"ncells\"))\n",
    "nparams = read(matopen(file), \"nparams\")\n",
    "xf = read(matopen(file), \"ML_params\")\n",
    "borg = vcat(0,cumsum(ncells, dims=1))\n",
    "nparams = [nparams[i] for i in [borg[i-1]+1:borg[i] for i in 2:length(borg)]]\n",
    "f = [f[i] for i in [borg[i-1]+1:borg[i] for i in 2:length(borg)]];   \n",
    "x_joint[1] = xf;\n",
    "joint_model_FOF = neural_choiceDDM(θneural_choice(xf, f), data_FOF, n, cross)"
   ]
  },
  {
   "cell_type": "code",
   "execution_count": null,
   "metadata": {},
   "outputs": [],
   "source": [
    "file = joinpath(choice_model_path, region*\".mat\")\n",
    "x_choice[1] = read(matopen(file), \"ML_params\");"
   ]
  },
  {
   "cell_type": "code",
   "execution_count": null,
   "metadata": {},
   "outputs": [],
   "source": [
    "choice_inputs = map(x-> PulseInputDDM.choiceinputs(clicks=x.clicks, binned_clicks=x.binned_clicks, \n",
    "    dt=dt, centered=false), getfield.(vcat(data_FOF...), :input_data));\n",
    "choice_data_FOF = PulseInputDDM.choicedata.(choice_inputs, getfield.(vcat(data_FOF...), :choice));\n",
    "choice_model_FOF = choiceDDM(θ = Flatten.reconstruct(θchoice(), x_choice[1]), data=choice_data_FOF, n=n, cross=cross);"
   ]
  },
  {
   "cell_type": "markdown",
   "metadata": {},
   "source": [
    "## PPC"
   ]
  },
  {
   "cell_type": "code",
   "execution_count": null,
   "metadata": {},
   "outputs": [],
   "source": [
    "region, delay = \"PPC\", 0\n",
    "ratnum = 6:8\n",
    "rat = ratnames[ratnum]\n",
    "sessions = vcat(map(rat-> filter(x->occursin(rat,x), readdir(data_path)), rat)...);\n",
    "data_PPC, = load_neural_data(joinpath.(data_path, sessions), pcut=0.01, pad=20, delay=delay, dt=dt, \n",
    "    filtSD=5, do_RBF=true);"
   ]
  },
  {
   "cell_type": "code",
   "execution_count": null,
   "metadata": {},
   "outputs": [],
   "source": [
    "file = joinpath(joint_model_path, \"Fig2-PPC.mat\")\n",
    "f = string.(read(matopen(file), \"f\"))\n",
    "ncells = collect(read(matopen(file), \"ncells\"))\n",
    "nparams = read(matopen(file), \"nparams\")\n",
    "xf = read(matopen(file), \"ML_params\")\n",
    "borg = vcat(0,cumsum(ncells, dims=1))\n",
    "nparams = [nparams[i] for i in [borg[i-1]+1:borg[i] for i in 2:length(borg)]]\n",
    "f = [f[i] for i in [borg[i-1]+1:borg[i] for i in 2:length(borg)]];  \n",
    "x_joint[2] = xf;\n",
    "joint_model_PPC = neural_choiceDDM(θneural_choice(xf, f), data_PPC, n, cross)"
   ]
  },
  {
   "cell_type": "code",
   "execution_count": null,
   "metadata": {},
   "outputs": [],
   "source": [
    "file = joinpath(choice_model_path, region*\".mat\")\n",
    "x_choice[2] = read(matopen(file), \"ML_params\");"
   ]
  },
  {
   "cell_type": "code",
   "execution_count": null,
   "metadata": {},
   "outputs": [],
   "source": [
    "choice_inputs = map(x-> PulseInputDDM.choiceinputs(clicks=x.clicks, binned_clicks=x.binned_clicks, \n",
    "    dt=dt, centered=false), getfield.(vcat(data_PPC...), :input_data));\n",
    "choice_data_PPC = PulseInputDDM.choicedata.(choice_inputs, getfield.(vcat(data_PPC...), :choice));\n",
    "choice_model_PPC = choiceDDM(θ = Flatten.reconstruct(θchoice(), x_choice[2]), data=choice_data_PPC, n=n, cross=cross);"
   ]
  },
  {
   "cell_type": "markdown",
   "metadata": {},
   "source": [
    "## ADS"
   ]
  },
  {
   "cell_type": "code",
   "execution_count": null,
   "metadata": {},
   "outputs": [],
   "source": [
    "region, delay = \"ADS\", 0\n",
    "ratnum = 9:11\n",
    "rat = ratnames[ratnum]\n",
    "sessions = vcat(map(rat-> filter(x->occursin(rat,x), readdir(data_path)), rat)...);\n",
    "data_STR, = load_neural_data(joinpath.(data_path, sessions), pcut=0.01, pad=20, delay=delay, dt=dt, filtSD=5,\n",
    "    do_RBF=true);"
   ]
  },
  {
   "cell_type": "code",
   "execution_count": null,
   "metadata": {},
   "outputs": [],
   "source": [
    "file = joinpath(joint_model_path, \"Fig2-ADS.mat\")\n",
    "f = string.(read(matopen(file), \"f\"))\n",
    "ncells = collect(read(matopen(file), \"ncells\"))\n",
    "nparams = read(matopen(file), \"nparams\")\n",
    "xf = read(matopen(file), \"ML_params\")\n",
    "borg = vcat(0,cumsum(ncells, dims=1))\n",
    "nparams = [nparams[i] for i in [borg[i-1]+1:borg[i] for i in 2:length(borg)]]\n",
    "f = [f[i] for i in [borg[i-1]+1:borg[i] for i in 2:length(borg)]];   \n",
    "x_joint[3] = xf;\n",
    "joint_model_STR = neural_choiceDDM(θneural_choice(xf, f), data_STR, n, cross)"
   ]
  },
  {
   "cell_type": "code",
   "execution_count": null,
   "metadata": {},
   "outputs": [],
   "source": [
    "file = joinpath(choice_model_path, region*\".mat\")\n",
    "x_choice[3] = read(matopen(file), \"ML_params\");"
   ]
  },
  {
   "cell_type": "code",
   "execution_count": null,
   "metadata": {},
   "outputs": [],
   "source": [
    "choice_inputs = map(x-> PulseInputDDM.choiceinputs(clicks=x.clicks, binned_clicks=x.binned_clicks, \n",
    "    dt=dt, centered=false), getfield.(vcat(data_STR...), :input_data));\n",
    "choice_data_STR = PulseInputDDM.choicedata.(choice_inputs, getfield.(vcat(data_STR...), :choice));\n",
    "choice_model_STR = choiceDDM(θ = Flatten.reconstruct(θchoice(), x_choice[3]), data=choice_data_STR, n=n, cross=cross);"
   ]
  },
  {
   "cell_type": "markdown",
   "metadata": {},
   "source": [
    "## Trajectories"
   ]
  },
  {
   "cell_type": "code",
   "execution_count": null,
   "metadata": {},
   "outputs": [],
   "source": [
    "import PulseInputDDM: rand_a"
   ]
  },
  {
   "cell_type": "code",
   "execution_count": null,
   "metadata": {},
   "outputs": [],
   "source": [
    "ntrials = 10"
   ]
  },
  {
   "cell_type": "code",
   "execution_count": null,
   "metadata": {},
   "outputs": [],
   "source": [
    "a_joint_model_FOF = map(rng-> vcat(rand_a.(Ref(joint_model_FOF.θ.θz), joint_model_STR.θ.θy, \n",
    "            joint_model_STR.data, rng)...), 1:ntrials);\n",
    "\n",
    "a_joint_model_STR = map(rng-> vcat(rand_a.(Ref(joint_model_STR.θ.θz), joint_model_STR.θ.θy, \n",
    "            joint_model_STR.data, rng)...), 1:ntrials);\n",
    "\n",
    "a_joint_model_PPC = map(rng-> vcat(rand_a.(Ref(joint_model_PPC.θ.θz), joint_model_STR.θ.θy, \n",
    "            joint_model_STR.data, rng)...), 1:ntrials);\n",
    "\n",
    "a_choice_model_FOF = map(rng-> vcat(rand_a.(Ref(choice_model_FOF.θ.θz), joint_model_STR.θ.θy, \n",
    "            joint_model_STR.data, rng)...), 1:ntrials);\n",
    "\n",
    "a_choice_model_PPC = map(rng-> vcat(rand_a.(Ref(choice_model_PPC.θ.θz), joint_model_STR.θ.θy, \n",
    "            joint_model_STR.data, rng)...), 1:ntrials);\n",
    "\n",
    "a_choice_model_STR = map(rng-> vcat(rand_a.(Ref(choice_model_STR.θ.θz), joint_model_STR.θ.θy, \n",
    "            joint_model_STR.data, rng)...), 1:ntrials);"
   ]
  },
  {
   "cell_type": "code",
   "execution_count": null,
   "metadata": {},
   "outputs": [],
   "source": [
    "using PyPlot, Colors\n",
    "mycolors = [\"red\", \"#1822A0\", \"#A01892\"];"
   ]
  },
  {
   "cell_type": "code",
   "execution_count": null,
   "metadata": {},
   "outputs": [],
   "source": [
    "fig, ax = subplots(2, 3, figsize=(5, 2.5), dpi=300, frameon=true)\n",
    "\n",
    "fs = 6\n",
    "rc(\"xtick\", labelsize=fs)\n",
    "rc(\"ytick\", labelsize=fs)\n",
    "rc(\"font\", family=\"sans-serif\")\n",
    "\n",
    "tri = 67;\n",
    "T = length(a_choice_model_FOF[1][tri])\n",
    "\n",
    "splt = 1\n",
    "ax[splt].plot(range(-0.2, stop=T*dt - 0.2, length=100), choice_model_FOF.θ.θz.B * ones(100), Linewidth=1, \n",
    "    Linestyle=\":\", color=\"k\");\n",
    "ax[splt].plot(range(-0.2, stop=T*dt - 0.2, length=100), -choice_model_FOF.θ.θz.B * ones(100), Linewidth=1, \n",
    "    Linestyle=\":\", color=\"k\");\n",
    "ax[splt].plot(range(-0.2, stop=T*dt - 0.2, length=100), choice_model_FOF.θ.bias * ones(100), Linewidth=1, \n",
    "    Linestyle=\"--\", color=\"k\");\n",
    "ax[splt].plot.(Ref(collect(1:T)*dt .- 0.2), getindex.(a_choice_model_FOF, tri)[1:10],  color=\"k\");\n",
    "\n",
    "ax[splt].xaxis.set_ticks_position(\"bottom\")\n",
    "ax[splt].spines[\"right\"].set_visible(false)\n",
    "ax[splt].spines[\"top\"].set_visible(false)\n",
    "ax[splt].spines[\"bottom\"].set_linewidth(0.5)\n",
    "ax[splt].spines[\"left\"].set_linewidth(0.5)\n",
    "ax[splt].tick_params(width=0.5, length=2)\n",
    "ax[splt].tick_params(which=\"minor\", width=0.5, length=1.5)\n",
    "ax[splt].set_xlim(-0.2, T*dt - 0.2)\n",
    "ax[splt].set_xticks(range(0., stop=1.0, length=3), minor=false)\n",
    "ax[splt].set_xticks(range(-0.2, stop=1.1, length=14), minor=true)\n",
    "ax[splt].set_ylim(-15,15)\n",
    "ax[splt].set_yticks(range(-10, stop=10, length=3), minor=false)\n",
    "ax[splt].set_yticks(range(-10, stop=10, length=5), minor=true)\n",
    "\n",
    "splt = 2\n",
    "ax[splt].plot(range(-0.2, stop=T*dt - 0.2, length=100), joint_model_FOF.θ.θz.B * ones(100), Linewidth=1, \n",
    "    Linestyle=\":\", color=\"k\");\n",
    "ax[splt].plot(range(-0.2, stop=T*dt - 0.2, length=100), -joint_model_FOF.θ.θz.B * ones(100), Linewidth=1, \n",
    "    Linestyle=\":\", color=\"k\");\n",
    "ax[splt].plot(range(-0.2, stop=T*dt - 0.2, length=100), joint_model_FOF.θ.bias * ones(100), Linewidth=1, \n",
    "    Linestyle=\"--\", color=\"k\");\n",
    "ax[splt].plot.(Ref(collect(1:T)*dt .- 0.2), getindex.(a_joint_model_FOF, tri)[1:10],  color=mycolors[1]);\n",
    "\n",
    "ax[splt].xaxis.set_ticks_position(\"bottom\")\n",
    "ax[splt].spines[\"right\"].set_visible(false)\n",
    "ax[splt].spines[\"top\"].set_visible(false)\n",
    "ax[splt].spines[\"bottom\"].set_linewidth(0.5)\n",
    "ax[splt].spines[\"left\"].set_linewidth(0.5)\n",
    "ax[splt].tick_params(width=0.5, length=2)\n",
    "ax[splt].tick_params(which=\"minor\", width=0.5, length=1.5)\n",
    "ax[splt].set_xlim(-0.2, T*dt - 0.2)\n",
    "ax[splt].set_xticks(range(0., stop=1.0, length=3), minor=false)\n",
    "ax[splt].set_xticks(range(-0.2, stop=1.1, length=14), minor=true)\n",
    "ax[splt].set_ylim(-15,15)\n",
    "ax[splt].set_yticks(range(-10, stop=10, length=3), minor=false)\n",
    "ax[splt].set_yticks(range(-10, stop=10, length=5), minor=true)\n",
    "\n",
    "tri = 67;\n",
    "T = length(a_choice_model_PPC[1][tri])\n",
    "\n",
    "splt = 3\n",
    "ax[splt].plot(range(-0.2, stop=T*dt - 0.2, length=100), choice_model_PPC.θ.θz.B * ones(100), Linewidth=1, \n",
    "    Linestyle=\":\", color=\"k\");\n",
    "ax[splt].plot(range(-0.2, stop=T*dt - 0.2, length=100), -choice_model_PPC.θ.θz.B * ones(100), Linewidth=1, \n",
    "    Linestyle=\":\", color=\"k\");\n",
    "ax[splt].plot(range(-0.2, stop=T*dt - 0.2, length=100), choice_model_PPC.θ.bias * ones(100), Linewidth=1, \n",
    "    Linestyle=\"--\", color=\"k\");\n",
    "ax[splt].plot.(Ref(collect(1:T)*dt .- 0.2), getindex.(a_choice_model_PPC, tri)[1:10],  color=\"k\");\n",
    "\n",
    "ax[splt].xaxis.set_ticks_position(\"bottom\")\n",
    "ax[splt].spines[\"right\"].set_visible(false)\n",
    "ax[splt].spines[\"top\"].set_visible(false)\n",
    "ax[splt].spines[\"bottom\"].set_linewidth(0.5)\n",
    "ax[splt].spines[\"left\"].set_linewidth(0.5)\n",
    "ax[splt].tick_params(width=0.5, length=2)\n",
    "ax[splt].tick_params(which=\"minor\", width=0.5, length=1.5)\n",
    "ax[splt].set_xlim(-0.2, T*dt - 0.2)\n",
    "ax[splt].set_xticks(range(0., stop=1.0, length=3), minor=false)\n",
    "ax[splt].set_xticks(range(-0.2, stop=1.1, length=14), minor=true)\n",
    "ax[splt].set_ylim(-25,25)\n",
    "ax[splt].set_yticks(range(-20, stop=20, length=5), minor=false)\n",
    "ax[splt].set_yticks(range(-25, stop=25, length=11), minor=true)\n",
    "\n",
    "splt = 4\n",
    "ax[splt].plot(range(-0.2, stop=T*dt - 0.2, length=100), joint_model_PPC.θ.θz.B * ones(100), Linewidth=1, \n",
    "    Linestyle=\":\", color=\"k\");\n",
    "ax[splt].plot(range(-0.2, stop=T*dt - 0.2, length=100), -joint_model_PPC.θ.θz.B * ones(100), Linewidth=1, \n",
    "    Linestyle=\":\", color=\"k\");\n",
    "ax[splt].plot(range(-0.2, stop=T*dt - 0.2, length=100), joint_model_PPC.θ.bias * ones(100), Linewidth=1, \n",
    "    Linestyle=\"--\", color=\"k\");\n",
    "ax[splt].plot.(Ref(collect(1:T)*dt .- 0.2), getindex.(a_joint_model_PPC, tri)[1:10],  color=mycolors[2]);\n",
    "\n",
    "ax[splt].xaxis.set_ticks_position(\"bottom\")\n",
    "ax[splt].spines[\"right\"].set_visible(false)\n",
    "ax[splt].spines[\"top\"].set_visible(false)\n",
    "ax[splt].spines[\"bottom\"].set_linewidth(0.5)\n",
    "ax[splt].spines[\"left\"].set_linewidth(0.5)\n",
    "ax[splt].tick_params(width=0.5, length=2)\n",
    "ax[splt].tick_params(which=\"minor\", width=0.5, length=1.5)\n",
    "ax[splt].set_xlim(-0.2, T*dt - 0.2)\n",
    "ax[splt].set_xticks(range(0., stop=1.0, length=3), minor=false)\n",
    "ax[splt].set_xticks(range(-0.2, stop=1.1, length=14), minor=true)\n",
    "ax[splt].set_ylim(-25,25)\n",
    "ax[splt].set_yticks(range(-20, stop=20, length=5), minor=false)\n",
    "ax[splt].set_yticks(range(-25, stop=25, length=11), minor=true)\n",
    "\n",
    "tri = 67;\n",
    "T = length(a_choice_model_STR[1][tri])\n",
    "\n",
    "splt = 5\n",
    "ax[splt].plot(range(-0.2, stop=T*dt - 0.2, length=100), choice_model_STR.θ.θz.B * ones(100), Linewidth=1, \n",
    "    Linestyle=\":\", color=\"k\");\n",
    "ax[splt].plot(range(-0.2, stop=T*dt - 0.2, length=100), choice_model_STR.θ.bias * ones(100), Linewidth=1, \n",
    "    Linestyle=\"--\", color=\"k\");\n",
    "ax[splt].plot(range(-0.2, stop=T*dt - 0.2, length=100), -choice_model_STR.θ.θz.B * ones(100), Linewidth=1, \n",
    "    Linestyle=\":\", color=\"k\");\n",
    "ax[splt].plot.(Ref(collect(1:T)*dt .- 0.2), getindex.(a_choice_model_STR, tri)[1:10],  color=\"k\");\n",
    "\n",
    "ax[splt].xaxis.set_ticks_position(\"bottom\")\n",
    "ax[splt].spines[\"right\"].set_visible(false)\n",
    "ax[splt].spines[\"top\"].set_visible(false)\n",
    "ax[splt].spines[\"bottom\"].set_linewidth(0.5)\n",
    "ax[splt].spines[\"left\"].set_linewidth(0.5)\n",
    "ax[splt].tick_params(width=0.5, length=2)\n",
    "ax[splt].tick_params(which=\"minor\", width=0.5, length=1.5)\n",
    "ax[splt].set_xlim(-0.2, T*dt - 0.2)\n",
    "ax[splt].set_xticks(range(0., stop=1.0, length=3), minor=false)\n",
    "ax[splt].set_xticks(range(-0.2, stop=1.1, length=14), minor=true)\n",
    "ax[splt].set_ylim(-42,42)\n",
    "ax[splt].set_yticks(range(-40, stop=40, length=5), minor=false)\n",
    "ax[splt].set_yticks(range(-40, stop=40, length=9), minor=true)\n",
    "\n",
    "splt = 6\n",
    "ax[splt].plot(range(-0.2, stop=T*dt - 0.2, length=100), joint_model_STR.θ.θz.B * ones(100), Linewidth=1, \n",
    "    Linestyle=\":\", color=\"k\");\n",
    "ax[splt].plot(range(-0.2, stop=T*dt - 0.2, length=100), joint_model_STR.θ.bias * ones(100), Linewidth=1, \n",
    "    Linestyle=\"--\", color=\"k\");\n",
    "ax[splt].plot(range(-0.2, stop=T*dt - 0.2, length=100), -joint_model_STR.θ.θz.B * ones(100), Linewidth=1, \n",
    "    Linestyle=\":\", color=\"k\");\n",
    "ax[splt].plot.(Ref(collect(1:T)*dt .- 0.2), getindex.(a_joint_model_STR, tri)[1:10],  color=mycolors[3]);\n",
    "\n",
    "ax[splt].xaxis.set_ticks_position(\"bottom\")\n",
    "ax[splt].spines[\"right\"].set_visible(false)\n",
    "ax[splt].spines[\"top\"].set_visible(false)\n",
    "ax[splt].spines[\"bottom\"].set_linewidth(0.5)\n",
    "ax[splt].spines[\"left\"].set_linewidth(0.5)\n",
    "ax[splt].tick_params(width=0.5, length=2)\n",
    "ax[splt].tick_params(which=\"minor\", width=0.5, length=1.5)\n",
    "ax[splt].set_xlim(-0.2, T*dt - 0.2)\n",
    "ax[splt].set_xticks(range(0., stop=1.0, length=3), minor=false)\n",
    "ax[splt].set_xticks(range(-0.2, stop=1.1, length=14), minor=true)\n",
    "ax[splt].set_ylim(-42,42)\n",
    "ax[splt].set_yticks(range(-40, stop=40, length=5), minor=false)\n",
    "ax[splt].set_yticks(range(-40, stop=40, length=9), minor=true)\n",
    "\n",
    "tight_layout()\n",
    "\n",
    "PyPlot.savefig(joinpath(abspath(joinpath(pwd(), \"..\")), \"figs/\")*\"Fig3B-1.pdf\")"
   ]
  },
  {
   "cell_type": "code",
   "execution_count": null,
   "metadata": {},
   "outputs": [],
   "source": [
    "tester = map(rng-> vcat(rand_a.(Ref(θz(0., 100., 0. -eps(), 0., 0., 1-eps(), 0.03)), joint_model_STR.θ.θy, \n",
    "            joint_model_STR.data, rng)...), 1:ntrials);"
   ]
  },
  {
   "cell_type": "code",
   "execution_count": null,
   "metadata": {},
   "outputs": [],
   "source": [
    "fig, ax = subplots(1, 3, figsize=(5, 0.75), dpi=300, frameon=true)\n",
    "\n",
    "fs = 6\n",
    "rc(\"xtick\", labelsize=fs)\n",
    "rc(\"ytick\", labelsize=fs)\n",
    "rc(\"font\", family=\"sans-serif\")\n",
    "\n",
    "tri = 67;\n",
    "T = length(a_choice_model_FOF[1][tri])\n",
    "\n",
    "splt = 1\n",
    "ax[splt].plot.(Ref(collect(1:T)*dt .- 0.2), getindex.(tester, tri)[1:10],  color=[0.6, 0.6, 0.6]);\n",
    "ax[splt].xaxis.set_ticks_position(\"bottom\")\n",
    "ax[splt].spines[\"right\"].set_visible(false)\n",
    "ax[splt].spines[\"top\"].set_visible(false)\n",
    "ax[splt].spines[\"bottom\"].set_linewidth(0.5)\n",
    "ax[splt].spines[\"left\"].set_linewidth(0.5)\n",
    "ax[splt].tick_params(width=0.5, length=2)\n",
    "ax[splt].tick_params(which=\"minor\", width=0.5, length=1.5)\n",
    "ax[splt].set_xlim(-0.2, T*dt - 0.2)\n",
    "ax[splt].set_xticks(range(0., stop=1.0, length=3), minor=false)\n",
    "ax[splt].set_xticks(range(-0.2, stop=1.1, length=14), minor=true)\n",
    "ax[splt].set_ylim(-35,35)\n",
    "ax[splt].set_yticks(range(-40, stop=40, length=3), minor=false)\n",
    "\n",
    "splt = 2\n",
    "ax[splt].plot.(Ref(collect(1:T)*dt .- 0.2), getindex.(tester, tri)[1:10],  color=[0.6, 0.6, 0.6]);\n",
    "\n",
    "ax[splt].xaxis.set_ticks_position(\"bottom\")\n",
    "ax[splt].spines[\"right\"].set_visible(false)\n",
    "ax[splt].spines[\"top\"].set_visible(false)\n",
    "ax[splt].spines[\"bottom\"].set_linewidth(0.5)\n",
    "ax[splt].spines[\"left\"].set_linewidth(0.5)\n",
    "ax[splt].tick_params(width=0.5, length=2)\n",
    "ax[splt].tick_params(which=\"minor\", width=0.5, length=1.5)\n",
    "ax[splt].set_xlim(-0.2, T*dt - 0.2)\n",
    "ax[splt].set_xticks(range(0., stop=1.0, length=3), minor=false)\n",
    "ax[splt].set_xticks(range(-0.2, stop=1.1, length=14), minor=true)\n",
    "ax[splt].set_ylim(-35,35)\n",
    "ax[splt].set_yticks(range(-40, stop=40, length=3), minor=false)\n",
    "\n",
    "tri = 67;\n",
    "T = length(a_choice_model_PPC[1][tri])\n",
    "\n",
    "splt = 3\n",
    "ax[splt].plot.(Ref(collect(1:T)*dt .- 0.2), getindex.(tester, tri)[1:10],  color=[0.6, 0.6, 0.6]);\n",
    "\n",
    "ax[splt].xaxis.set_ticks_position(\"bottom\")\n",
    "ax[splt].spines[\"right\"].set_visible(false)\n",
    "ax[splt].spines[\"top\"].set_visible(false)\n",
    "ax[splt].spines[\"bottom\"].set_linewidth(0.5)\n",
    "ax[splt].spines[\"left\"].set_linewidth(0.5)\n",
    "ax[splt].tick_params(width=0.5, length=2)\n",
    "ax[splt].tick_params(which=\"minor\", width=0.5, length=1.5)\n",
    "ax[splt].set_xlim(-0.2, T*dt - 0.2)\n",
    "ax[splt].set_xticks(range(0., stop=1.0, length=3), minor=false)\n",
    "ax[splt].set_xticks(range(-0.2, stop=1.1, length=14), minor=true)\n",
    "ax[splt].set_ylim(-35,35)\n",
    "ax[splt].set_yticks(range(-40, stop=40, length=3), minor=false)\n",
    "\n",
    "tight_layout()\n",
    "\n",
    "PyPlot.savefig(joinpath(abspath(joinpath(pwd(), \"..\")), \"figs/\")*\"Fig3B-2.pdf\")"
   ]
  },
  {
   "cell_type": "code",
   "execution_count": null,
   "metadata": {},
   "outputs": [],
   "source": []
  }
 ],
 "metadata": {
  "kernelspec": {
   "display_name": "Julia 1.5.0",
   "language": "julia",
   "name": "julia-1.5"
  },
  "language_info": {
   "file_extension": ".jl",
   "mimetype": "application/julia",
   "name": "julia",
   "version": "1.5.0"
  }
 },
 "nbformat": 4,
 "nbformat_minor": 2
}
