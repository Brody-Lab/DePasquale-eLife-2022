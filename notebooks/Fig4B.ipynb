{
 "cells": [
  {
   "cell_type": "code",
   "execution_count": 1,
   "metadata": {},
   "outputs": [],
   "source": [
    "using Distributed\n",
    "addprocs(44);"
   ]
  },
  {
   "cell_type": "code",
   "execution_count": 2,
   "metadata": {},
   "outputs": [],
   "source": [
    "using pulse_input_DDM, MAT, LinearAlgebra"
   ]
  },
  {
   "cell_type": "code",
   "execution_count": 3,
   "metadata": {},
   "outputs": [],
   "source": [
    "import Statistics: mean"
   ]
  },
  {
   "cell_type": "code",
   "execution_count": 4,
   "metadata": {},
   "outputs": [
    {
     "data": {
      "text/plain": [
       "\"/usr/people/briandd/Projects/briandepasquale/bdd_work/data/hanks_data_sessions\""
      ]
     },
     "execution_count": 4,
     "metadata": {},
     "output_type": "execute_result"
    }
   ],
   "source": [
    "ratnames = [\"B068\",\"T034\",\"T036\",\"T063\",\"T030\", \"T035\",\"T011\",\"B053\", \"T080\",\"T103\",\"E021\"];\n",
    "dt = 1e-2\n",
    "n, cross = 53, false\n",
    "path = ENV[\"HOME\"]*\"/Projects/briandepasquale/bdd_work/data/hanks_data_sessions\""
   ]
  },
  {
   "cell_type": "markdown",
   "metadata": {},
   "source": [
    "## Load neural fits"
   ]
  },
  {
   "cell_type": "code",
   "execution_count": 5,
   "metadata": {},
   "outputs": [],
   "source": [
    "region, delay = \"STR\", 6\n",
    "ratnum = 9:11\n",
    "rat = ratnames[ratnum]\n",
    "\n",
    "sessions = vcat(map(rat-> filter(x->occursin(rat,x), readdir(path)), rat)...);\n",
    "\n",
    "data_STR, μ_rnt_STR = load_neural_data(joinpath.(path, sessions), pcut=0.01, pad=20, delay=delay, dt=dt, filtSD=5,\n",
    "    do_RBF=true);\n",
    "ntrials_STR = sum(length.(data_STR));"
   ]
  },
  {
   "cell_type": "code",
   "execution_count": 6,
   "metadata": {},
   "outputs": [],
   "source": [
    "region, delay = \"FOF\", 6\n",
    "ratnum = 1:5\n",
    "rat = ratnames[ratnum]\n",
    "\n",
    "sessions = vcat(map(rat-> filter(x->occursin(rat,x), readdir(path)), rat)...);\n",
    "\n",
    "data_FOF, μ_rnt_FOF = load_neural_data(joinpath.(path, sessions), pcut=0.01, pad=20, delay=delay, dt=dt, filtSD=5,\n",
    "    do_RBF=true);\n",
    "ntrials_FOF = sum(length.(data_FOF));"
   ]
  },
  {
   "cell_type": "code",
   "execution_count": 7,
   "metadata": {},
   "outputs": [],
   "source": [
    "using PyPlot"
   ]
  },
  {
   "cell_type": "code",
   "execution_count": 8,
   "metadata": {},
   "outputs": [
    {
     "data": {
      "text/plain": [
       "\"/usr/people/briandd/Projects/briandepasquale/bdd_work/analysis/joint/CV\""
      ]
     },
     "execution_count": 8,
     "metadata": {},
     "output_type": "execute_result"
    }
   ],
   "source": [
    "save_path = ENV[\"HOME\"]*\"/Projects/briandepasquale/bdd_work/analysis/joint/CV\""
   ]
  },
  {
   "cell_type": "code",
   "execution_count": 9,
   "metadata": {},
   "outputs": [],
   "source": [
    "import Base.Iterators: partition"
   ]
  },
  {
   "cell_type": "code",
   "execution_count": 10,
   "metadata": {},
   "outputs": [],
   "source": [
    "LL_joint_STR_folds = Vector{Float64}(undef,5)\n",
    "joint_model_folds_STR = Vector(undef,5)\n",
    "region = \"STR\"\n",
    "ntrials = length.(data_STR);\n",
    "\n",
    "for fold in 1:5\n",
    "    \n",
    "    train = map(ntrials -> vcat(collect.(partition(1:ntrials, ceil(Int, ntrials/5)))[setdiff(1:5, fold)]...), ntrials)\n",
    "    test = map((ntrials, train)-> setdiff(1:ntrials, train), ntrials, train)\n",
    "    test_data_STR = map((data, train)-> data[train], data_STR, test)\n",
    "\n",
    "    file = joinpath(save_path, region*\"_\"*string(fold)*\".mat\")\n",
    "    xfolds = read(matopen(file), \"ML_params\");\n",
    "    f = all_Softplus(data_STR)  \n",
    "\n",
    "    joint_model_folds_STR[fold] = neural_choiceDDM(θneural_choice(xfolds, f), test_data_STR, n, cross);\n",
    "\n",
    "    LL_joint_STR_folds[fold] = (pulse_input_DDM.joint_loglikelihood(joint_model_folds_STR[fold]))/(log(2) * \n",
    "        length(getfield.(vcat(test_data_STR...), :choice)));\n",
    "end"
   ]
  },
  {
   "cell_type": "code",
   "execution_count": 11,
   "metadata": {},
   "outputs": [],
   "source": [
    "LL_joint_FOF_folds = Vector{Float64}(undef,5)\n",
    "joint_model_folds_FOF = Vector(undef,5)\n",
    "region = \"FOF\"\n",
    "ntrials = length.(data_FOF);\n",
    "\n",
    "for fold in 1:5\n",
    "    \n",
    "    train = map(ntrials -> vcat(collect.(partition(1:ntrials, ceil(Int, ntrials/5)))[setdiff(1:5, fold)]...), ntrials)\n",
    "    test = map((ntrials, train)-> setdiff(1:ntrials, train), ntrials, train)\n",
    "    test_data_FOF = map((data, train)-> data[train], data_FOF, test)\n",
    "\n",
    "    file = joinpath(save_path, region*\"_\"*string(fold)*\".mat\")\n",
    "    xfolds = read(matopen(file), \"ML_params\");\n",
    "    f = all_Softplus(data_FOF)  \n",
    "\n",
    "    joint_model_folds_FOF[fold] = neural_choiceDDM(θneural_choice(xfolds, f), test_data_FOF, n, cross);\n",
    "\n",
    "    LL_joint_FOF_folds[fold] = (pulse_input_DDM.joint_loglikelihood(joint_model_folds_FOF[fold]))/(log(2) * \n",
    "        length(getfield.(vcat(test_data_FOF...), :choice)));\n",
    "end"
   ]
  },
  {
   "cell_type": "markdown",
   "metadata": {},
   "source": [
    "## Sep"
   ]
  },
  {
   "cell_type": "code",
   "execution_count": 12,
   "metadata": {},
   "outputs": [
    {
     "data": {
      "text/plain": [
       "\"/usr/people/briandd/Projects/briandepasquale/bdd_work/analysis/joint/CV_sep\""
      ]
     },
     "execution_count": 12,
     "metadata": {},
     "output_type": "execute_result"
    }
   ],
   "source": [
    "save_path = ENV[\"HOME\"]*\"/Projects/briandepasquale/bdd_work/analysis/joint/CV_sep\""
   ]
  },
  {
   "cell_type": "code",
   "execution_count": 13,
   "metadata": {},
   "outputs": [],
   "source": [
    "import pulse_input_DDM: sep_joint_loglikelihood"
   ]
  },
  {
   "cell_type": "code",
   "execution_count": 14,
   "metadata": {},
   "outputs": [],
   "source": [
    "LL_joint_FOF_folds_sep = Vector{Float64}(undef,5)\n",
    "joint_model_folds_FOF_sep = Vector(undef,5)\n",
    "region = \"FOF\"\n",
    "ntrials = length.(data_FOF);\n",
    "\n",
    "for fold in 1:5\n",
    "    \n",
    "    train = map(ntrials -> vcat(collect.(partition(1:ntrials, ceil(Int, ntrials/5)))[setdiff(1:5, fold)]...), ntrials)\n",
    "    test = map((ntrials, train)-> setdiff(1:ntrials, train), ntrials, train)\n",
    "    test_data_FOF = map((data, train)-> data[train], data_FOF, test)\n",
    "\n",
    "    file = joinpath(save_path, region*\"_\"*string(fold)*\".mat\")\n",
    "    xfolds = read(matopen(file), \"ML_params\");\n",
    "    f = all_Softplus(data_FOF)  \n",
    "\n",
    "    joint_model_folds_FOF_sep[fold] = neural_choiceDDM(θneural_choice(xfolds, f), test_data_FOF, n, cross);\n",
    "\n",
    "    LL_joint_FOF_folds_sep[fold] = (pulse_input_DDM.sep_joint_loglikelihood(joint_model_folds_FOF_sep[fold]))/(log(2) * \n",
    "        length(vcat(test...)));\n",
    "end"
   ]
  },
  {
   "cell_type": "code",
   "execution_count": 15,
   "metadata": {},
   "outputs": [
    {
     "data": {
      "text/plain": [
       "5-element Vector{Float64}:\n",
       " -0.032709707812557554\n",
       " -0.09452332736722724\n",
       " -0.08627684833246008\n",
       " -0.038868456975492904\n",
       " -0.05202452424391879"
      ]
     },
     "execution_count": 15,
     "metadata": {},
     "output_type": "execute_result"
    }
   ],
   "source": [
    "LL_joint_FOF_folds_sep - LL_joint_FOF_folds"
   ]
  },
  {
   "cell_type": "code",
   "execution_count": 16,
   "metadata": {},
   "outputs": [],
   "source": [
    "LL_joint_STR_folds_sep = Vector{Float64}(undef,5)\n",
    "joint_model_folds_STR_sep = Vector(undef,5)\n",
    "region = \"STR\"\n",
    "ntrials = length.(data_STR);\n",
    "\n",
    "for fold in 1:5\n",
    "    \n",
    "    train = map(ntrials -> vcat(collect.(partition(1:ntrials, ceil(Int, ntrials/5)))[setdiff(1:5, fold)]...), ntrials)\n",
    "    test = map((ntrials, train)-> setdiff(1:ntrials, train), ntrials, train)\n",
    "    test_data_STR = map((data, train)-> data[train], data_STR, test)\n",
    "\n",
    "    file = joinpath(save_path, region*\"_\"*string(fold)*\".mat\")\n",
    "    xfolds = read(matopen(file), \"ML_params\");\n",
    "    f = all_Softplus(data_STR)  \n",
    "\n",
    "    joint_model_folds_STR_sep[fold] = neural_choiceDDM(θneural_choice(xfolds, f), test_data_STR, n, cross);\n",
    "\n",
    "    LL_joint_STR_folds_sep[fold] = (pulse_input_DDM.sep_joint_loglikelihood(joint_model_folds_STR_sep[fold]))/(log(2) * \n",
    "        length(vcat(test...)));\n",
    "end"
   ]
  },
  {
   "cell_type": "code",
   "execution_count": 17,
   "metadata": {},
   "outputs": [
    {
     "data": {
      "text/plain": [
       "\"/usr/people/briandd/Projects/briandepasquale/bdd_work/analysis/joint/CV\""
      ]
     },
     "execution_count": 17,
     "metadata": {},
     "output_type": "execute_result"
    }
   ],
   "source": [
    "save_path = ENV[\"HOME\"]*\"/Projects/briandepasquale/bdd_work/analysis/joint/CV\""
   ]
  },
  {
   "cell_type": "code",
   "execution_count": 18,
   "metadata": {},
   "outputs": [],
   "source": [
    "LL_joint_STR_folds_sep_2 = Vector{Float64}(undef,5)\n",
    "joint_model_folds_STR_sep_2 = Vector(undef,5)\n",
    "region = \"STR\"\n",
    "ntrials = length.(data_STR);\n",
    "\n",
    "for fold in 1:5\n",
    "    \n",
    "    train = map(ntrials -> vcat(collect.(partition(1:ntrials, ceil(Int, ntrials/5)))[setdiff(1:5, fold)]...), ntrials)\n",
    "    test = map((ntrials, train)-> setdiff(1:ntrials, train), ntrials, train)\n",
    "    test_data_STR = map((data, train)-> data[train], data_STR, test)\n",
    "\n",
    "    file = joinpath(save_path, region*\"_\"*string(fold)*\".mat\")\n",
    "    xfolds = read(matopen(file), \"ML_params\");\n",
    "    f = all_Softplus(data_STR)  \n",
    "\n",
    "    joint_model_folds_STR_sep_2[fold] = neural_choiceDDM(θneural_choice(xfolds, f), test_data_STR, n, cross);\n",
    "\n",
    "    LL_joint_STR_folds_sep_2[fold] = (pulse_input_DDM.sep_joint_loglikelihood(joint_model_folds_STR_sep_2[fold]))/(log(2) * \n",
    "        length(vcat(test...)));\n",
    "end"
   ]
  },
  {
   "cell_type": "code",
   "execution_count": 19,
   "metadata": {},
   "outputs": [
    {
     "data": {
      "text/plain": [
       "5-element Vector{Float64}:\n",
       " 0.2516384992715075\n",
       " 0.14426050062556328\n",
       " 0.23952754414239052\n",
       " 0.10944249134095685\n",
       " 0.25152585759012425"
      ]
     },
     "execution_count": 19,
     "metadata": {},
     "output_type": "execute_result"
    }
   ],
   "source": [
    "LL_joint_STR_folds_sep - LL_joint_STR_folds_sep_2"
   ]
  },
  {
   "cell_type": "code",
   "execution_count": 20,
   "metadata": {},
   "outputs": [
    {
     "data": {
      "text/plain": [
       "5-element Vector{Float64}:\n",
       " -103.48227624357814\n",
       " -104.17355455779015\n",
       " -102.28854688992884\n",
       " -101.31232518886047\n",
       "  -98.83989715243992"
      ]
     },
     "execution_count": 20,
     "metadata": {},
     "output_type": "execute_result"
    }
   ],
   "source": [
    "LL_joint_STR_folds_sep_2"
   ]
  },
  {
   "cell_type": "code",
   "execution_count": 21,
   "metadata": {},
   "outputs": [
    {
     "data": {
      "text/plain": [
       "5-element Vector{Float64}:\n",
       " 0.3664982874155669\n",
       " 0.22853947743891467\n",
       " 0.29830476459989086\n",
       " 0.30477338495900597\n",
       " 0.8519997956239109"
      ]
     },
     "execution_count": 21,
     "metadata": {},
     "output_type": "execute_result"
    }
   ],
   "source": [
    "LL_joint_STR_folds_sep - LL_joint_STR_folds"
   ]
  },
  {
   "cell_type": "code",
   "execution_count": 22,
   "metadata": {},
   "outputs": [
    {
     "data": {
      "text/plain": [
       "3-element Vector{String}:\n",
       " \"red\"\n",
       " \"#1822A0\"\n",
       " \"#A01892\""
      ]
     },
     "execution_count": 22,
     "metadata": {},
     "output_type": "execute_result"
    }
   ],
   "source": [
    "using PyPlot\n",
    "mycolors = [\"red\", \"#1822A0\", \"#A01892\"]"
   ]
  },
  {
   "cell_type": "code",
   "execution_count": 23,
   "metadata": {},
   "outputs": [
    {
     "data": {
      "image/png": "[encoded data removed]",
      "text/plain": [
       "Figure(PyObject <Figure size 300x375 with 1 Axes>)"
      ]
     },
     "metadata": {},
     "output_type": "display_data"
    }
   ],
   "source": [
    "figure(figsize=(1., 1.25), dpi=300, frameon=true)\n",
    "\n",
    "mycolors = [\"red\", \"#A01892\"]\n",
    "rc(\"xtick\", labelsize=6)\n",
    "rc(\"ytick\", labelsize=6)\n",
    "\n",
    "bar(1, mean(LL_joint_FOF_folds_sep - LL_joint_FOF_folds), color=mycolors[1]);\n",
    "bar(2, mean(LL_joint_STR_folds_sep - LL_joint_STR_folds), color=mycolors[2]);\n",
    "xticks([1, 2], [\"FOF\", \"ADS\"], rotation=0, fontsize=6)\n",
    "#ylabel(\"Δbits/trial\", fontsize=6);\n",
    "\n",
    "ax = gca()\n",
    "ax.spines[\"right\"].set_visible(false)\n",
    "ax.spines[\"top\"].set_visible(false)\n",
    "ax.spines[\"bottom\"].set_linewidth(0.5)\n",
    "ax.spines[\"left\"].set_linewidth(0.5)\n",
    "ax.tick_params(width=0.5, length=2)\n",
    "ax.set_yticks(range(-0.1, stop=0.4, length=6))\n",
    "ax.set_yticks(range(-0.1, stop=0.45, length=12), minor=true)\n",
    "#ax.set_xticks(range(-40, stop=40, length=3))\n",
    "#ax.set_xticks(range(-50, stop=50, length=11), minor=true)\n",
    "ax.tick_params(which=\"minor\", width=0.5, length=1.5)\n",
    "#ax.set_ylim(0, 1)\n",
    "ax.set_ylim(-0.1, 0.45)\n",
    "\n",
    "tight_layout()\n",
    "#PyPlot.savefig(ENV[\"HOME\"]*\"/Projects/briandepasquale/bdd_work/figures/paper/Fig5/Fig5-joint-bars.pdf\")"
   ]
  },
  {
   "cell_type": "markdown",
   "metadata": {},
   "source": [
    "## Reload neural"
   ]
  },
  {
   "cell_type": "code",
   "execution_count": 24,
   "metadata": {},
   "outputs": [
    {
     "data": {
      "text/plain": [
       "5-element Vector{Any}:\n",
       " #undef\n",
       " #undef\n",
       " #undef\n",
       " #undef\n",
       " #undef"
      ]
     },
     "execution_count": 24,
     "metadata": {},
     "output_type": "execute_result"
    }
   ],
   "source": [
    "LL_neural_STR_folds = Vector{Float64}(undef,5)\n",
    "neural_model_folds_STR = Vector(undef,5)"
   ]
  },
  {
   "cell_type": "code",
   "execution_count": 25,
   "metadata": {},
   "outputs": [
    {
     "data": {
      "text/plain": [
       "\"/usr/people/briandd/Projects/briandepasquale/bdd_work/analysis/neural/CV\""
      ]
     },
     "execution_count": 25,
     "metadata": {},
     "output_type": "execute_result"
    }
   ],
   "source": [
    "save_path = ENV[\"HOME\"]*\"/Projects/briandepasquale/bdd_work/analysis/neural/CV\""
   ]
  },
  {
   "cell_type": "code",
   "execution_count": 26,
   "metadata": {},
   "outputs": [],
   "source": [
    "region = \"STR\"\n",
    "ntrials = length.(data_STR);\n",
    "\n",
    "for fold in 1:5\n",
    "    \n",
    "    train = map(ntrials -> vcat(collect.(partition(1:ntrials, ceil(Int, ntrials/5)))[setdiff(1:5, fold)]...), ntrials)\n",
    "    test = map((ntrials, train)-> setdiff(1:ntrials, train), ntrials, train)\n",
    "    test_data_STR = map((data, train)-> data[train], data_STR, test)\n",
    "    train_data_STR = map((data, train)-> data[train], data_STR, train)\n",
    "\n",
    "    file = joinpath(save_path, region*\"_\"*string(fold)*\".mat\")\n",
    "    xfolds = read(matopen(file), \"ML_params\");\n",
    "    \n",
    "    f = all_Softplus(data_STR)      \n",
    "    neural_model_folds_STR[fold] = neuralDDM(θ=θneural(xfolds, f), data=test_data_STR, n=n, cross=cross);     \n",
    "    LL_neural_STR_folds[fold] = (pulse_input_DDM.loglikelihood(neural_model_folds_STR[fold]))/(log(2) * \n",
    "        length(getfield.(vcat(test_data_STR...), :choice)));\n",
    "    \n",
    "end"
   ]
  },
  {
   "cell_type": "code",
   "execution_count": 27,
   "metadata": {},
   "outputs": [
    {
     "data": {
      "text/plain": [
       "5-element Vector{Any}:\n",
       " #undef\n",
       " #undef\n",
       " #undef\n",
       " #undef\n",
       " #undef"
      ]
     },
     "execution_count": 27,
     "metadata": {},
     "output_type": "execute_result"
    }
   ],
   "source": [
    "LL_neural_FOF_folds = Vector{Float64}(undef,5)\n",
    "neural_model_folds_FOF = Vector(undef,5)"
   ]
  },
  {
   "cell_type": "code",
   "execution_count": 28,
   "metadata": {},
   "outputs": [],
   "source": [
    "region = \"FOF\"\n",
    "ntrials = length.(data_FOF);\n",
    "\n",
    "for fold in 1:5\n",
    "    \n",
    "    train = map(ntrials -> vcat(collect.(partition(1:ntrials, ceil(Int, ntrials/5)))[setdiff(1:5, fold)]...), ntrials)\n",
    "    test = map((ntrials, train)-> setdiff(1:ntrials, train), ntrials, train)\n",
    "    test_data_FOF = map((data, train)-> data[train], data_FOF, test)\n",
    "    train_data_FOF = map((data, train)-> data[train], data_FOF, train)\n",
    "\n",
    "    file = joinpath(save_path, region*\"_\"*string(fold)*\".mat\")\n",
    "    xfolds = read(matopen(file), \"ML_params\");\n",
    "    \n",
    "    f = all_Softplus(data_FOF)      \n",
    "    neural_model_folds_FOF[fold] = neuralDDM(θ=θneural(xfolds, f), data=test_data_FOF, n=n, cross=cross);     \n",
    "    LL_neural_FOF_folds[fold] = (pulse_input_DDM.loglikelihood(neural_model_folds_FOF[fold]))/(log(2) * \n",
    "        length(getfield.(vcat(test_data_FOF...), :choice)));\n",
    "    \n",
    "end"
   ]
  },
  {
   "cell_type": "code",
   "execution_count": 29,
   "metadata": {},
   "outputs": [
    {
     "data": {
      "text/plain": [
       "5-element Vector{Any}:\n",
       " #undef\n",
       " #undef\n",
       " #undef\n",
       " #undef\n",
       " #undef"
      ]
     },
     "execution_count": 29,
     "metadata": {},
     "output_type": "execute_result"
    }
   ],
   "source": [
    "LL_neural_FOF_folds_sep = Vector{Float64}(undef,5)\n",
    "neural_model_folds_FOF_sep = Vector(undef,5)"
   ]
  },
  {
   "cell_type": "code",
   "execution_count": 30,
   "metadata": {},
   "outputs": [],
   "source": [
    "import pulse_input_DDM: sep_neural_loglikelihood"
   ]
  },
  {
   "cell_type": "code",
   "execution_count": 31,
   "metadata": {},
   "outputs": [],
   "source": [
    "region = \"FOF\"\n",
    "ntrials = length.(data_FOF);\n",
    "\n",
    "for fold in 1:5\n",
    "    \n",
    "    train = map(ntrials -> vcat(collect.(partition(1:ntrials, ceil(Int, ntrials/5)))[setdiff(1:5, fold)]...), ntrials)\n",
    "    test = map((ntrials, train)-> setdiff(1:ntrials, train), ntrials, train)\n",
    "    test_data_FOF = map((data, train)-> data[train], data_FOF, test)\n",
    "    train_data_FOF = map((data, train)-> data[train], data_FOF, train)\n",
    "\n",
    "    file = joinpath(save_path, region*\"_\"*string(fold)*\"_sep.mat\")\n",
    "    xfolds = read(matopen(file), \"ML_params\");  \n",
    "    \n",
    "    f = all_Softplus(data_FOF)      \n",
    "    \n",
    "    neural_model_folds_FOF_sep[fold] = neuralDDM(θ=θneural(xfolds, f), data=test_data_FOF, n=n, cross=cross);\n",
    "\n",
    "    LL_neural_FOF_folds_sep[fold] = (pulse_input_DDM.sep_neural_loglikelihood(neural_model_folds_FOF_sep[fold]))/(log(2) * \n",
    "        length(getfield.(vcat(test_data_FOF...), :choice)));\n",
    "    \n",
    "end"
   ]
  },
  {
   "cell_type": "code",
   "execution_count": 32,
   "metadata": {},
   "outputs": [
    {
     "data": {
      "text/plain": [
       "5-element Vector{Float64}:\n",
       " -71.45051446186062\n",
       " -72.55420131130072\n",
       " -72.78731825893375\n",
       " -71.68393205906406\n",
       " -70.49942395023145"
      ]
     },
     "execution_count": 32,
     "metadata": {},
     "output_type": "execute_result"
    }
   ],
   "source": [
    "LL_neural_FOF_folds_sep"
   ]
  },
  {
   "cell_type": "code",
   "execution_count": 33,
   "metadata": {},
   "outputs": [
    {
     "data": {
      "text/plain": [
       "5-element Vector{Float64}:\n",
       " -71.45051446186062\n",
       " -72.55420131130072\n",
       " -72.78731825893375\n",
       " -71.68393205906406\n",
       " -70.49942395023145"
      ]
     },
     "execution_count": 33,
     "metadata": {},
     "output_type": "execute_result"
    }
   ],
   "source": [
    "LL_neural_FOF_folds_sep"
   ]
  },
  {
   "cell_type": "code",
   "execution_count": 34,
   "metadata": {},
   "outputs": [
    {
     "data": {
      "text/plain": [
       "5-element Vector{Any}:\n",
       " #undef\n",
       " #undef\n",
       " #undef\n",
       " #undef\n",
       " #undef"
      ]
     },
     "execution_count": 34,
     "metadata": {},
     "output_type": "execute_result"
    }
   ],
   "source": [
    "LL_neural_STR_folds_sep = Vector{Float64}(undef,5)\n",
    "neural_model_folds_STR_sep = Vector(undef,5)"
   ]
  },
  {
   "cell_type": "code",
   "execution_count": 35,
   "metadata": {},
   "outputs": [],
   "source": [
    "region = \"STR\"\n",
    "ntrials = length.(data_STR);\n",
    "\n",
    "for fold in 1:5\n",
    "    \n",
    "    train = map(ntrials -> vcat(collect.(partition(1:ntrials, ceil(Int, ntrials/5)))[setdiff(1:5, fold)]...), ntrials)\n",
    "    test = map((ntrials, train)-> setdiff(1:ntrials, train), ntrials, train)\n",
    "    test_data_STR = map((data, train)-> data[train], data_STR, test)\n",
    "    train_data_STR = map((data, train)-> data[train], data_STR, train)\n",
    "\n",
    "    file = joinpath(save_path, region*\"_\"*string(fold)*\"_sep.mat\")\n",
    "    xfolds = read(matopen(file), \"ML_params\");\n",
    "\n",
    "    f = all_Softplus(data_STR)      \n",
    "    \n",
    "    neural_model_folds_STR_sep[fold] = neuralDDM(θ=θneural(xfolds, f), data=test_data_STR, n=n, cross=cross);\n",
    "\n",
    "    LL_neural_STR_folds_sep[fold] = (pulse_input_DDM.sep_neural_loglikelihood(neural_model_folds_STR_sep[fold]))/(log(2) * \n",
    "        length(getfield.(vcat(test_data_STR...), :choice)));\n",
    "    \n",
    "end"
   ]
  },
  {
   "cell_type": "code",
   "execution_count": 36,
   "metadata": {},
   "outputs": [
    {
     "data": {
      "text/plain": [
       "-0.039173702241333784"
      ]
     },
     "execution_count": 36,
     "metadata": {},
     "output_type": "execute_result"
    }
   ],
   "source": [
    "mean(LL_neural_FOF_folds_sep - LL_neural_FOF_folds)"
   ]
  },
  {
   "cell_type": "code",
   "execution_count": 37,
   "metadata": {},
   "outputs": [
    {
     "data": {
      "image/png": "[encoded data removed]",
      "text/plain": [
       "Figure(PyObject <Figure size 375x375 with 1 Axes>)"
      ]
     },
     "metadata": {},
     "output_type": "display_data"
    }
   ],
   "source": [
    "figure(figsize=(1.25, 1.25), dpi=300, frameon=true)\n",
    "\n",
    "mycolors = [\"red\", \"#A01892\"]\n",
    "rc(\"xtick\", labelsize=6)\n",
    "rc(\"ytick\", labelsize=6)\n",
    "\n",
    "bar(1, mean(LL_joint_FOF_folds_sep - LL_joint_FOF_folds), color=mycolors[1]);\n",
    "bar(2, mean(LL_joint_STR_folds_sep - LL_joint_STR_folds), color=mycolors[2]);\n",
    "\n",
    "bar(3, mean(LL_neural_FOF_folds_sep - LL_neural_FOF_folds), color=mycolors[1]);\n",
    "bar(4, mean(LL_neural_STR_folds_sep - LL_neural_STR_folds), color=mycolors[2]);\n",
    "xticks([1, 2, 3, 4], [\"FOF joint\", \"ADS joint\", \"FOF neural\", \"ADS neural\"], rotation=90, fontsize=4)\n",
    "ylabel(\"Δbits/trial\", fontsize=6);\n",
    "\n",
    "ax = gca()\n",
    "ax.spines[\"right\"].set_visible(false)\n",
    "ax.spines[\"top\"].set_visible(false)\n",
    "ax.spines[\"bottom\"].set_linewidth(0.5)\n",
    "ax.spines[\"left\"].set_linewidth(0.5)\n",
    "ax.tick_params(width=0.5, length=2)\n",
    "#ax.set_yticks(range(-0.2, stop=0.4, length=6))\n",
    "#ax.set_yticks(range(-0.2, stop=0.45, length=12), minor=true)\n",
    "#ax.set_xticks(range(-40, stop=40, length=3))\n",
    "#ax.set_xticks(range(-50, stop=50, length=11), minor=true)\n",
    "ax.tick_params(which=\"minor\", width=0.5, length=1.5)\n",
    "#ax.set_ylim(0, 1)\n",
    "#ax.set_ylim(-0.3, 0.45)\n",
    "\n",
    "tight_layout()\n",
    "#PyPlot.savefig(ENV[\"HOME\"]*\"/Projects/briandepasquale/bdd_work/figures/paper/Fig5/Fig5-joint-bars.pdf\")"
   ]
  },
  {
   "cell_type": "code",
   "execution_count": 38,
   "metadata": {},
   "outputs": [],
   "source": [
    "## Is it the tuning curve parameters?"
   ]
  },
  {
   "cell_type": "code",
   "execution_count": 39,
   "metadata": {},
   "outputs": [
    {
     "data": {
      "image/png": "[encoded data removed]",
      "text/plain": [
       "Figure(PyObject <Figure size 375x375 with 1 Axes>)"
      ]
     },
     "metadata": {},
     "output_type": "display_data"
    }
   ],
   "source": [
    "figure(figsize=(1.25, 1.25), dpi=300, frameon=true)\n",
    "\n",
    "mycolors = [\"red\", \"#A01892\"]\n",
    "rc(\"xtick\", labelsize=6)\n",
    "rc(\"ytick\", labelsize=6)\n",
    "\n",
    "bar(1, mean(LL_joint_FOF_folds_sep - LL_joint_FOF_folds), color=mycolors[1]);\n",
    "bar(2, mean(LL_joint_STR_folds_sep - LL_joint_STR_folds), color=mycolors[2]);\n",
    "\n",
    "bar(3, mean(LL_neural_FOF_folds_sep - LL_neural_FOF_folds), color=mycolors[1]);\n",
    "bar(4, mean(LL_neural_STR_folds_sep - LL_neural_STR_folds), color=mycolors[2]);\n",
    "xticks([1, 2, 3, 4], [\"FOF joint\", \"ADS joint\", \"FOF neural\", \"ADS neural\"], rotation=90, fontsize=4)\n",
    "ylabel(\"Δbits/trial\", fontsize=6);\n",
    "\n",
    "ax = gca()\n",
    "ax.spines[\"right\"].set_visible(false)\n",
    "ax.spines[\"top\"].set_visible(false)\n",
    "ax.spines[\"bottom\"].set_linewidth(0.5)\n",
    "ax.spines[\"left\"].set_linewidth(0.5)\n",
    "ax.tick_params(width=0.5, length=2)\n",
    "#ax.set_yticks(range(-0.2, stop=0.4, length=6))\n",
    "#ax.set_yticks(range(-0.2, stop=0.45, length=12), minor=true)\n",
    "#ax.set_xticks(range(-40, stop=40, length=3))\n",
    "#ax.set_xticks(range(-50, stop=50, length=11), minor=true)\n",
    "ax.tick_params(which=\"minor\", width=0.5, length=1.5)\n",
    "#ax.set_ylim(0, 1)\n",
    "#ax.set_ylim(-0.3, 0.45)\n",
    "\n",
    "tight_layout()\n",
    "PyPlot.savefig(ENV[\"HOME\"]*\"/Projects/briandepasquale/bdd_work/figures/paper/Supp/joint_neural_indp_shared.pdf\")"
   ]
  },
  {
   "cell_type": "code",
   "execution_count": 40,
   "metadata": {},
   "outputs": [
    {
     "data": {
      "text/plain": [
       "0.4219489352680171"
      ]
     },
     "execution_count": 40,
     "metadata": {},
     "output_type": "execute_result"
    }
   ],
   "source": [
    "mean(LL_neural_STR_folds_sep - LL_neural_STR_folds)"
   ]
  },
  {
   "cell_type": "code",
   "execution_count": 41,
   "metadata": {},
   "outputs": [
    {
     "data": {
      "text/plain": [
       "5-element Vector{Float64}:\n",
       " 0.3282493993454665\n",
       " 0.25071805720223495\n",
       " 0.2914543901131026\n",
       " 0.34725969188758654\n",
       " 0.8920631377916948"
      ]
     },
     "execution_count": 41,
     "metadata": {},
     "output_type": "execute_result"
    }
   ],
   "source": [
    "LL_neural_STR_folds_sep - LL_neural_STR_folds"
   ]
  },
  {
   "cell_type": "code",
   "execution_count": 120,
   "metadata": {},
   "outputs": [],
   "source": [
    "boo2 = vcat(map(x-> vcat(vcat(map(x-> map(x-> map(x-> x.c, x), x), \n",
    "            getfield.(getfield.([x], :θ), :θy))...)...), neural_model_folds_STR)...);"
   ]
  },
  {
   "cell_type": "code",
   "execution_count": 121,
   "metadata": {},
   "outputs": [],
   "source": [
    "boo1 = vcat(map(x-> vcat(vcat(map(x-> map(x-> map(x-> x.c, x), x), \n",
    "            getfield.(getfield.([x], :θ), :θy))...)...), neural_model_folds_STR_sep)...);"
   ]
  },
  {
   "cell_type": "code",
   "execution_count": 122,
   "metadata": {},
   "outputs": [
    {
     "data": {
      "image/png": "[encoded data removed]",
      "text/plain": [
       "Figure(PyObject <Figure size 640x480 with 1 Axes>)"
      ]
     },
     "metadata": {},
     "output_type": "display_data"
    },
    {
     "data": {
      "text/plain": [
       "1-element Vector{PyCall.PyObject}:\n",
       " PyObject <matplotlib.lines.Line2D object at 0x7f6df869c400>"
      ]
     },
     "execution_count": 122,
     "metadata": {},
     "output_type": "execute_result"
    }
   ],
   "source": [
    "plot(boo1, boo2, \"x\")"
   ]
  },
  {
   "cell_type": "code",
   "execution_count": 45,
   "metadata": {},
   "outputs": [
    {
     "data": {
      "text/plain": [
       "5-element Vector{θz{Float64}}:\n",
       " θz{Float64}\n",
       "  σ2_i: Float64 42.491317332404186\n",
       "  B: Float64 39.99986425949562\n",
       "  λ: Float64 -0.6800554863737305\n",
       "  σ2_a: Float64 203.45333978292317\n",
       "  σ2_s: Float64 0.5407327080138064\n",
       "  ϕ: Float64 0.0010001023205439758\n",
       "  τ_ϕ: Float64 0.0242469737322717\n",
       "\n",
       " θz{Float64}\n",
       "  σ2_i: Float64 45.22885069859074\n",
       "  B: Float64 39.999999999562036\n",
       "  λ: Float64 -0.7687319883310796\n",
       "  σ2_a: Float64 182.90288395114607\n",
       "  σ2_s: Float64 1.387251676657264\n",
       "  ϕ: Float64 0.0010002713642260166\n",
       "  τ_ϕ: Float64 0.02229496676603072\n",
       "\n",
       " θz{Float64}\n",
       "  σ2_i: Float64 47.55358979586336\n",
       "  B: Float64 39.99999319241219\n",
       "  λ: Float64 -0.710313548930961\n",
       "  σ2_a: Float64 224.70618746844434\n",
       "  σ2_s: Float64 0.42217245443978996\n",
       "  ϕ: Float64 0.0010002706445139257\n",
       "  τ_ϕ: Float64 0.021750568964900765\n",
       "\n",
       " θz{Float64}\n",
       "  σ2_i: Float64 41.8825810004663\n",
       "  B: Float64 39.99999167565256\n",
       "  λ: Float64 -0.7196896864703487\n",
       "  σ2_a: Float64 200.16521877459542\n",
       "  σ2_s: Float64 1.0787318367031509\n",
       "  ϕ: Float64 0.0010001389992025716\n",
       "  τ_ϕ: Float64 0.02481424821256395\n",
       "\n",
       " θz{Float64}\n",
       "  σ2_i: Float64 36.10342824686391\n",
       "  B: Float64 39.999852115423245\n",
       "  λ: Float64 -0.8289654880938081\n",
       "  σ2_a: Float64 169.42252594602772\n",
       "  σ2_s: Float64 1.5069666171604834\n",
       "  ϕ: Float64 0.0010004312394456282\n",
       "  τ_ϕ: Float64 0.022076012009561472\n"
      ]
     },
     "execution_count": 45,
     "metadata": {},
     "output_type": "execute_result"
    }
   ],
   "source": [
    "getfield.(getfield.(neural_model_folds_STR_sep, :θ), :θz)"
   ]
  },
  {
   "cell_type": "code",
   "execution_count": 46,
   "metadata": {},
   "outputs": [
    {
     "data": {
      "text/plain": [
       "5-element Vector{θz{Float64}}:\n",
       " θz{Float64}\n",
       "  σ2_i: Float64 42.64893660175\n",
       "  B: Float64 39.99999994642306\n",
       "  λ: Float64 -0.6616646558961609\n",
       "  σ2_a: Float64 203.40893859168668\n",
       "  σ2_s: Float64 0.7332233266891585\n",
       "  ϕ: Float64 0.001215597016223416\n",
       "  τ_ϕ: Float64 0.024051642481230092\n",
       "\n",
       " θz{Float64}\n",
       "  σ2_i: Float64 45.244230438711995\n",
       "  B: Float64 39.94706884665147\n",
       "  λ: Float64 -0.7040168565752446\n",
       "  σ2_a: Float64 182.89794698185892\n",
       "  σ2_s: Float64 1.4189166001118991\n",
       "  ϕ: Float64 0.001005997304824806\n",
       "  τ_ϕ: Float64 0.02242128729760158\n",
       "\n",
       " θz{Float64}\n",
       "  σ2_i: Float64 47.55572993045823\n",
       "  B: Float64 39.992690174557886\n",
       "  λ: Float64 -0.6585087478059194\n",
       "  σ2_a: Float64 224.70501410142128\n",
       "  σ2_s: Float64 0.42617368981785275\n",
       "  ϕ: Float64 0.0010000004126168743\n",
       "  τ_ϕ: Float64 0.021969464047496834\n",
       "\n",
       " θz{Float64}\n",
       "  σ2_i: Float64 41.88258101851687\n",
       "  B: Float64 39.999991532171165\n",
       "  λ: Float64 -0.7196860706531212\n",
       "  σ2_a: Float64 200.1652187680864\n",
       "  σ2_s: Float64 1.0787320171918715\n",
       "  ϕ: Float64 0.001001614205187946\n",
       "  τ_ϕ: Float64 0.024814957238964323\n",
       "\n",
       " θz{Float64}\n",
       "  σ2_i: Float64 36.28315811570533\n",
       "  B: Float64 39.99978515154718\n",
       "  λ: Float64 -0.8134001437177208\n",
       "  σ2_a: Float64 169.39114209676328\n",
       "  σ2_s: Float64 1.5604769566292327\n",
       "  ϕ: Float64 0.0010026582975990641\n",
       "  τ_ϕ: Float64 0.022035076288783227\n"
      ]
     },
     "execution_count": 46,
     "metadata": {},
     "output_type": "execute_result"
    }
   ],
   "source": [
    "getfield.(getfield.(joint_model_folds_STR_sep, :θ), :θz)"
   ]
  },
  {
   "cell_type": "code",
   "execution_count": 47,
   "metadata": {},
   "outputs": [
    {
     "data": {
      "text/plain": [
       "5-element Vector{θz{Float64}}:\n",
       " θz{Float64}\n",
       "  σ2_i: Float64 23.91906695607539\n",
       "  B: Float64 18.798078047465285\n",
       "  λ: Float64 0.2606688156465576\n",
       "  σ2_a: Float64 192.67520349778238\n",
       "  σ2_s: Float64 0.43907331630413765\n",
       "  ϕ: Float64 0.12520363685991387\n",
       "  τ_ϕ: Float64 0.01671224963841894\n",
       "\n",
       " θz{Float64}\n",
       "  σ2_i: Float64 23.22188660654463\n",
       "  B: Float64 39.87975516685547\n",
       "  λ: Float64 -0.6619346686676844\n",
       "  σ2_a: Float64 177.88724640216168\n",
       "  σ2_s: Float64 1.3070210998879257\n",
       "  ϕ: Float64 0.016091574733121467\n",
       "  τ_ϕ: Float64 0.019303960505075414\n",
       "\n",
       " θz{Float64}\n",
       "  σ2_i: Float64 25.915529300144268\n",
       "  B: Float64 19.563913034399906\n",
       "  λ: Float64 0.04781264718440683\n",
       "  σ2_a: Float64 194.04790914974453\n",
       "  σ2_s: Float64 0.6703019116401673\n",
       "  ϕ: Float64 0.0756960675267524\n",
       "  τ_ϕ: Float64 0.018448805988438614\n",
       "\n",
       " θz{Float64}\n",
       "  σ2_i: Float64 20.393300266601532\n",
       "  B: Float64 39.99995119695791\n",
       "  λ: Float64 -0.6668943650124093\n",
       "  σ2_a: Float64 181.65714886413556\n",
       "  σ2_s: Float64 0.8217914673359119\n",
       "  ϕ: Float64 0.001002906036486115\n",
       "  τ_ϕ: Float64 0.020833547517262983\n",
       "\n",
       " θz{Float64}\n",
       "  σ2_i: Float64 18.026671148975645\n",
       "  B: Float64 39.803251045209684\n",
       "  λ: Float64 -0.7287675618285676\n",
       "  σ2_a: Float64 147.77905153543023\n",
       "  σ2_s: Float64 1.5736788652373497\n",
       "  ϕ: Float64 0.016417639174089695\n",
       "  τ_ϕ: Float64 0.01953268453853905\n"
      ]
     },
     "execution_count": 47,
     "metadata": {},
     "output_type": "execute_result"
    }
   ],
   "source": [
    "getfield.(getfield.(joint_model_folds_STR, :θ), :θz)"
   ]
  },
  {
   "cell_type": "code",
   "execution_count": 48,
   "metadata": {},
   "outputs": [
    {
     "data": {
      "text/plain": [
       "5-element Vector{θz{Float64}}:\n",
       " θz{Float64}\n",
       "  σ2_i: Float64 21.172648437794525\n",
       "  B: Float64 39.95355449213889\n",
       "  λ: Float64 -0.7626461652985859\n",
       "  σ2_a: Float64 213.27957945090196\n",
       "  σ2_s: Float64 0.001003982807002487\n",
       "  ϕ: Float64 0.0538653930818692\n",
       "  τ_ϕ: Float64 0.01882752875374399\n",
       "\n",
       " θz{Float64}\n",
       "  σ2_i: Float64 19.64440276410493\n",
       "  B: Float64 39.5495342443759\n",
       "  λ: Float64 -0.8016564029604687\n",
       "  σ2_a: Float64 185.8832283998723\n",
       "  σ2_s: Float64 0.001003480204144361\n",
       "  ϕ: Float64 0.055573082138472146\n",
       "  τ_ϕ: Float64 0.021814456014579257\n",
       "\n",
       " θz{Float64}\n",
       "  σ2_i: Float64 22.575789277108022\n",
       "  B: Float64 39.73503342914772\n",
       "  λ: Float64 -0.8063050480448488\n",
       "  σ2_a: Float64 227.20959595315816\n",
       "  σ2_s: Float64 0.0010000037529199056\n",
       "  ϕ: Float64 0.08460017076538148\n",
       "  τ_ϕ: Float64 0.0206405415170064\n",
       "\n",
       " θz{Float64}\n",
       "  σ2_i: Float64 18.798370060186926\n",
       "  B: Float64 39.77230868005868\n",
       "  λ: Float64 -0.8078730068133059\n",
       "  σ2_a: Float64 199.6535914291583\n",
       "  σ2_s: Float64 0.001000016260106467\n",
       "  ϕ: Float64 0.026548071576482733\n",
       "  τ_ϕ: Float64 0.02114948426839322\n",
       "\n",
       " θz{Float64}\n",
       "  σ2_i: Float64 17.15991695479105\n",
       "  B: Float64 39.99999997363537\n",
       "  λ: Float64 -0.8054665163107949\n",
       "  σ2_a: Float64 169.79792957588128\n",
       "  σ2_s: Float64 0.47734506869022947\n",
       "  ϕ: Float64 0.007433714983743973\n",
       "  τ_ϕ: Float64 0.019479004809917475\n"
      ]
     },
     "execution_count": 48,
     "metadata": {},
     "output_type": "execute_result"
    }
   ],
   "source": [
    "getfield.(getfield.(neural_model_folds_STR, :θ), :θz)"
   ]
  },
  {
   "cell_type": "code",
   "execution_count": 49,
   "metadata": {},
   "outputs": [],
   "source": [
    "ps = [\"\\$\\\\sigma_i\\$\", \"B\", \"λ\", \"\\$\\\\sigma_a\\$\", \"\\$\\\\sigma_s\\$\", \"ϕ\", \"\\$\\\\tau_\\\\phi\\$\"];"
   ]
  },
  {
   "cell_type": "code",
   "execution_count": 50,
   "metadata": {},
   "outputs": [],
   "source": [
    "using Colors\n",
    "my_colors_STR= map(x-> \"#\"*x, hex.(range(colorant\"#A01892\", stop=colorant\"#E9E62F\", length=2)));\n",
    "my_colors_PPC= map(x-> \"#\"*x, hex.(range(colorant\"#1822A0\", stop=colorant\"#E99C2F\", length=2)));\n",
    "my_colors_FOF= map(x-> \"#\"*x, hex.(range(colorant\"red\", stop=colorant\"green\", length=2)));"
   ]
  },
  {
   "cell_type": "code",
   "execution_count": 51,
   "metadata": {},
   "outputs": [],
   "source": [
    "ps2 = [:σ2_i, :B, :λ, :σ2_a, :σ2_s, :ϕ, :τ_ϕ];"
   ]
  },
  {
   "cell_type": "code",
   "execution_count": 52,
   "metadata": {},
   "outputs": [],
   "source": [
    "x_neural_STR = map(x-> getfield.(getfield.(getfield.(neural_model_folds_STR, :θ), :θz), x), ps2);\n",
    "x_neural_STR_sep = map(x-> getfield.(getfield.(getfield.(neural_model_folds_STR_sep, :θ), :θz), x), ps2);\n",
    "x_neural_FOF = map(x-> getfield.(getfield.(getfield.(neural_model_folds_FOF, :θ), :θz), x), ps2);\n",
    "x_neural_FOF_sep = map(x-> getfield.(getfield.(getfield.(neural_model_folds_FOF_sep, :θ), :θz), x), ps2);\n",
    "\n",
    "x_joint_STR = map(x-> getfield.(getfield.(getfield.(joint_model_folds_STR, :θ), :θz), x), ps2);\n",
    "x_joint_STR_sep = map(x-> getfield.(getfield.(getfield.(joint_model_folds_STR_sep, :θ), :θz), x), ps2);\n",
    "x_joint_FOF = map(x-> getfield.(getfield.(getfield.(joint_model_folds_FOF, :θ), :θz), x), ps2);\n",
    "x_joint_FOF_sep = map(x-> getfield.(getfield.(getfield.(joint_model_folds_FOF_sep, :θ), :θz), x), ps2);"
   ]
  },
  {
   "cell_type": "code",
   "execution_count": 56,
   "metadata": {},
   "outputs": [
    {
     "data": {
      "text/plain": [
       "5-element Vector{Float64}:\n",
       " 4.450693513631072\n",
       " 6.809493275510911\n",
       " 4.486459960741196\n",
       " 5.37825124541178\n",
       " 4.685690159488643"
      ]
     },
     "execution_count": 56,
     "metadata": {},
     "output_type": "execute_result"
    }
   ],
   "source": [
    "x_joint_FOF[1]"
   ]
  },
  {
   "cell_type": "code",
   "execution_count": 54,
   "metadata": {
    "scrolled": false
   },
   "outputs": [
    {
     "data": {
      "image/png": "[encoded data removed]",
      "text/plain": [
       "Figure(PyObject <Figure size 900x2100 with 7 Axes>)"
      ]
     },
     "metadata": {},
     "output_type": "display_data"
    }
   ],
   "source": [
    "figure(figsize=(3, 7), dpi=300, frameon=true)\n",
    "elinewidth=1\n",
    "fs = 6\n",
    "ms = 2\n",
    "cs = 1.5\n",
    "mycolors = [\"red\", \"#1822A0\", \"#A01892\"]\n",
    "\n",
    "rc(\"xtick\", labelsize=fs)\n",
    "rc(\"ytick\", labelsize=fs)\n",
    "rc(\"font\", family=\"sans-serif\")\n",
    "\n",
    "#tot_rats = length(mycolors)\n",
    "blahs = vcat([\"joint\", \"joint \\n (ind.)\", \"neural\", \"neural \\n (ind.)\"], [\"joint\", \"joint \\n (ind.)\", \"neural\", \"neural \\n (ind.)\"])\n",
    "#subplts = vcat(1:3:7*3, 2:3:7*3, 3:3:7*3)\n",
    "#plt1 = [1.2,3.2,5.2]\n",
    "#plt2 = [1.8,3.8,5.8]\n",
    "\n",
    "for i = 1:7\n",
    "    \n",
    "    subplot(7,1,i)  \n",
    "    j = 1\n",
    "    plot(1.2 * ones(5) .+ (5e-2 .* randn(5)), x_joint_FOF[i], color=my_colors_FOF[1], marker=\"+\",\n",
    "        markersize=2, linestyle=\"none\")\n",
    "    plot(2.2 * ones(5) .+ (5e-2 .* randn(5)), x_joint_FOF_sep[i], color=my_colors_FOF[1], marker=\"+\",\n",
    "        markersize=2, linestyle=\"none\")\n",
    "    plot(3.2 * ones(5) .+ (5e-2 .* randn(5)), x_neural_FOF[i], color=my_colors_FOF[1], marker=\"+\",\n",
    "        markersize=2, linestyle=\"none\", label=\"blah\")\n",
    "    plot(4.2 * ones(5) .+ (5e-2 .* randn(5)), x_neural_FOF_sep[i], color=my_colors_FOF[1], marker=\"+\",\n",
    "        markersize=2, linestyle=\"none\", label=\"blah\")\n",
    "    \n",
    "   \n",
    "    j = 2\n",
    "    plot(5.7 * ones(5) .+ (5e-2 .* randn(5)), x_joint_STR[i], color=my_colors_STR[1], marker=\"+\",\n",
    "        markersize=2, linestyle=\"none\")\n",
    "    plot(6.7 * ones(5) .+ (5e-2 .* randn(5)), x_joint_STR_sep[i], color=my_colors_STR[1], marker=\"+\",\n",
    "        markersize=2, linestyle=\"none\")\n",
    "    plot(7.7 * ones(5) .+ (5e-2 .* randn(5)), x_neural_STR[i], color=my_colors_STR[1], marker=\"+\",\n",
    "        markersize=2, linestyle=\"none\")\n",
    "    plot(8.7 * ones(5) .+ (5e-2 .* randn(5)), x_neural_STR_sep[i], color=my_colors_STR[1], marker=\"+\",\n",
    "        markersize=2, linestyle=\"none\")\n",
    "    \n",
    "\n",
    "    ylabel(ps[i], fontsize=fs)\n",
    "    xlim(0.9,8.9)\n",
    "    \n",
    "    ax = gca()\n",
    "    ax.xaxis.set_ticks_position(\"bottom\")\n",
    "    ax.spines[\"right\"].set_visible(false)\n",
    "    ax.spines[\"top\"].set_visible(false)\n",
    "    ax.spines[\"left\"].set_linewidth(0.5)\n",
    "    ax.tick_params(width=0.5, length=2)\n",
    "    \n",
    "    if i == 1\n",
    "        legend(fontsize=1, loc=\"upper left\")\n",
    "        ylim(-5, 55)\n",
    "        ax.set_yticks(range(0, stop=40, length=3), minor=false)  \n",
    "        ax.set_yticks(range(0, stop=50, length=6), minor=true)\n",
    "        ax.xaxis.set_visible(false)\n",
    "        ax.spines[\"bottom\"].set_visible(false)\n",
    "    elseif i == 2\n",
    "        ylim(0, 55)\n",
    "        ax.set_yticks(range(0, stop=40, length=3), minor=false)  \n",
    "        ax.set_yticks(range(0, stop=50, length=6), minor=true)\n",
    "        ax.xaxis.set_visible(false)\n",
    "        ax.spines[\"bottom\"].set_visible(false)\n",
    "    elseif i == 3\n",
    "        ylim(-2.5, 2.5) \n",
    "        ax.set_yticks(range(-2, stop=2, length=5), minor=false)  \n",
    "        ax.set_yticks(range(-2.5, stop=2.5, length=11), minor=true)\n",
    "        ax.xaxis.set_visible(false)\n",
    "        ax.spines[\"bottom\"].set_visible(false)\n",
    "    elseif i == 4\n",
    "        ylim(-10, 300)\n",
    "        ax.set_yticks(range(0, stop=300, length=4), minor=false)  \n",
    "        ax.set_yticks(range(0, stop=300, length=7), minor=true)\n",
    "        ax.xaxis.set_visible(false)\n",
    "        ax.spines[\"bottom\"].set_visible(false)\n",
    "    elseif i == 5\n",
    "        ylim(40 * -0.5, 40 * 9)\n",
    "        ax.set_yticks(range(0, stop=40 * 8, length=5), minor=false)  \n",
    "        ax.set_yticks(range(0, stop=40 * 9, length=10), minor=true)\n",
    "        ax.xaxis.set_visible(false)\n",
    "        ax.spines[\"bottom\"].set_visible(false)\n",
    "    elseif i == 6\n",
    "        ylim(-0.05, 0.85)\n",
    "        ax.set_yticks(range(0, stop=0.8, length=5), minor=false)\n",
    "        ax.set_yticks(range(0, stop=0.8, length=9), minor=true)\n",
    "        ax.xaxis.set_visible(false)\n",
    "        ax.spines[\"bottom\"].set_visible(false)\n",
    "    elseif i == 7\n",
    "        ylim(0., 0.10)\n",
    "        ax.set_yticks(range(0, stop=0.1, length=3), minor=false)  \n",
    "        ax.set_yticks(range(0, stop=0.1, length=11), minor=true)\n",
    "        xticks(vcat(1:4, 5.5:8.5), blahs, rotation=0) \n",
    "        ax.spines[\"bottom\"].set_linewidth(0.5)\n",
    "    end\n",
    "    \n",
    "end\n",
    "\n",
    "tight_layout()\n",
    "PyPlot.savefig(ENV[\"HOME\"]*\"/Projects/briandepasquale/bdd_work/figures/paper/Supp/Supp-parameters_.pdf\")"
   ]
  },
  {
   "cell_type": "markdown",
   "metadata": {},
   "source": [
    "## Use Sigma_i"
   ]
  },
  {
   "cell_type": "code",
   "execution_count": 60,
   "metadata": {},
   "outputs": [
    {
     "data": {
      "text/plain": [
       "55-element Vector{Float64}:\n",
       "  42.491317332404186\n",
       "  39.99986425949562\n",
       "  -0.6800554863737305\n",
       " 203.45333978292317\n",
       "   0.5407327080138064\n",
       "   0.0010001023205439758\n",
       "   0.0242469737322717\n",
       "   1.6029086069822034\n",
       "   1.3810422031045804\n",
       "   1.2412399161868553\n",
       "   0.6402454000190397\n",
       "   0.02685049110068571\n",
       "  -0.48930004099367913\n",
       "   ⋮\n",
       "  -0.22960052969469524\n",
       "  -1.0461394711207714\n",
       "  -0.9973773458930292\n",
       "  -0.7530676702736099\n",
       "  -0.15819246874144394\n",
       "  -0.3324706508606546\n",
       "  -0.24637958808174218\n",
       "   0.07677261510938344\n",
       "   1.7081137074280692\n",
       "  -0.7011739087344938\n",
       "  -1.2304805792525866\n",
       "  -0.46201849293396935"
      ]
     },
     "execution_count": 60,
     "metadata": {},
     "output_type": "execute_result"
    }
   ],
   "source": [
    "flatten(neural_model_folds_STR_sep[1].θ)"
   ]
  },
  {
   "cell_type": "code",
   "execution_count": 61,
   "metadata": {},
   "outputs": [
    {
     "data": {
      "text/plain": [
       "55-element Vector{Float64}:\n",
       "  21.172648437794525\n",
       "  39.95355449213889\n",
       "  -0.7626461652985859\n",
       " 213.27957945090196\n",
       "   0.001003982807002487\n",
       "   0.0538653930818692\n",
       "   0.01882752875374399\n",
       "   1.691956418754939\n",
       "   1.0908143084651953\n",
       "   1.1636505130258261\n",
       "   0.70350198133635\n",
       "   0.019346715696140892\n",
       "  -0.526479014582464\n",
       "   ⋮\n",
       "  -0.11044207183325414\n",
       "  -0.7666325208434439\n",
       "  -1.1262301015022655\n",
       "  -0.7628226794195767\n",
       "  -0.15981356850833536\n",
       "  -0.3452983597939874\n",
       "  -0.2243806756537963\n",
       "   0.10303824842180719\n",
       "  -1.5698699036497197\n",
       "  -0.8323205744607509\n",
       "  -1.3584378093363396\n",
       "  -0.4897683331385297"
      ]
     },
     "execution_count": 61,
     "metadata": {},
     "output_type": "execute_result"
    }
   ],
   "source": [
    "flatten(neural_model_folds_STR[1].θ)"
   ]
  },
  {
   "cell_type": "code",
   "execution_count": 85,
   "metadata": {},
   "outputs": [],
   "source": [
    "fold = 1;\n",
    "xfolds = flatten(neural_model_folds_STR_sep[fold].θ);\n",
    "xfolds2 = flatten(neural_model_folds_STR[fold].θ);\n",
    "xfolds3 = vcat(xfolds2[1], xfolds[2:end]);"
   ]
  },
  {
   "cell_type": "code",
   "execution_count": 123,
   "metadata": {},
   "outputs": [],
   "source": [
    "LL_joint_STR_folds_switch = Vector{Float64}(undef,5)\n",
    "joint_model_folds_STR_switch = Vector(undef,5)\n",
    "\n",
    "region = \"STR\"\n",
    "ntrials = length.(data_STR);\n",
    "\n",
    "for fold in 1:5\n",
    "    \n",
    "    train = map(ntrials -> vcat(collect.(partition(1:ntrials, ceil(Int, ntrials/5)))[setdiff(1:5, fold)]...), ntrials)\n",
    "    test = map((ntrials, train)-> setdiff(1:ntrials, train), ntrials, train)\n",
    "    test_data_STR = map((data, train)-> data[train], data_STR, test)\n",
    "    train_data_STR = map((data, train)-> data[train], data_STR, train)\n",
    "\n",
    "    xfolds = flatten(joint_model_folds_STR_sep[fold].θ);\n",
    "    xfolds2 = flatten(joint_model_folds_STR[fold].θ);\n",
    "    xfolds3 = vcat(xfolds2[1], xfolds[2:end])\n",
    "    #xfolds3 = vcat(xfolds2[1:end])\n",
    "    \n",
    "    f = all_Softplus(data_STR)      \n",
    "    \n",
    "    joint_model_folds_STR_switch[fold] = neural_choiceDDM(θneural_choice(xfolds3, f), test_data_STR, n, cross);\n",
    "\n",
    "    LL_joint_STR_folds_switch[fold] = (pulse_input_DDM.sep_joint_loglikelihood(joint_model_folds_STR_switch[fold]))/(log(2) * \n",
    "        length(vcat(test...)));\n",
    "    \n",
    "end"
   ]
  },
  {
   "cell_type": "code",
   "execution_count": 124,
   "metadata": {},
   "outputs": [
    {
     "data": {
      "text/plain": [
       "5-element Vector{Float64}:\n",
       " -103.27344876385962\n",
       " -104.035514898973\n",
       " -102.06863681320301\n",
       " -101.2390608339242\n",
       "  -98.68478250251222"
      ]
     },
     "execution_count": 124,
     "metadata": {},
     "output_type": "execute_result"
    }
   ],
   "source": [
    "LL_joint_STR_folds_switch"
   ]
  },
  {
   "cell_type": "code",
   "execution_count": 125,
   "metadata": {},
   "outputs": [
    {
     "data": {
      "text/plain": [
       "5-element Vector{Float64}:\n",
       " -103.23063774430663\n",
       " -104.02929405716459\n",
       " -102.04901934578645\n",
       " -101.20288269751951\n",
       "  -98.5883712948498"
      ]
     },
     "execution_count": 125,
     "metadata": {},
     "output_type": "execute_result"
    }
   ],
   "source": [
    "LL_joint_STR_folds_sep"
   ]
  },
  {
   "cell_type": "code",
   "execution_count": 126,
   "metadata": {},
   "outputs": [
    {
     "data": {
      "text/plain": [
       "5-element Vector{Float64}:\n",
       " -103.5971360317222\n",
       " -104.2578335346035\n",
       " -102.34732411038634\n",
       " -101.50765608247852\n",
       "  -99.4403710904737"
      ]
     },
     "execution_count": 126,
     "metadata": {},
     "output_type": "execute_result"
    }
   ],
   "source": [
    "LL_joint_STR_folds"
   ]
  },
  {
   "cell_type": "code",
   "execution_count": 127,
   "metadata": {},
   "outputs": [
    {
     "data": {
      "image/png": "[encoded data removed]",
      "text/plain": [
       "Figure(PyObject <Figure size 375x375 with 1 Axes>)"
      ]
     },
     "metadata": {},
     "output_type": "display_data"
    }
   ],
   "source": [
    "figure(figsize=(1.25, 1.25), dpi=300, frameon=true)\n",
    "\n",
    "mycolors = [\"red\", \"#A01892\"]\n",
    "rc(\"xtick\", labelsize=6)\n",
    "rc(\"ytick\", labelsize=6)\n",
    "\n",
    "bar(1, mean(LL_joint_STR_folds_sep - LL_joint_STR_folds), color=mycolors[2]);\n",
    "bar(2, mean(LL_joint_STR_folds_switch - LL_joint_STR_folds), color=mycolors[2]);\n",
    "\n",
    "xticks([1, 2], [\"ADS\", \"ADS w/ shared sigma_i\"], rotation=90, fontsize=4)\n",
    "ylabel(\"Δbits/trial\", fontsize=6);\n",
    "\n",
    "ax = gca()\n",
    "ax.spines[\"right\"].set_visible(false)\n",
    "ax.spines[\"top\"].set_visible(false)\n",
    "ax.spines[\"bottom\"].set_linewidth(0.5)\n",
    "ax.spines[\"left\"].set_linewidth(0.5)\n",
    "ax.tick_params(width=0.5, length=2)\n",
    "ax.tick_params(which=\"minor\", width=0.5, length=1.5)\n",
    "ax.set_ylim(0, 0.5)\n",
    "\n",
    "tight_layout()\n",
    "PyPlot.savefig(ENV[\"HOME\"]*\"/Projects/briandepasquale/bdd_work/figures/paper/Supp/joint_switch.pdf\")"
   ]
  },
  {
   "cell_type": "code",
   "execution_count": null,
   "metadata": {},
   "outputs": [],
   "source": []
  }
 ],
 "metadata": {
  "kernelspec": {
   "display_name": "Julia 1.6.0",
   "language": "julia",
   "name": "julia-1.6"
  },
  "language_info": {
   "file_extension": ".jl",
   "mimetype": "application/julia",
   "name": "julia",
   "version": "1.6.0"
  }
 },
 "nbformat": 4,
 "nbformat_minor": 2
}
